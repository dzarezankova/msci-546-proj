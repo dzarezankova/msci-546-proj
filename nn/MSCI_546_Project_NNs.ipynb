{
 "nbformat": 4,
 "nbformat_minor": 0,
 "metadata": {
  "colab": {
   "provenance": [],
   "gpuType": "T4"
  },
  "kernelspec": {
   "name": "pycharm-668166ef",
   "language": "python",
   "display_name": "PyCharm (A1)"
  },
  "language_info": {
   "name": "python"
  },
  "accelerator": "GPU"
 },
 "cells": [
  {
   "cell_type": "code",
   "execution_count": 31,
   "metadata": {
    "id": "6EMUG4x4n2j-",
    "ExecuteTime": {
     "end_time": "2024-03-14T00:19:40.625969Z",
     "start_time": "2024-03-14T00:19:40.426519Z"
    }
   },
   "outputs": [],
   "source": [
    "# MSCI 546 Project:\n",
    "\n",
    "# Link to the original Kaggle Competition (Real Dataset): https://www.kaggle.com/code/kmalit/bank-customer-churn-prediction"
   ]
  },
  {
   "cell_type": "code",
   "source": [
    "\n",
    "# Libraries\n",
    "\n",
    "import numpy as np\n",
    "import pandas as pd\n",
    "\n",
    "import matplotlib as mpl\n",
    "import matplotlib.pyplot as plt\n",
    "\n",
    "import torch  # Main torch import for torch tensors\n",
    "import torch.nn as nn  # Neural network module for building deep learning models\n",
    "import torch.optim as optim  # Optimization module\n",
    "\n",
    "from sklearn.preprocessing import LabelEncoder\n",
    "from sklearn.model_selection import train_test_split\n",
    "from sklearn.metrics import accuracy_score\n"
   ],
   "metadata": {
    "id": "ZWvboMYzoICm",
    "ExecuteTime": {
     "end_time": "2024-03-14T00:19:40.626333Z",
     "start_time": "2024-03-14T00:19:40.447909Z"
    }
   },
   "execution_count": 32,
   "outputs": []
  },
  {
   "cell_type": "code",
   "source": [
    "# Synthetic Dataset: https://www.kaggle.com/competitions/playground-series-s4e1/data\n",
    "\n",
    "# Dataset import\n",
    "import os\n",
    "# Set directory to project root\n",
    "os.chdir('/Users/danazarezankova/Documents/BME 2024/BME 4B/MSCI 546/msci-546-proj')\n",
    "\n",
    "# Back to root directory\n",
    "synthetic_train_data = pd.read_csv('data/train.csv')\n",
    "\n",
    "synthetic_train_data.head()"
   ],
   "metadata": {
    "colab": {
     "base_uri": "https://localhost:8080/",
     "height": 224
    },
    "id": "lsKyonltoM--",
    "outputId": "76d77911-a631-431c-ca01-e236084c2042",
    "ExecuteTime": {
     "end_time": "2024-03-14T00:19:41.831591Z",
     "start_time": "2024-03-14T00:19:40.471925Z"
    }
   },
   "execution_count": 33,
   "outputs": [
    {
     "data": {
      "text/plain": "   id  CustomerId         Surname  CreditScore Geography Gender   Age  Tenure  \\\n0   0    15674932  Okwudilichukwu          668    France   Male  33.0       3   \n1   1    15749177   Okwudiliolisa          627    France   Male  33.0       1   \n2   2    15694510           Hsueh          678    France   Male  40.0      10   \n3   3    15741417             Kao          581    France   Male  34.0       2   \n4   4    15766172       Chiemenam          716     Spain   Male  33.0       5   \n\n     Balance  NumOfProducts  HasCrCard  IsActiveMember  EstimatedSalary  \\\n0       0.00              2        1.0             0.0        181449.97   \n1       0.00              2        1.0             1.0         49503.50   \n2       0.00              2        1.0             0.0        184866.69   \n3  148882.54              1        1.0             1.0         84560.88   \n4       0.00              2        1.0             1.0         15068.83   \n\n   Exited  \n0       0  \n1       0  \n2       0  \n3       0  \n4       0  ",
      "text/html": "<div>\n<style scoped>\n    .dataframe tbody tr th:only-of-type {\n        vertical-align: middle;\n    }\n\n    .dataframe tbody tr th {\n        vertical-align: top;\n    }\n\n    .dataframe thead th {\n        text-align: right;\n    }\n</style>\n<table border=\"1\" class=\"dataframe\">\n  <thead>\n    <tr style=\"text-align: right;\">\n      <th></th>\n      <th>id</th>\n      <th>CustomerId</th>\n      <th>Surname</th>\n      <th>CreditScore</th>\n      <th>Geography</th>\n      <th>Gender</th>\n      <th>Age</th>\n      <th>Tenure</th>\n      <th>Balance</th>\n      <th>NumOfProducts</th>\n      <th>HasCrCard</th>\n      <th>IsActiveMember</th>\n      <th>EstimatedSalary</th>\n      <th>Exited</th>\n    </tr>\n  </thead>\n  <tbody>\n    <tr>\n      <th>0</th>\n      <td>0</td>\n      <td>15674932</td>\n      <td>Okwudilichukwu</td>\n      <td>668</td>\n      <td>France</td>\n      <td>Male</td>\n      <td>33.0</td>\n      <td>3</td>\n      <td>0.00</td>\n      <td>2</td>\n      <td>1.0</td>\n      <td>0.0</td>\n      <td>181449.97</td>\n      <td>0</td>\n    </tr>\n    <tr>\n      <th>1</th>\n      <td>1</td>\n      <td>15749177</td>\n      <td>Okwudiliolisa</td>\n      <td>627</td>\n      <td>France</td>\n      <td>Male</td>\n      <td>33.0</td>\n      <td>1</td>\n      <td>0.00</td>\n      <td>2</td>\n      <td>1.0</td>\n      <td>1.0</td>\n      <td>49503.50</td>\n      <td>0</td>\n    </tr>\n    <tr>\n      <th>2</th>\n      <td>2</td>\n      <td>15694510</td>\n      <td>Hsueh</td>\n      <td>678</td>\n      <td>France</td>\n      <td>Male</td>\n      <td>40.0</td>\n      <td>10</td>\n      <td>0.00</td>\n      <td>2</td>\n      <td>1.0</td>\n      <td>0.0</td>\n      <td>184866.69</td>\n      <td>0</td>\n    </tr>\n    <tr>\n      <th>3</th>\n      <td>3</td>\n      <td>15741417</td>\n      <td>Kao</td>\n      <td>581</td>\n      <td>France</td>\n      <td>Male</td>\n      <td>34.0</td>\n      <td>2</td>\n      <td>148882.54</td>\n      <td>1</td>\n      <td>1.0</td>\n      <td>1.0</td>\n      <td>84560.88</td>\n      <td>0</td>\n    </tr>\n    <tr>\n      <th>4</th>\n      <td>4</td>\n      <td>15766172</td>\n      <td>Chiemenam</td>\n      <td>716</td>\n      <td>Spain</td>\n      <td>Male</td>\n      <td>33.0</td>\n      <td>5</td>\n      <td>0.00</td>\n      <td>2</td>\n      <td>1.0</td>\n      <td>1.0</td>\n      <td>15068.83</td>\n      <td>0</td>\n    </tr>\n  </tbody>\n</table>\n</div>"
     },
     "execution_count": 33,
     "metadata": {},
     "output_type": "execute_result"
    }
   ]
  },
  {
   "cell_type": "code",
   "source": [
    "# Label encoding for text data:\n",
    "encoder = LabelEncoder()\n",
    "categorical_features_train = synthetic_train_data.select_dtypes(include = 'object').columns\n",
    "print(\"Categorical features: \", categorical_features_train)\n",
    "for feature in categorical_features_train:\n",
    "    synthetic_train_data[feature] = encoder.fit_transform(synthetic_train_data[feature])\n",
    "\n",
    "# MinMax Scaler for credit score\n",
    "from sklearn.preprocessing import MinMaxScaler\n",
    "scaler = MinMaxScaler()\n",
    "synthetic_train_data['CreditScore'] = scaler.fit_transform(synthetic_train_data[['CreditScore']])\n",
    "\n",
    "# Robust Scaler for Balance\n",
    "from sklearn.preprocessing import RobustScaler\n",
    "scaler = RobustScaler()\n",
    "synthetic_train_data['Balance'] = scaler.fit_transform(synthetic_train_data[['Balance']])\n",
    "\n",
    "# MinMax Scaler for Estimated Salary\n",
    "scaler = MinMaxScaler()\n",
    "synthetic_train_data['EstimatedSalary'] = scaler.fit_transform(synthetic_train_data[['EstimatedSalary']])\n",
    "\n",
    "# Age / 100\n",
    "synthetic_train_data['Age'] = synthetic_train_data['Age'] / 100\n",
    "\n",
    "synthetic_train_data.drop('id', axis=1, inplace=True)\n",
    "synthetic_train_data.drop('CustomerId', axis=1, inplace=True)\n",
    "synthetic_train_data.drop('Surname', axis=1, inplace=True)\n",
    "synthetic_train_data.dropna(inplace=True)\n",
    "\n",
    "X = synthetic_train_data.drop('Exited', axis=1)\n",
    "y = synthetic_train_data['Exited']\n"
   ],
   "metadata": {
    "colab": {
     "base_uri": "https://localhost:8080/"
    },
    "id": "GtZk7FrqEA49",
    "outputId": "99a5bc62-4e09-428d-944e-715a6e36c117",
    "ExecuteTime": {
     "end_time": "2024-03-14T00:19:42.521395Z",
     "start_time": "2024-03-14T00:19:41.851089Z"
    }
   },
   "execution_count": 34,
   "outputs": [
    {
     "name": "stdout",
     "output_type": "stream",
     "text": [
      "Categorical features:  Index(['Surname', 'Geography', 'Gender'], dtype='object')\n"
     ]
    }
   ]
  },
  {
   "cell_type": "code",
   "execution_count": 35,
   "outputs": [
    {
     "data": {
      "text/plain": "         CreditScore      Geography         Gender            Age  \\\ncount  165034.000000  165034.000000  165034.000000  165034.000000   \nmean        0.612909       0.648545       0.564429       0.381259   \nstd         0.160207       0.816574       0.495833       0.088672   \nmin         0.000000       0.000000       0.000000       0.180000   \n25%         0.494000       0.000000       0.000000       0.320000   \n50%         0.618000       0.000000       1.000000       0.370000   \n75%         0.720000       1.000000       1.000000       0.420000   \nmax         1.000000       2.000000       1.000000       0.920000   \n\n              Tenure        Balance  NumOfProducts      HasCrCard  \\\ncount  165034.000000  165034.000000  165034.000000  165034.000000   \nmean        5.020353       0.462551       1.554455       0.753954   \nstd         2.806159       0.523745       0.547154       0.430707   \nmin         0.000000       0.000000       1.000000       0.000000   \n25%         3.000000       0.000000       1.000000       1.000000   \n50%         5.000000       0.000000       2.000000       1.000000   \n75%         7.000000       1.000000       2.000000       1.000000   \nmax        10.000000       2.091872       4.000000       1.000000   \n\n       IsActiveMember  EstimatedSalary  \ncount   165034.000000    165034.000000  \nmean         0.497770         0.562870  \nstd          0.499997         0.251488  \nmin          0.000000         0.000000  \n25%          0.000000         0.373166  \n50%          0.000000         0.589738  \n75%          1.000000         0.775779  \nmax          1.000000         1.000000  ",
      "text/html": "<div>\n<style scoped>\n    .dataframe tbody tr th:only-of-type {\n        vertical-align: middle;\n    }\n\n    .dataframe tbody tr th {\n        vertical-align: top;\n    }\n\n    .dataframe thead th {\n        text-align: right;\n    }\n</style>\n<table border=\"1\" class=\"dataframe\">\n  <thead>\n    <tr style=\"text-align: right;\">\n      <th></th>\n      <th>CreditScore</th>\n      <th>Geography</th>\n      <th>Gender</th>\n      <th>Age</th>\n      <th>Tenure</th>\n      <th>Balance</th>\n      <th>NumOfProducts</th>\n      <th>HasCrCard</th>\n      <th>IsActiveMember</th>\n      <th>EstimatedSalary</th>\n    </tr>\n  </thead>\n  <tbody>\n    <tr>\n      <th>count</th>\n      <td>165034.000000</td>\n      <td>165034.000000</td>\n      <td>165034.000000</td>\n      <td>165034.000000</td>\n      <td>165034.000000</td>\n      <td>165034.000000</td>\n      <td>165034.000000</td>\n      <td>165034.000000</td>\n      <td>165034.000000</td>\n      <td>165034.000000</td>\n    </tr>\n    <tr>\n      <th>mean</th>\n      <td>0.612909</td>\n      <td>0.648545</td>\n      <td>0.564429</td>\n      <td>0.381259</td>\n      <td>5.020353</td>\n      <td>0.462551</td>\n      <td>1.554455</td>\n      <td>0.753954</td>\n      <td>0.497770</td>\n      <td>0.562870</td>\n    </tr>\n    <tr>\n      <th>std</th>\n      <td>0.160207</td>\n      <td>0.816574</td>\n      <td>0.495833</td>\n      <td>0.088672</td>\n      <td>2.806159</td>\n      <td>0.523745</td>\n      <td>0.547154</td>\n      <td>0.430707</td>\n      <td>0.499997</td>\n      <td>0.251488</td>\n    </tr>\n    <tr>\n      <th>min</th>\n      <td>0.000000</td>\n      <td>0.000000</td>\n      <td>0.000000</td>\n      <td>0.180000</td>\n      <td>0.000000</td>\n      <td>0.000000</td>\n      <td>1.000000</td>\n      <td>0.000000</td>\n      <td>0.000000</td>\n      <td>0.000000</td>\n    </tr>\n    <tr>\n      <th>25%</th>\n      <td>0.494000</td>\n      <td>0.000000</td>\n      <td>0.000000</td>\n      <td>0.320000</td>\n      <td>3.000000</td>\n      <td>0.000000</td>\n      <td>1.000000</td>\n      <td>1.000000</td>\n      <td>0.000000</td>\n      <td>0.373166</td>\n    </tr>\n    <tr>\n      <th>50%</th>\n      <td>0.618000</td>\n      <td>0.000000</td>\n      <td>1.000000</td>\n      <td>0.370000</td>\n      <td>5.000000</td>\n      <td>0.000000</td>\n      <td>2.000000</td>\n      <td>1.000000</td>\n      <td>0.000000</td>\n      <td>0.589738</td>\n    </tr>\n    <tr>\n      <th>75%</th>\n      <td>0.720000</td>\n      <td>1.000000</td>\n      <td>1.000000</td>\n      <td>0.420000</td>\n      <td>7.000000</td>\n      <td>1.000000</td>\n      <td>2.000000</td>\n      <td>1.000000</td>\n      <td>1.000000</td>\n      <td>0.775779</td>\n    </tr>\n    <tr>\n      <th>max</th>\n      <td>1.000000</td>\n      <td>2.000000</td>\n      <td>1.000000</td>\n      <td>0.920000</td>\n      <td>10.000000</td>\n      <td>2.091872</td>\n      <td>4.000000</td>\n      <td>1.000000</td>\n      <td>1.000000</td>\n      <td>1.000000</td>\n    </tr>\n  </tbody>\n</table>\n</div>"
     },
     "execution_count": 35,
     "metadata": {},
     "output_type": "execute_result"
    }
   ],
   "source": [
    "X.describe()\n"
   ],
   "metadata": {
    "colab": {
     "base_uri": "https://localhost:8080/",
     "height": 317
    },
    "id": "rYBsy-pMr0sV",
    "outputId": "13d1088f-af64-4440-f4b9-ae0274280fcf",
    "ExecuteTime": {
     "end_time": "2024-03-14T00:19:42.768014Z",
     "start_time": "2024-03-14T00:19:42.529840Z"
    }
   }
  },
  {
   "cell_type": "code",
   "execution_count": 36,
   "outputs": [],
   "source": [
    "# Convert the data to PyTorch tensors\n",
    "X = torch.tensor(X.values, dtype=torch.float32)\n",
    "y = torch.tensor(y.values, dtype=torch.float32).reshape(-1, 1)"
   ],
   "metadata": {
    "collapsed": false,
    "ExecuteTime": {
     "end_time": "2024-03-14T00:19:42.881373Z",
     "start_time": "2024-03-14T00:19:42.757502Z"
    }
   }
  },
  {
   "cell_type": "code",
   "execution_count": 37,
   "outputs": [],
   "source": [
    "# Split the data into training and testing sets\n",
    "X_train, X_test, y_train, y_test = train_test_split(X, y, test_size=0.2, random_state=42)"
   ],
   "metadata": {
    "collapsed": false,
    "ExecuteTime": {
     "end_time": "2024-03-14T00:19:43.020042Z",
     "start_time": "2024-03-14T00:19:42.814423Z"
    }
   }
  },
  {
   "cell_type": "code",
   "execution_count": 38,
   "outputs": [],
   "source": [
    "model = nn.Sequential(\n",
    "    nn.Linear(10, 20), # 8 input nodes to 12 nodes in the first hidden layer\n",
    "    nn.ReLU(),        # ReLU activation for first hidden layer\n",
    "    nn.Linear(20, 10), # 12 nodes from first hidden layer to 8 in the second\n",
    "    nn.ReLU(),        # ReLU activation for second hidden layer\n",
    "    nn.Linear(10, 1),  # 8 nodes from second hidden layer to 1 output node\n",
    "    nn.Sigmoid()      # Sigmoid activation for output layer\n",
    ")"
   ],
   "metadata": {
    "collapsed": false,
    "ExecuteTime": {
     "end_time": "2024-03-14T00:19:43.047526Z",
     "start_time": "2024-03-14T00:19:42.890848Z"
    }
   }
  },
  {
   "cell_type": "code",
   "execution_count": 39,
   "outputs": [],
   "source": [
    "loss_fn = nn.BCELoss()\n",
    "optimizer = optim.Adam(model.parameters(), lr = 0.001)"
   ],
   "metadata": {
    "collapsed": false,
    "ExecuteTime": {
     "end_time": "2024-03-14T00:19:43.048189Z",
     "start_time": "2024-03-14T00:19:42.921246Z"
    }
   }
  },
  {
   "cell_type": "code",
   "execution_count": 40,
   "outputs": [
    {
     "name": "stdout",
     "output_type": "stream",
     "text": [
      "Epoch 0, loss 0.4591294825077057, accuracy 0.7884011779390914\n",
      "Finished epoch 0, latest loss 0.4591294825077057\n",
      "Finished epoch 1, latest loss 0.41841432452201843\n",
      "Finished epoch 2, latest loss 0.39631396532058716\n",
      "Finished epoch 3, latest loss 0.374592125415802\n",
      "Finished epoch 4, latest loss 0.36128365993499756\n",
      "Finished epoch 5, latest loss 0.3555643558502197\n",
      "Finished epoch 6, latest loss 0.3522562086582184\n",
      "Finished epoch 7, latest loss 0.34870970249176025\n",
      "Finished epoch 8, latest loss 0.3454146981239319\n",
      "Finished epoch 9, latest loss 0.3407660722732544\n",
      "Epoch 10, loss 0.33694374561309814, accuracy 0.8406691954385157\n",
      "Finished epoch 10, latest loss 0.33694374561309814\n",
      "Finished epoch 11, latest loss 0.33349156379699707\n",
      "Finished epoch 12, latest loss 0.32876870036125183\n",
      "Finished epoch 13, latest loss 0.32311201095581055\n",
      "Finished epoch 14, latest loss 0.3185547888278961\n",
      "Finished epoch 15, latest loss 0.3149762749671936\n",
      "Finished epoch 16, latest loss 0.31245100498199463\n",
      "Finished epoch 17, latest loss 0.31053343415260315\n",
      "Finished epoch 18, latest loss 0.3089549243450165\n",
      "Finished epoch 19, latest loss 0.3076576888561249\n",
      "Epoch 20, loss 0.3068487346172333, accuracy 0.8570597573833271\n",
      "Finished epoch 20, latest loss 0.3068487346172333\n",
      "Finished epoch 21, latest loss 0.3062784969806671\n",
      "Finished epoch 22, latest loss 0.3059643805027008\n",
      "Finished epoch 23, latest loss 0.3057248294353485\n",
      "Finished epoch 24, latest loss 0.30532434582710266\n",
      "Finished epoch 25, latest loss 0.3048853874206543\n",
      "Finished epoch 26, latest loss 0.3047024607658386\n",
      "Finished epoch 27, latest loss 0.3045714199542999\n",
      "Finished epoch 28, latest loss 0.304227739572525\n",
      "Finished epoch 29, latest loss 0.3042390048503876\n",
      "Epoch 30, loss 0.3042171597480774, accuracy 0.8588109116909243\n",
      "Finished epoch 30, latest loss 0.3042171597480774\n",
      "Finished epoch 31, latest loss 0.3041679859161377\n",
      "Finished epoch 32, latest loss 0.304119348526001\n",
      "Finished epoch 33, latest loss 0.30421701073646545\n",
      "Finished epoch 34, latest loss 0.30416634678840637\n",
      "Finished epoch 35, latest loss 0.30397284030914307\n",
      "Finished epoch 36, latest loss 0.30386027693748474\n",
      "Finished epoch 37, latest loss 0.3035971224308014\n",
      "Finished epoch 38, latest loss 0.30341434478759766\n",
      "Finished epoch 39, latest loss 0.30345287919044495\n",
      "Epoch 40, loss 0.30336421728134155, accuracy 0.859410788080032\n",
      "Finished epoch 40, latest loss 0.30336421728134155\n",
      "Finished epoch 41, latest loss 0.30327722430229187\n",
      "Finished epoch 42, latest loss 0.3032646179199219\n",
      "Finished epoch 43, latest loss 0.3031772971153259\n",
      "Finished epoch 44, latest loss 0.3029074966907501\n",
      "Finished epoch 45, latest loss 0.3028319776058197\n",
      "Finished epoch 46, latest loss 0.30246907472610474\n",
      "Finished epoch 47, latest loss 0.3022937774658203\n",
      "Finished epoch 48, latest loss 0.3020912706851959\n",
      "Finished epoch 49, latest loss 0.30198967456817627\n",
      "Epoch 50, loss 0.30190351605415344, accuracy 0.8597561714555788\n",
      "Finished epoch 50, latest loss 0.30190351605415344\n",
      "Finished epoch 51, latest loss 0.3018839955329895\n",
      "Finished epoch 52, latest loss 0.3018689751625061\n",
      "Finished epoch 53, latest loss 0.3018070459365845\n",
      "Finished epoch 54, latest loss 0.30163609981536865\n",
      "Finished epoch 55, latest loss 0.3015168309211731\n",
      "Finished epoch 56, latest loss 0.30149003863334656\n",
      "Finished epoch 57, latest loss 0.30141782760620117\n",
      "Finished epoch 58, latest loss 0.3014122545719147\n",
      "Finished epoch 59, latest loss 0.30143678188323975\n",
      "Epoch 60, loss 0.30154016613960266, accuracy 0.8602106232655089\n",
      "Finished epoch 60, latest loss 0.30154016613960266\n",
      "Finished epoch 61, latest loss 0.301553338766098\n",
      "Finished epoch 62, latest loss 0.3014652729034424\n",
      "Finished epoch 63, latest loss 0.30145472288131714\n",
      "Finished epoch 64, latest loss 0.3013511002063751\n",
      "Finished epoch 65, latest loss 0.3011974096298218\n",
      "Finished epoch 66, latest loss 0.30114057660102844\n",
      "Finished epoch 67, latest loss 0.30109381675720215\n",
      "Finished epoch 68, latest loss 0.30089569091796875\n",
      "Finished epoch 69, latest loss 0.30083563923835754\n",
      "Epoch 70, loss 0.3007211983203888, accuracy 0.8606893125053019\n",
      "Finished epoch 70, latest loss 0.3007211983203888\n",
      "Finished epoch 71, latest loss 0.30058157444000244\n",
      "Finished epoch 72, latest loss 0.30059733986854553\n",
      "Finished epoch 73, latest loss 0.3006187975406647\n",
      "Finished epoch 74, latest loss 0.3003857135772705\n",
      "Finished epoch 75, latest loss 0.3003406822681427\n",
      "Finished epoch 76, latest loss 0.3002048432826996\n",
      "Finished epoch 77, latest loss 0.3002425730228424\n",
      "Finished epoch 78, latest loss 0.30012330412864685\n",
      "Finished epoch 79, latest loss 0.3000393807888031\n",
      "Epoch 80, loss 0.3000166714191437, accuracy 0.8609862210211229\n",
      "Finished epoch 80, latest loss 0.3000166714191437\n",
      "Finished epoch 81, latest loss 0.29995331168174744\n",
      "Finished epoch 82, latest loss 0.2998461425304413\n",
      "Finished epoch 83, latest loss 0.2996867001056671\n",
      "Finished epoch 84, latest loss 0.29966920614242554\n",
      "Finished epoch 85, latest loss 0.29967424273490906\n",
      "Finished epoch 86, latest loss 0.2997013330459595\n",
      "Finished epoch 87, latest loss 0.2995159327983856\n",
      "Finished epoch 88, latest loss 0.29949235916137695\n",
      "Finished epoch 89, latest loss 0.29949751496315\n",
      "Epoch 90, loss 0.2994528114795685, accuracy 0.8613800792563957\n",
      "Finished epoch 90, latest loss 0.2994528114795685\n",
      "Finished epoch 91, latest loss 0.29953137040138245\n",
      "Finished epoch 92, latest loss 0.29949134588241577\n",
      "Finished epoch 93, latest loss 0.299398273229599\n",
      "Finished epoch 94, latest loss 0.2993617653846741\n",
      "Finished epoch 95, latest loss 0.29934364557266235\n",
      "Finished epoch 96, latest loss 0.29931843280792236\n",
      "Finished epoch 97, latest loss 0.29917722940444946\n",
      "Finished epoch 98, latest loss 0.29908204078674316\n",
      "Finished epoch 99, latest loss 0.2989514470100403\n"
     ]
    }
   ],
   "source": [
    "n_epochs = 100\n",
    "batch_size = 1028\n",
    "\n",
    "train_accuracies = []\n",
    "\n",
    "for epoch in range(n_epochs):\n",
    "    for i in range(0, len(X), batch_size):\n",
    "        Xbatch = X[i:i+batch_size]\n",
    "        y_pred = model(Xbatch)\n",
    "        ybatch = y[i:i+batch_size]\n",
    "        loss = loss_fn(y_pred, ybatch)\n",
    "        optimizer.zero_grad()\n",
    "        loss.backward()\n",
    "        optimizer.step()\n",
    "    if epoch % 10 == 0:\n",
    "        y_pred = model(X)\n",
    "        y_pred = y_pred.round().detach().numpy()\n",
    "        accuracy = accuracy_score(y, y_pred)\n",
    "        print(f'Epoch {epoch}, loss {loss}, accuracy {accuracy}')\n",
    "        train_accuracies.append(accuracy)\n",
    "    print(f'Finished epoch {epoch}, latest loss {loss}')"
   ],
   "metadata": {
    "collapsed": false,
    "ExecuteTime": {
     "end_time": "2024-03-14T00:20:32.269106Z",
     "start_time": "2024-03-14T00:19:42.948149Z"
    }
   }
  },
  {
   "cell_type": "code",
   "execution_count": 41,
   "outputs": [],
   "source": [
    "with torch.no_grad():\n",
    "  y_pred_test = model(X_test)\n",
    "  y_pred_test = y_pred_test.round().detach().numpy()\n",
    "  \n",
    "# Calculate the accuracy of the model\n",
    "accuracy = accuracy_score(y_test, y_pred_test)"
   ],
   "metadata": {
    "collapsed": false,
    "ExecuteTime": {
     "end_time": "2024-03-14T00:20:32.316085Z",
     "start_time": "2024-03-14T00:20:32.269730Z"
    }
   }
  },
  {
   "cell_type": "code",
   "execution_count": 42,
   "outputs": [
    {
     "name": "stdout",
     "output_type": "stream",
     "text": [
      "Accuracy of the model: 0.8622413427454783\n"
     ]
    }
   ],
   "source": [
    "print(f'Accuracy of the shallow NN model: {accuracy}')"
   ],
   "metadata": {
    "collapsed": false,
    "ExecuteTime": {
     "end_time": "2024-03-14T00:20:32.320696Z",
     "start_time": "2024-03-14T00:20:32.303912Z"
    }
   }
  },
  {
   "cell_type": "code",
   "execution_count": 56,
   "outputs": [
    {
     "data": {
      "text/plain": "<Figure size 640x480 with 1 Axes>",
      "image/png": "[encoded data removed]"
     },
     "metadata": {},
     "output_type": "display_data"
    }
   ],
   "source": [
    "# Plot the training accuracy\n",
    "plt.plot(range(0,100, 10), train_accuracies)\n",
    "plt.xlabel('Epoch')\n",
    "plt.ylabel('Accuracy')\n",
    "plt.title('Shallow Net Training Accuracy')\n",
    "plt.show()"
   ],
   "metadata": {
    "collapsed": false,
    "ExecuteTime": {
     "end_time": "2024-03-14T00:32:22.518758Z",
     "start_time": "2024-03-14T00:32:20.767988Z"
    }
   }
  },
  {
   "cell_type": "code",
   "execution_count": 42,
   "outputs": [],
   "source": [
    "# Increase model width and depth"
   ],
   "metadata": {
    "collapsed": false,
    "ExecuteTime": {
     "end_time": "2024-03-14T00:20:32.341249Z",
     "start_time": "2024-03-14T00:20:32.325407Z"
    }
   }
  },
  {
   "cell_type": "code",
   "execution_count": 44,
   "outputs": [],
   "source": [
    "model = nn.Sequential(\n",
    "    nn.Linear(10, 20), \n",
    "    nn.ReLU(),   \n",
    "    nn.Linear(20, 40),\n",
    "    nn.ReLU(),\n",
    "    nn.Linear(40, 20),\n",
    "    nn.ReLU(),   \n",
    "    nn.Linear(20, 10), \n",
    "    nn.ReLU(), \n",
    "    nn.Linear(10, 1), \n",
    "    nn.Sigmoid() \n",
    ")"
   ],
   "metadata": {
    "collapsed": false,
    "ExecuteTime": {
     "end_time": "2024-03-14T00:22:39.613429Z",
     "start_time": "2024-03-14T00:22:39.594823Z"
    }
   }
  },
  {
   "cell_type": "code",
   "execution_count": 45,
   "outputs": [],
   "source": [
    "loss_fn = nn.BCELoss()\n",
    "optimizer = optim.Adam(model.parameters(), lr = 0.01)"
   ],
   "metadata": {
    "collapsed": false,
    "ExecuteTime": {
     "end_time": "2024-03-14T00:22:39.866396Z",
     "start_time": "2024-03-14T00:22:39.802100Z"
    }
   }
  },
  {
   "cell_type": "code",
   "execution_count": 46,
   "outputs": [
    {
     "name": "stdout",
     "output_type": "stream",
     "text": [
      "Epoch 0, loss 0.35122647881507874, accuracy 0.836694256940994\n",
      "Finished epoch 0, latest loss 0.35122647881507874\n",
      "Finished epoch 1, latest loss 0.3249504268169403\n",
      "Finished epoch 2, latest loss 0.30679085850715637\n",
      "Finished epoch 3, latest loss 0.3033575415611267\n",
      "Finished epoch 4, latest loss 0.3009604215621948\n",
      "Finished epoch 5, latest loss 0.3028038442134857\n",
      "Finished epoch 6, latest loss 0.3005863428115845\n",
      "Finished epoch 7, latest loss 0.298362672328949\n",
      "Finished epoch 8, latest loss 0.3002917170524597\n",
      "Finished epoch 9, latest loss 0.30261778831481934\n",
      "Epoch 10, loss 0.2999499440193176, accuracy 0.8609498648763285\n",
      "Finished epoch 10, latest loss 0.2999499440193176\n",
      "Finished epoch 11, latest loss 0.30280357599258423\n",
      "Finished epoch 12, latest loss 0.300001323223114\n",
      "Finished epoch 13, latest loss 0.3003483712673187\n",
      "Finished epoch 14, latest loss 0.3038865923881531\n",
      "Finished epoch 15, latest loss 0.3006514310836792\n",
      "Finished epoch 16, latest loss 0.3008861243724823\n",
      "Finished epoch 17, latest loss 0.2978391945362091\n",
      "Finished epoch 18, latest loss 0.29877203702926636\n",
      "Finished epoch 19, latest loss 0.2990780472755432\n",
      "Epoch 20, loss 0.30298730731010437, accuracy 0.861258892107081\n",
      "Finished epoch 20, latest loss 0.30298730731010437\n",
      "Finished epoch 21, latest loss 0.29770025610923767\n",
      "Finished epoch 22, latest loss 0.29970839619636536\n",
      "Finished epoch 23, latest loss 0.29917797446250916\n",
      "Finished epoch 24, latest loss 0.3036227524280548\n",
      "Finished epoch 25, latest loss 0.301478773355484\n",
      "Finished epoch 26, latest loss 0.2993619740009308\n",
      "Finished epoch 27, latest loss 0.30024638772010803\n",
      "Finished epoch 28, latest loss 0.3015522360801697\n",
      "Finished epoch 29, latest loss 0.2992888391017914\n",
      "Epoch 30, loss 0.2997645437717438, accuracy 0.8605984221433159\n",
      "Finished epoch 30, latest loss 0.2997645437717438\n",
      "Finished epoch 31, latest loss 0.3014211654663086\n",
      "Finished epoch 32, latest loss 0.3021412193775177\n",
      "Finished epoch 33, latest loss 0.30086785554885864\n",
      "Finished epoch 34, latest loss 0.2992855906486511\n",
      "Finished epoch 35, latest loss 0.29967403411865234\n",
      "Finished epoch 36, latest loss 0.29954081773757935\n",
      "Finished epoch 37, latest loss 0.2984892427921295\n",
      "Finished epoch 38, latest loss 0.2984989583492279\n",
      "Finished epoch 39, latest loss 0.2994854748249054\n",
      "Epoch 40, loss 0.2976102828979492, accuracy 0.8600227831840712\n",
      "Finished epoch 40, latest loss 0.2976102828979492\n",
      "Finished epoch 41, latest loss 0.2988891005516052\n",
      "Finished epoch 42, latest loss 0.29967281222343445\n",
      "Finished epoch 43, latest loss 0.2987158000469208\n",
      "Finished epoch 44, latest loss 0.2949559986591339\n",
      "Finished epoch 45, latest loss 0.29541805386543274\n",
      "Finished epoch 46, latest loss 0.2960842251777649\n",
      "Finished epoch 47, latest loss 0.2972666323184967\n",
      "Finished epoch 48, latest loss 0.2967919707298279\n",
      "Finished epoch 49, latest loss 0.2969973087310791\n",
      "Epoch 50, loss 0.2942124307155609, accuracy 0.8627131378988572\n",
      "Finished epoch 50, latest loss 0.2942124307155609\n",
      "Finished epoch 51, latest loss 0.29454463720321655\n",
      "Finished epoch 52, latest loss 0.29717183113098145\n",
      "Finished epoch 53, latest loss 0.2947043478488922\n",
      "Finished epoch 54, latest loss 0.2986204922199249\n",
      "Finished epoch 55, latest loss 0.29376959800720215\n",
      "Finished epoch 56, latest loss 0.29672107100486755\n",
      "Finished epoch 57, latest loss 0.29342132806777954\n",
      "Finished epoch 58, latest loss 0.2935997545719147\n",
      "Finished epoch 59, latest loss 0.2920871376991272\n",
      "Epoch 60, loss 0.29230815172195435, accuracy 0.8623132203061188\n",
      "Finished epoch 60, latest loss 0.29230815172195435\n",
      "Finished epoch 61, latest loss 0.291312575340271\n",
      "Finished epoch 62, latest loss 0.29079750180244446\n",
      "Finished epoch 63, latest loss 0.29104456305503845\n",
      "Finished epoch 64, latest loss 0.2947509288787842\n",
      "Finished epoch 65, latest loss 0.290820449590683\n",
      "Finished epoch 66, latest loss 0.2918413579463959\n",
      "Finished epoch 67, latest loss 0.2915491759777069\n",
      "Finished epoch 68, latest loss 0.28998908400535583\n",
      "Finished epoch 69, latest loss 0.2917175889015198\n",
      "Epoch 70, loss 0.2927536964416504, accuracy 0.8621859737993384\n",
      "Finished epoch 70, latest loss 0.2927536964416504\n",
      "Finished epoch 71, latest loss 0.2928309738636017\n",
      "Finished epoch 72, latest loss 0.29164090752601624\n",
      "Finished epoch 73, latest loss 0.29080289602279663\n",
      "Finished epoch 74, latest loss 0.2936326265335083\n",
      "Finished epoch 75, latest loss 0.2929568886756897\n",
      "Finished epoch 76, latest loss 0.29212987422943115\n",
      "Finished epoch 77, latest loss 0.29235562682151794\n",
      "Finished epoch 78, latest loss 0.29039838910102844\n",
      "Finished epoch 79, latest loss 0.2908783257007599\n",
      "Epoch 80, loss 0.2890174090862274, accuracy 0.8640098403965244\n",
      "Finished epoch 80, latest loss 0.2890174090862274\n",
      "Finished epoch 81, latest loss 0.29142722487449646\n",
      "Finished epoch 82, latest loss 0.28918755054473877\n",
      "Finished epoch 83, latest loss 0.28979796171188354\n",
      "Finished epoch 84, latest loss 0.2883284389972687\n",
      "Finished epoch 85, latest loss 0.292115181684494\n",
      "Finished epoch 86, latest loss 0.2909435033798218\n",
      "Finished epoch 87, latest loss 0.2922842502593994\n",
      "Finished epoch 88, latest loss 0.2897583842277527\n",
      "Finished epoch 89, latest loss 0.29095080494880676\n",
      "Epoch 90, loss 0.2911989688873291, accuracy 0.8641189088309076\n",
      "Finished epoch 90, latest loss 0.2911989688873291\n",
      "Finished epoch 91, latest loss 0.29261690378189087\n",
      "Finished epoch 92, latest loss 0.2916884422302246\n",
      "Finished epoch 93, latest loss 0.29247188568115234\n",
      "Finished epoch 94, latest loss 0.2928803563117981\n",
      "Finished epoch 95, latest loss 0.2908340096473694\n",
      "Finished epoch 96, latest loss 0.29088765382766724\n",
      "Finished epoch 97, latest loss 0.28968730568885803\n",
      "Finished epoch 98, latest loss 0.2911970615386963\n",
      "Finished epoch 99, latest loss 0.2916485369205475\n"
     ]
    }
   ],
   "source": [
    "n_epochs = 100\n",
    "batch_size = 1028\n",
    "\n",
    "train_accuracies = []\n",
    "\n",
    "for epoch in range(n_epochs):\n",
    "    for i in range(0, len(X), batch_size):\n",
    "        Xbatch = X[i:i+batch_size]\n",
    "        y_pred = model(Xbatch)\n",
    "        ybatch = y[i:i+batch_size]\n",
    "        loss = loss_fn(y_pred, ybatch)\n",
    "        optimizer.zero_grad()\n",
    "        loss.backward()\n",
    "        optimizer.step()\n",
    "    if epoch % 10 == 0:\n",
    "        y_pred = model(X)\n",
    "        y_pred = y_pred.round().detach().numpy()\n",
    "        accuracy = accuracy_score(y, y_pred)\n",
    "        print(f'Epoch {epoch}, loss {loss}, accuracy {accuracy}')\n",
    "        train_accuracies.append(accuracy)\n",
    "    print(f'Finished epoch {epoch}, latest loss {loss}')"
   ],
   "metadata": {
    "collapsed": false,
    "ExecuteTime": {
     "end_time": "2024-03-14T00:24:08.992728Z",
     "start_time": "2024-03-14T00:22:39.992151Z"
    }
   }
  },
  {
   "cell_type": "code",
   "execution_count": 48,
   "outputs": [
    {
     "name": "stdout",
     "output_type": "stream",
     "text": [
      "Accuracy of the deep NN model: 0.8648771472717909\n"
     ]
    }
   ],
   "source": [
    "with torch.no_grad():\n",
    "  y_pred_test = model(X_test)\n",
    "  y_pred_test = y_pred_test.round().detach().numpy()\n",
    "# Calculate the accuracy of the model\n",
    "accuracy = accuracy_score(y_test, y_pred_test)\n",
    "print(f'Accuracy of the deep NN model: {accuracy}')"
   ],
   "metadata": {
    "collapsed": false,
    "ExecuteTime": {
     "end_time": "2024-03-14T00:24:09.083404Z",
     "start_time": "2024-03-14T00:24:09.037981Z"
    }
   }
  },
  {
   "cell_type": "code",
   "execution_count": null,
   "outputs": [],
   "source": [
    "# Plot the training accuracy\n",
    "plt.plot(range(0,100, 10), train_accuracies)\n",
    "plt.xlabel('Epoch')\n",
    "plt.ylabel('Accuracy')\n",
    "plt.title('Deep Net Training Accuracy')\n",
    "plt.show()"
   ],
   "metadata": {
    "collapsed": false
   }
  },
  {
   "cell_type": "code",
   "execution_count": 49,
   "outputs": [],
   "source": [
    "# Add normalization to the model\n",
    "\n",
    "model = nn.Sequential(\n",
    "    nn.Linear(10, 20), \n",
    "    nn.BatchNorm1d(20),\n",
    "    nn.ReLU(),\n",
    "    nn.Linear(20, 40),\n",
    "    nn.BatchNorm1d(40),\n",
    "    nn.ReLU(),\n",
    "    nn.Linear(40, 20),\n",
    "    nn.BatchNorm1d(20),\n",
    "    nn.ReLU(),   \n",
    "    nn.Linear(20, 10),\n",
    "    nn.BatchNorm1d(10),\n",
    "    nn.ReLU(), \n",
    "    nn.Linear(10, 1), \n",
    "    nn.Sigmoid() \n",
    ")"
   ],
   "metadata": {
    "collapsed": false,
    "ExecuteTime": {
     "end_time": "2024-03-14T00:26:39.852832Z",
     "start_time": "2024-03-14T00:26:39.817737Z"
    }
   }
  },
  {
   "cell_type": "code",
   "execution_count": 50,
   "outputs": [],
   "source": [
    "loss_fn = nn.BCELoss()\n",
    "optimizer = optim.Adam(model.parameters(), lr = 0.01)"
   ],
   "metadata": {
    "collapsed": false,
    "ExecuteTime": {
     "end_time": "2024-03-14T00:26:41.901559Z",
     "start_time": "2024-03-14T00:26:41.881577Z"
    }
   }
  },
  {
   "cell_type": "code",
   "execution_count": 51,
   "outputs": [
    {
     "name": "stdout",
     "output_type": "stream",
     "text": [
      "Epoch 0, loss 0.3045426607131958, accuracy 0.8577747615642837\n",
      "Finished epoch 0, latest loss 0.3045426607131958\n",
      "Finished epoch 1, latest loss 0.30501100420951843\n",
      "Finished epoch 2, latest loss 0.3084881603717804\n",
      "Finished epoch 3, latest loss 0.305354505777359\n",
      "Finished epoch 4, latest loss 0.3023373782634735\n",
      "Finished epoch 5, latest loss 0.30042463541030884\n",
      "Finished epoch 6, latest loss 0.3004298806190491\n",
      "Finished epoch 7, latest loss 0.2995721697807312\n",
      "Finished epoch 8, latest loss 0.2988341450691223\n",
      "Finished epoch 9, latest loss 0.2962161600589752\n",
      "Epoch 10, loss 0.29514116048812866, accuracy 0.864131027545839\n",
      "Finished epoch 10, latest loss 0.29514116048812866\n",
      "Finished epoch 11, latest loss 0.2937338054180145\n",
      "Finished epoch 12, latest loss 0.29311180114746094\n",
      "Finished epoch 13, latest loss 0.2918539345264435\n",
      "Finished epoch 14, latest loss 0.2921096682548523\n",
      "Finished epoch 15, latest loss 0.2905142903327942\n",
      "Finished epoch 16, latest loss 0.28937622904777527\n",
      "Finished epoch 17, latest loss 0.2909718453884125\n",
      "Finished epoch 18, latest loss 0.28970590233802795\n",
      "Finished epoch 19, latest loss 0.28849151730537415\n",
      "Epoch 20, loss 0.28799939155578613, accuracy 0.8639310687494698\n",
      "Finished epoch 20, latest loss 0.28799939155578613\n",
      "Finished epoch 21, latest loss 0.2891589105129242\n",
      "Finished epoch 22, latest loss 0.2883424162864685\n",
      "Finished epoch 23, latest loss 0.2873901426792145\n",
      "Finished epoch 24, latest loss 0.28954747319221497\n",
      "Finished epoch 25, latest loss 0.28780072927474976\n",
      "Finished epoch 26, latest loss 0.2880287170410156\n",
      "Finished epoch 27, latest loss 0.2868955433368683\n",
      "Finished epoch 28, latest loss 0.28635770082473755\n",
      "Finished epoch 29, latest loss 0.28424906730651855\n",
      "Epoch 30, loss 0.28520557284355164, accuracy 0.8644642922064544\n",
      "Finished epoch 30, latest loss 0.28520557284355164\n",
      "Finished epoch 31, latest loss 0.284023642539978\n",
      "Finished epoch 32, latest loss 0.2849520444869995\n",
      "Finished epoch 33, latest loss 0.2844947874546051\n",
      "Finished epoch 34, latest loss 0.28307342529296875\n",
      "Finished epoch 35, latest loss 0.2836416959762573\n",
      "Finished epoch 36, latest loss 0.2840326428413391\n",
      "Finished epoch 37, latest loss 0.2834283709526062\n",
      "Finished epoch 38, latest loss 0.2841596305370331\n",
      "Finished epoch 39, latest loss 0.2825954854488373\n",
      "Epoch 40, loss 0.2826772630214691, accuracy 0.8648884472290558\n",
      "Finished epoch 40, latest loss 0.2826772630214691\n",
      "Finished epoch 41, latest loss 0.28194352984428406\n",
      "Finished epoch 42, latest loss 0.2800902724266052\n",
      "Finished epoch 43, latest loss 0.2797289788722992\n",
      "Finished epoch 44, latest loss 0.28118467330932617\n",
      "Finished epoch 45, latest loss 0.28085678815841675\n",
      "Finished epoch 46, latest loss 0.2794719636440277\n",
      "Finished epoch 47, latest loss 0.28086337447166443\n",
      "Finished epoch 48, latest loss 0.2811495363712311\n",
      "Finished epoch 49, latest loss 0.28179076313972473\n",
      "Epoch 50, loss 0.2806626260280609, accuracy 0.8652883648217943\n",
      "Finished epoch 50, latest loss 0.2806626260280609\n",
      "Finished epoch 51, latest loss 0.28159648180007935\n",
      "Finished epoch 52, latest loss 0.2817976772785187\n",
      "Finished epoch 53, latest loss 0.2800159752368927\n",
      "Finished epoch 54, latest loss 0.2804855704307556\n",
      "Finished epoch 55, latest loss 0.2808164060115814\n",
      "Finished epoch 56, latest loss 0.2805202901363373\n",
      "Finished epoch 57, latest loss 0.2788925766944885\n",
      "Finished epoch 58, latest loss 0.2788902819156647\n",
      "Finished epoch 59, latest loss 0.27894994616508484\n",
      "Epoch 60, loss 0.2795378863811493, accuracy 0.8654398487584376\n",
      "Finished epoch 60, latest loss 0.2795378863811493\n",
      "Finished epoch 61, latest loss 0.27892154455184937\n",
      "Finished epoch 62, latest loss 0.27852171659469604\n",
      "Finished epoch 63, latest loss 0.2787840664386749\n",
      "Finished epoch 64, latest loss 0.27871760725975037\n",
      "Finished epoch 65, latest loss 0.27653658390045166\n",
      "Finished epoch 66, latest loss 0.27604687213897705\n",
      "Finished epoch 67, latest loss 0.27659058570861816\n",
      "Finished epoch 68, latest loss 0.2757280766963959\n",
      "Finished epoch 69, latest loss 0.27471640706062317\n",
      "Epoch 70, loss 0.2752561569213867, accuracy 0.8656701043421355\n",
      "Finished epoch 70, latest loss 0.2752561569213867\n",
      "Finished epoch 71, latest loss 0.2764388918876648\n",
      "Finished epoch 72, latest loss 0.276187002658844\n",
      "Finished epoch 73, latest loss 0.2767793536186218\n",
      "Finished epoch 74, latest loss 0.27699556946754456\n",
      "Finished epoch 75, latest loss 0.2772051990032196\n",
      "Finished epoch 76, latest loss 0.276989609003067\n",
      "Finished epoch 77, latest loss 0.2773469090461731\n",
      "Finished epoch 78, latest loss 0.27660977840423584\n",
      "Finished epoch 79, latest loss 0.27659377455711365\n",
      "Epoch 80, loss 0.2766898274421692, accuracy 0.8659427754280936\n",
      "Finished epoch 80, latest loss 0.2766898274421692\n",
      "Finished epoch 81, latest loss 0.27742326259613037\n",
      "Finished epoch 82, latest loss 0.27804726362228394\n",
      "Finished epoch 83, latest loss 0.27624890208244324\n",
      "Finished epoch 84, latest loss 0.27697503566741943\n",
      "Finished epoch 85, latest loss 0.2774607837200165\n",
      "Finished epoch 86, latest loss 0.2781078815460205\n",
      "Finished epoch 87, latest loss 0.27627724409103394\n",
      "Finished epoch 88, latest loss 0.276132732629776\n",
      "Finished epoch 89, latest loss 0.27562642097473145\n",
      "Epoch 90, loss 0.27719664573669434, accuracy 0.8661790903692572\n",
      "Finished epoch 90, latest loss 0.27719664573669434\n",
      "Finished epoch 91, latest loss 0.2764787971973419\n",
      "Finished epoch 92, latest loss 0.2762312591075897\n",
      "Finished epoch 93, latest loss 0.27653980255126953\n",
      "Finished epoch 94, latest loss 0.2764042019844055\n",
      "Finished epoch 95, latest loss 0.27696534991264343\n",
      "Finished epoch 96, latest loss 0.27537453174591064\n",
      "Finished epoch 97, latest loss 0.275635689496994\n",
      "Finished epoch 98, latest loss 0.2770307660102844\n",
      "Finished epoch 99, latest loss 0.27562087774276733\n"
     ]
    }
   ],
   "source": [
    "n_epochs = 100\n",
    "batch_size = 1028\n",
    "\n",
    "train_accuracies = []\n",
    "\n",
    "model.train()\n",
    "for epoch in range(n_epochs):\n",
    "    for i in range(0, len(X), batch_size):\n",
    "        Xbatch = X[i:i+batch_size]\n",
    "        y_pred = model(Xbatch)\n",
    "        ybatch = y[i:i+batch_size]\n",
    "        loss = loss_fn(y_pred, ybatch)\n",
    "        optimizer.zero_grad()\n",
    "        loss.backward()\n",
    "        optimizer.step()\n",
    "    if epoch % 10 == 0:\n",
    "        y_pred = model(X)\n",
    "        y_pred = y_pred.round().detach().numpy()\n",
    "        accuracy = accuracy_score(y, y_pred)\n",
    "        print(f'Epoch {epoch}, loss {loss}, accuracy {accuracy}')\n",
    "        train_accuracies.append(accuracy)\n",
    "    print(f'Finished epoch {epoch}, latest loss {loss}')"
   ],
   "metadata": {
    "collapsed": false,
    "ExecuteTime": {
     "end_time": "2024-03-14T00:30:17.735731Z",
     "start_time": "2024-03-14T00:26:47.237883Z"
    }
   }
  },
  {
   "cell_type": "code",
   "execution_count": 52,
   "outputs": [
    {
     "name": "stdout",
     "output_type": "stream",
     "text": [
      "Accuracy of the deep NN model with normalization: 0.8677250280243585\n"
     ]
    }
   ],
   "source": [
    "with torch.no_grad():\n",
    "  y_pred_test = model(X_test)\n",
    "  y_pred_test = y_pred_test.round().detach().numpy()\n",
    "# Calculate the accuracy of the model\n",
    "accuracy = accuracy_score(y_test, y_pred_test)\n",
    "print(f'Accuracy of the deep NN model with normalization: {accuracy}')"
   ],
   "metadata": {
    "collapsed": false,
    "ExecuteTime": {
     "end_time": "2024-03-14T00:30:17.847149Z",
     "start_time": "2024-03-14T00:30:17.752491Z"
    }
   }
  },
  {
   "cell_type": "code",
   "execution_count": null,
   "outputs": [],
   "source": [
    "# Plot the training accuracy\n",
    "plt.plot(range(0,100, 10), train_accuracies)\n",
    "plt.xlabel('Epoch')\n",
    "plt.ylabel('Accuracy')\n",
    "plt.title('Deep Net with BN Training Accuracy')\n",
    "plt.show()"
   ],
   "metadata": {
    "collapsed": false
   }
  },
  {
   "cell_type": "code",
   "execution_count": 65,
   "outputs": [
    {
     "data": {
      "text/plain": "Text(0.5, 427.9555555555555, 'Predicted label')"
     },
     "execution_count": 65,
     "metadata": {},
     "output_type": "execute_result"
    },
    {
     "data": {
      "text/plain": "<Figure size 640x480 with 2 Axes>",
      "image/png": "[encoded data removed]"
     },
     "metadata": {},
     "output_type": "display_data"
    }
   ],
   "source": [
    "# Making the AUROC curve\n",
    "import sklearn.metrics as metrics\n",
    "import seaborn as sns\n",
    "cnf_matrix = metrics.confusion_matrix(y_test, y_pred_test)\n",
    "\n",
    "class_names=[0,1] # Names of classes\n",
    "fig, ax = plt.subplots()\n",
    "tick_marks = np.arange(len(class_names))\n",
    "plt.xticks(tick_marks, class_names)\n",
    "plt.yticks(tick_marks, class_names)\n",
    "# Create heatmap\n",
    "sns.heatmap(pd.DataFrame(cnf_matrix), annot=True, cmap=\"YlGnBu\" ,fmt='g')\n",
    "ax.xaxis.set_label_position(\"top\")\n",
    "plt.tight_layout()\n",
    "plt.title('Confusion matrix', y=1.1)\n",
    "plt.ylabel('Actual label')\n",
    "plt.xlabel('Predicted label')"
   ],
   "metadata": {
    "collapsed": false,
    "ExecuteTime": {
     "end_time": "2024-03-14T01:01:34.120995Z",
     "start_time": "2024-03-14T01:01:32.755483Z"
    }
   }
  },
  {
   "cell_type": "code",
   "execution_count": null,
   "outputs": [],
   "source": [],
   "metadata": {
    "collapsed": false
   }
  }
 ]
}
