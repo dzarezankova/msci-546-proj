{
 "nbformat": 4,
 "nbformat_minor": 0,
 "metadata": {
  "colab": {
   "provenance": [],
   "gpuType": "T4"
  },
  "kernelspec": {
   "name": "pycharm-668166ef",
   "language": "python",
   "display_name": "PyCharm (A1)"
  },
  "language_info": {
   "name": "python"
  },
  "accelerator": "GPU"
 },
 "cells": [
  {
   "cell_type": "code",
   "execution_count": 6,
   "metadata": {
    "id": "6EMUG4x4n2j-",
    "ExecuteTime": {
     "end_time": "2024-03-14T19:16:50.181741Z",
     "start_time": "2024-03-14T19:16:49.051732Z"
    }
   },
   "outputs": [],
   "source": [
    "# MSCI 546 Project:\n",
    "\n",
    "# Link to the original Kaggle Competition (Real Dataset): https://www.kaggle.com/code/kmalit/bank-customer-churn-prediction"
   ]
  },
  {
   "cell_type": "code",
   "source": [
    "\n",
    "# Libraries\n",
    "\n",
    "import numpy as np\n",
    "import pandas as pd\n",
    "\n",
    "import matplotlib as mpl\n",
    "import matplotlib.pyplot as plt\n",
    "\n",
    "import torch  # Main torch import for torch tensors\n",
    "import torch.nn as nn  # Neural network module for building deep learning models\n",
    "import torch.optim as optim  # Optimization module\n",
    "\n",
    "from sklearn.preprocessing import LabelEncoder\n",
    "from sklearn.model_selection import train_test_split\n",
    "from sklearn.metrics import accuracy_score\n"
   ],
   "metadata": {
    "id": "ZWvboMYzoICm",
    "ExecuteTime": {
     "end_time": "2024-03-14T19:16:50.241982Z",
     "start_time": "2024-03-14T19:16:49.073667Z"
    }
   },
   "execution_count": 7,
   "outputs": []
  },
  {
   "cell_type": "code",
   "source": [
    "# Synthetic Dataset: https://www.kaggle.com/competitions/playground-series-s4e1/data\n",
    "\n",
    "# Dataset import\n",
    "import os\n",
    "# Set directory to project root\n",
    "os.chdir('/Users/danazarezankova/Documents/BME 2024/BME 4B/MSCI 546/msci-546-proj')\n",
    "\n",
    "# Back to root directory\n",
    "synthetic_train_data = pd.read_csv('data/train.csv')\n",
    "\n",
    "synthetic_train_data.head()"
   ],
   "metadata": {
    "colab": {
     "base_uri": "https://localhost:8080/",
     "height": 224
    },
    "id": "lsKyonltoM--",
    "outputId": "76d77911-a631-431c-ca01-e236084c2042",
    "ExecuteTime": {
     "end_time": "2024-03-14T19:16:51.691359Z",
     "start_time": "2024-03-14T19:16:49.147928Z"
    }
   },
   "execution_count": 8,
   "outputs": [
    {
     "data": {
      "text/plain": "   id  CustomerId         Surname  CreditScore Geography Gender   Age  Tenure  \\\n0   0    15674932  Okwudilichukwu          668    France   Male  33.0       3   \n1   1    15749177   Okwudiliolisa          627    France   Male  33.0       1   \n2   2    15694510           Hsueh          678    France   Male  40.0      10   \n3   3    15741417             Kao          581    France   Male  34.0       2   \n4   4    15766172       Chiemenam          716     Spain   Male  33.0       5   \n\n     Balance  NumOfProducts  HasCrCard  IsActiveMember  EstimatedSalary  \\\n0       0.00              2        1.0             0.0        181449.97   \n1       0.00              2        1.0             1.0         49503.50   \n2       0.00              2        1.0             0.0        184866.69   \n3  148882.54              1        1.0             1.0         84560.88   \n4       0.00              2        1.0             1.0         15068.83   \n\n   Exited  \n0       0  \n1       0  \n2       0  \n3       0  \n4       0  ",
      "text/html": "<div>\n<style scoped>\n    .dataframe tbody tr th:only-of-type {\n        vertical-align: middle;\n    }\n\n    .dataframe tbody tr th {\n        vertical-align: top;\n    }\n\n    .dataframe thead th {\n        text-align: right;\n    }\n</style>\n<table border=\"1\" class=\"dataframe\">\n  <thead>\n    <tr style=\"text-align: right;\">\n      <th></th>\n      <th>id</th>\n      <th>CustomerId</th>\n      <th>Surname</th>\n      <th>CreditScore</th>\n      <th>Geography</th>\n      <th>Gender</th>\n      <th>Age</th>\n      <th>Tenure</th>\n      <th>Balance</th>\n      <th>NumOfProducts</th>\n      <th>HasCrCard</th>\n      <th>IsActiveMember</th>\n      <th>EstimatedSalary</th>\n      <th>Exited</th>\n    </tr>\n  </thead>\n  <tbody>\n    <tr>\n      <th>0</th>\n      <td>0</td>\n      <td>15674932</td>\n      <td>Okwudilichukwu</td>\n      <td>668</td>\n      <td>France</td>\n      <td>Male</td>\n      <td>33.0</td>\n      <td>3</td>\n      <td>0.00</td>\n      <td>2</td>\n      <td>1.0</td>\n      <td>0.0</td>\n      <td>181449.97</td>\n      <td>0</td>\n    </tr>\n    <tr>\n      <th>1</th>\n      <td>1</td>\n      <td>15749177</td>\n      <td>Okwudiliolisa</td>\n      <td>627</td>\n      <td>France</td>\n      <td>Male</td>\n      <td>33.0</td>\n      <td>1</td>\n      <td>0.00</td>\n      <td>2</td>\n      <td>1.0</td>\n      <td>1.0</td>\n      <td>49503.50</td>\n      <td>0</td>\n    </tr>\n    <tr>\n      <th>2</th>\n      <td>2</td>\n      <td>15694510</td>\n      <td>Hsueh</td>\n      <td>678</td>\n      <td>France</td>\n      <td>Male</td>\n      <td>40.0</td>\n      <td>10</td>\n      <td>0.00</td>\n      <td>2</td>\n      <td>1.0</td>\n      <td>0.0</td>\n      <td>184866.69</td>\n      <td>0</td>\n    </tr>\n    <tr>\n      <th>3</th>\n      <td>3</td>\n      <td>15741417</td>\n      <td>Kao</td>\n      <td>581</td>\n      <td>France</td>\n      <td>Male</td>\n      <td>34.0</td>\n      <td>2</td>\n      <td>148882.54</td>\n      <td>1</td>\n      <td>1.0</td>\n      <td>1.0</td>\n      <td>84560.88</td>\n      <td>0</td>\n    </tr>\n    <tr>\n      <th>4</th>\n      <td>4</td>\n      <td>15766172</td>\n      <td>Chiemenam</td>\n      <td>716</td>\n      <td>Spain</td>\n      <td>Male</td>\n      <td>33.0</td>\n      <td>5</td>\n      <td>0.00</td>\n      <td>2</td>\n      <td>1.0</td>\n      <td>1.0</td>\n      <td>15068.83</td>\n      <td>0</td>\n    </tr>\n  </tbody>\n</table>\n</div>"
     },
     "execution_count": 8,
     "metadata": {},
     "output_type": "execute_result"
    }
   ]
  },
  {
   "cell_type": "code",
   "execution_count": 9,
   "outputs": [
    {
     "data": {
      "text/plain": "(165034, 14)"
     },
     "execution_count": 9,
     "metadata": {},
     "output_type": "execute_result"
    }
   ],
   "source": [
    "synthetic_train_data.shape"
   ],
   "metadata": {
    "collapsed": false,
    "ExecuteTime": {
     "end_time": "2024-03-14T19:16:51.694894Z",
     "start_time": "2024-03-14T19:16:50.631529Z"
    }
   }
  },
  {
   "cell_type": "code",
   "source": [
    "# Label encoding for text data:\n",
    "encoder = LabelEncoder()\n",
    "categorical_features_train = synthetic_train_data.select_dtypes(include = 'object').columns\n",
    "print(\"Categorical features: \", categorical_features_train)\n",
    "for feature in categorical_features_train:\n",
    "    synthetic_train_data[feature] = encoder.fit_transform(synthetic_train_data[feature])\n",
    "\n",
    "# MinMax Scaler for credit score\n",
    "from sklearn.preprocessing import MinMaxScaler\n",
    "scaler = MinMaxScaler()\n",
    "synthetic_train_data['CreditScore'] = scaler.fit_transform(synthetic_train_data[['CreditScore']])\n",
    "\n",
    "# Robust Scaler for Balance\n",
    "from sklearn.preprocessing import RobustScaler\n",
    "scaler = RobustScaler()\n",
    "synthetic_train_data['Balance'] = scaler.fit_transform(synthetic_train_data[['Balance']])\n",
    "\n",
    "# MinMax Scaler for Estimated Salary\n",
    "scaler = MinMaxScaler()\n",
    "synthetic_train_data['EstimatedSalary'] = scaler.fit_transform(synthetic_train_data[['EstimatedSalary']])\n",
    "\n",
    "# Age / 100\n",
    "synthetic_train_data['Age'] = synthetic_train_data['Age'] / 100\n",
    "\n",
    "synthetic_train_data.drop('id', axis=1, inplace=True)\n",
    "synthetic_train_data.drop('CustomerId', axis=1, inplace=True)\n",
    "synthetic_train_data.drop('Surname', axis=1, inplace=True)\n",
    "synthetic_train_data.dropna(inplace=True)\n",
    "\n",
    "X = synthetic_train_data.drop('Exited', axis=1)\n",
    "y = synthetic_train_data['Exited']\n"
   ],
   "metadata": {
    "colab": {
     "base_uri": "https://localhost:8080/"
    },
    "id": "GtZk7FrqEA49",
    "outputId": "99a5bc62-4e09-428d-944e-715a6e36c117",
    "ExecuteTime": {
     "end_time": "2024-03-14T19:16:57.853374Z",
     "start_time": "2024-03-14T19:16:51.034540Z"
    }
   },
   "execution_count": 10,
   "outputs": [
    {
     "name": "stdout",
     "output_type": "stream",
     "text": [
      "Categorical features:  Index(['Surname', 'Geography', 'Gender'], dtype='object')\n"
     ]
    }
   ]
  },
  {
   "cell_type": "code",
   "execution_count": 11,
   "outputs": [
    {
     "data": {
      "text/plain": "         CreditScore      Geography         Gender            Age  \\\ncount  165034.000000  165034.000000  165034.000000  165034.000000   \nmean        0.612909       0.648545       0.564429       0.381259   \nstd         0.160207       0.816574       0.495833       0.088672   \nmin         0.000000       0.000000       0.000000       0.180000   \n25%         0.494000       0.000000       0.000000       0.320000   \n50%         0.618000       0.000000       1.000000       0.370000   \n75%         0.720000       1.000000       1.000000       0.420000   \nmax         1.000000       2.000000       1.000000       0.920000   \n\n              Tenure        Balance  NumOfProducts      HasCrCard  \\\ncount  165034.000000  165034.000000  165034.000000  165034.000000   \nmean        5.020353       0.462551       1.554455       0.753954   \nstd         2.806159       0.523745       0.547154       0.430707   \nmin         0.000000       0.000000       1.000000       0.000000   \n25%         3.000000       0.000000       1.000000       1.000000   \n50%         5.000000       0.000000       2.000000       1.000000   \n75%         7.000000       1.000000       2.000000       1.000000   \nmax        10.000000       2.091872       4.000000       1.000000   \n\n       IsActiveMember  EstimatedSalary  \ncount   165034.000000    165034.000000  \nmean         0.497770         0.562870  \nstd          0.499997         0.251488  \nmin          0.000000         0.000000  \n25%          0.000000         0.373166  \n50%          0.000000         0.589738  \n75%          1.000000         0.775779  \nmax          1.000000         1.000000  ",
      "text/html": "<div>\n<style scoped>\n    .dataframe tbody tr th:only-of-type {\n        vertical-align: middle;\n    }\n\n    .dataframe tbody tr th {\n        vertical-align: top;\n    }\n\n    .dataframe thead th {\n        text-align: right;\n    }\n</style>\n<table border=\"1\" class=\"dataframe\">\n  <thead>\n    <tr style=\"text-align: right;\">\n      <th></th>\n      <th>CreditScore</th>\n      <th>Geography</th>\n      <th>Gender</th>\n      <th>Age</th>\n      <th>Tenure</th>\n      <th>Balance</th>\n      <th>NumOfProducts</th>\n      <th>HasCrCard</th>\n      <th>IsActiveMember</th>\n      <th>EstimatedSalary</th>\n    </tr>\n  </thead>\n  <tbody>\n    <tr>\n      <th>count</th>\n      <td>165034.000000</td>\n      <td>165034.000000</td>\n      <td>165034.000000</td>\n      <td>165034.000000</td>\n      <td>165034.000000</td>\n      <td>165034.000000</td>\n      <td>165034.000000</td>\n      <td>165034.000000</td>\n      <td>165034.000000</td>\n      <td>165034.000000</td>\n    </tr>\n    <tr>\n      <th>mean</th>\n      <td>0.612909</td>\n      <td>0.648545</td>\n      <td>0.564429</td>\n      <td>0.381259</td>\n      <td>5.020353</td>\n      <td>0.462551</td>\n      <td>1.554455</td>\n      <td>0.753954</td>\n      <td>0.497770</td>\n      <td>0.562870</td>\n    </tr>\n    <tr>\n      <th>std</th>\n      <td>0.160207</td>\n      <td>0.816574</td>\n      <td>0.495833</td>\n      <td>0.088672</td>\n      <td>2.806159</td>\n      <td>0.523745</td>\n      <td>0.547154</td>\n      <td>0.430707</td>\n      <td>0.499997</td>\n      <td>0.251488</td>\n    </tr>\n    <tr>\n      <th>min</th>\n      <td>0.000000</td>\n      <td>0.000000</td>\n      <td>0.000000</td>\n      <td>0.180000</td>\n      <td>0.000000</td>\n      <td>0.000000</td>\n      <td>1.000000</td>\n      <td>0.000000</td>\n      <td>0.000000</td>\n      <td>0.000000</td>\n    </tr>\n    <tr>\n      <th>25%</th>\n      <td>0.494000</td>\n      <td>0.000000</td>\n      <td>0.000000</td>\n      <td>0.320000</td>\n      <td>3.000000</td>\n      <td>0.000000</td>\n      <td>1.000000</td>\n      <td>1.000000</td>\n      <td>0.000000</td>\n      <td>0.373166</td>\n    </tr>\n    <tr>\n      <th>50%</th>\n      <td>0.618000</td>\n      <td>0.000000</td>\n      <td>1.000000</td>\n      <td>0.370000</td>\n      <td>5.000000</td>\n      <td>0.000000</td>\n      <td>2.000000</td>\n      <td>1.000000</td>\n      <td>0.000000</td>\n      <td>0.589738</td>\n    </tr>\n    <tr>\n      <th>75%</th>\n      <td>0.720000</td>\n      <td>1.000000</td>\n      <td>1.000000</td>\n      <td>0.420000</td>\n      <td>7.000000</td>\n      <td>1.000000</td>\n      <td>2.000000</td>\n      <td>1.000000</td>\n      <td>1.000000</td>\n      <td>0.775779</td>\n    </tr>\n    <tr>\n      <th>max</th>\n      <td>1.000000</td>\n      <td>2.000000</td>\n      <td>1.000000</td>\n      <td>0.920000</td>\n      <td>10.000000</td>\n      <td>2.091872</td>\n      <td>4.000000</td>\n      <td>1.000000</td>\n      <td>1.000000</td>\n      <td>1.000000</td>\n    </tr>\n  </tbody>\n</table>\n</div>"
     },
     "execution_count": 11,
     "metadata": {},
     "output_type": "execute_result"
    }
   ],
   "source": [
    "X.describe()\n"
   ],
   "metadata": {
    "colab": {
     "base_uri": "https://localhost:8080/",
     "height": 317
    },
    "id": "rYBsy-pMr0sV",
    "outputId": "13d1088f-af64-4440-f4b9-ae0274280fcf",
    "ExecuteTime": {
     "end_time": "2024-03-14T19:16:58.712512Z",
     "start_time": "2024-03-14T19:16:56.527085Z"
    }
   }
  },
  {
   "cell_type": "code",
   "execution_count": 12,
   "outputs": [],
   "source": [
    "# Convert the data to PyTorch tensors\n",
    "X = torch.tensor(X.values, dtype=torch.float32)\n",
    "y = torch.tensor(y.values, dtype=torch.float32).reshape(-1, 1)"
   ],
   "metadata": {
    "collapsed": false,
    "ExecuteTime": {
     "end_time": "2024-03-14T19:16:58.802088Z",
     "start_time": "2024-03-14T19:16:58.450083Z"
    }
   }
  },
  {
   "cell_type": "code",
   "execution_count": 13,
   "outputs": [],
   "source": [
    "# Split the data into training and testing sets\n",
    "X_train, X_test, y_train, y_test = train_test_split(X, y, test_size=0.2, random_state=42)"
   ],
   "metadata": {
    "collapsed": false,
    "ExecuteTime": {
     "end_time": "2024-03-14T19:16:59.257860Z",
     "start_time": "2024-03-14T19:16:58.745268Z"
    }
   }
  },
  {
   "cell_type": "code",
   "execution_count": 14,
   "outputs": [],
   "source": [
    "model = nn.Sequential(\n",
    "    nn.Linear(10, 20), # 8 input nodes to 12 nodes in the first hidden layer\n",
    "    nn.ReLU(),        # ReLU activation for first hidden layer\n",
    "    nn.Linear(20, 10), # 12 nodes from first hidden layer to 8 in the second\n",
    "    nn.ReLU(),        # ReLU activation for second hidden layer\n",
    "    nn.Linear(10, 1),  # 8 nodes from second hidden layer to 1 output node\n",
    "    nn.Sigmoid()      # Sigmoid activation for output layer\n",
    ")"
   ],
   "metadata": {
    "collapsed": false,
    "ExecuteTime": {
     "end_time": "2024-03-14T19:16:59.593802Z",
     "start_time": "2024-03-14T19:16:58.902272Z"
    }
   }
  },
  {
   "cell_type": "code",
   "execution_count": 15,
   "outputs": [],
   "source": [
    "loss_fn = nn.BCELoss()\n",
    "optimizer = optim.Adam(model.parameters(), lr = 0.01)"
   ],
   "metadata": {
    "collapsed": false,
    "ExecuteTime": {
     "end_time": "2024-03-14T19:17:04.932933Z",
     "start_time": "2024-03-14T19:16:59.024496Z"
    }
   }
  },
  {
   "cell_type": "code",
   "execution_count": 16,
   "outputs": [
    {
     "name": "stdout",
     "output_type": "stream",
     "text": [
      "Epoch 0, loss 0.4404769539833069, accuracy 0.7884011779390914\n",
      "Finished epoch 0, latest loss 0.4404769539833069\n",
      "Finished epoch 1, latest loss 0.4110754728317261\n",
      "Finished epoch 2, latest loss 0.3804421126842499\n",
      "Finished epoch 3, latest loss 0.3559440076351166\n",
      "Finished epoch 4, latest loss 0.34220919013023376\n",
      "Finished epoch 5, latest loss 0.3320968449115753\n",
      "Finished epoch 6, latest loss 0.3253137469291687\n",
      "Finished epoch 7, latest loss 0.3203427791595459\n",
      "Finished epoch 8, latest loss 0.3169832229614258\n",
      "Finished epoch 9, latest loss 0.3110458254814148\n",
      "Epoch 10, loss 0.30850377678871155, accuracy 0.8573687846140795\n",
      "Finished epoch 10, latest loss 0.30850377678871155\n",
      "Finished epoch 11, latest loss 0.30681487917900085\n",
      "Finished epoch 12, latest loss 0.3055306077003479\n",
      "Finished epoch 13, latest loss 0.304864764213562\n",
      "Finished epoch 14, latest loss 0.3041989505290985\n",
      "Finished epoch 15, latest loss 0.3032965660095215\n",
      "Finished epoch 16, latest loss 0.3023200035095215\n",
      "Finished epoch 17, latest loss 0.3014870584011078\n",
      "Finished epoch 18, latest loss 0.3010226786136627\n",
      "Finished epoch 19, latest loss 0.3005395233631134\n",
      "Epoch 20, loss 0.30019134283065796, accuracy 0.8589260394827732\n",
      "Finished epoch 20, latest loss 0.30019134283065796\n",
      "Finished epoch 21, latest loss 0.2998855412006378\n",
      "Finished epoch 22, latest loss 0.2997167706489563\n",
      "Finished epoch 23, latest loss 0.29936543107032776\n",
      "Finished epoch 24, latest loss 0.29933789372444153\n",
      "Finished epoch 25, latest loss 0.29872986674308777\n",
      "Finished epoch 26, latest loss 0.2988298833370209\n",
      "Finished epoch 27, latest loss 0.2984813451766968\n",
      "Finished epoch 28, latest loss 0.298195481300354\n",
      "Finished epoch 29, latest loss 0.2981432378292084\n",
      "Epoch 30, loss 0.298225462436676, accuracy 0.8611013488129718\n",
      "Finished epoch 30, latest loss 0.298225462436676\n",
      "Finished epoch 31, latest loss 0.2981276512145996\n",
      "Finished epoch 32, latest loss 0.29796159267425537\n",
      "Finished epoch 33, latest loss 0.2979868948459625\n",
      "Finished epoch 34, latest loss 0.2977463901042938\n",
      "Finished epoch 35, latest loss 0.2974441647529602\n",
      "Finished epoch 36, latest loss 0.2969638407230377\n",
      "Finished epoch 37, latest loss 0.2965202331542969\n",
      "Finished epoch 38, latest loss 0.2961306571960449\n",
      "Finished epoch 39, latest loss 0.295989066362381\n",
      "Epoch 40, loss 0.2956785261631012, accuracy 0.8634281420798139\n",
      "Finished epoch 40, latest loss 0.2956785261631012\n",
      "Finished epoch 41, latest loss 0.2955285310745239\n",
      "Finished epoch 42, latest loss 0.2953779101371765\n",
      "Finished epoch 43, latest loss 0.29511013627052307\n",
      "Finished epoch 44, latest loss 0.29480981826782227\n",
      "Finished epoch 45, latest loss 0.2947113513946533\n",
      "Finished epoch 46, latest loss 0.29430660605430603\n",
      "Finished epoch 47, latest loss 0.2941368818283081\n",
      "Finished epoch 48, latest loss 0.2939506471157074\n",
      "Finished epoch 49, latest loss 0.2938951551914215\n",
      "Epoch 50, loss 0.29373592138290405, accuracy 0.8642340366227566\n",
      "Finished epoch 50, latest loss 0.29373592138290405\n",
      "Finished epoch 51, latest loss 0.2935452163219452\n",
      "Finished epoch 52, latest loss 0.2935533821582794\n",
      "Finished epoch 53, latest loss 0.2934960722923279\n",
      "Finished epoch 54, latest loss 0.29342636466026306\n",
      "Finished epoch 55, latest loss 0.2936382591724396\n",
      "Finished epoch 56, latest loss 0.29364264011383057\n",
      "Finished epoch 57, latest loss 0.293631374835968\n",
      "Finished epoch 58, latest loss 0.2935623526573181\n",
      "Finished epoch 59, latest loss 0.29361066222190857\n",
      "Epoch 60, loss 0.29396605491638184, accuracy 0.8640704339711817\n",
      "Finished epoch 60, latest loss 0.29396605491638184\n",
      "Finished epoch 61, latest loss 0.29400670528411865\n",
      "Finished epoch 62, latest loss 0.2937113344669342\n",
      "Finished epoch 63, latest loss 0.2939419448375702\n",
      "Finished epoch 64, latest loss 0.29381492733955383\n",
      "Finished epoch 65, latest loss 0.29356566071510315\n",
      "Finished epoch 66, latest loss 0.2936145067214966\n",
      "Finished epoch 67, latest loss 0.2935980260372162\n",
      "Finished epoch 68, latest loss 0.29355955123901367\n",
      "Finished epoch 69, latest loss 0.29352959990501404\n",
      "Epoch 70, loss 0.2935011088848114, accuracy 0.8642158585503593\n",
      "Finished epoch 70, latest loss 0.2935011088848114\n",
      "Finished epoch 71, latest loss 0.29346245527267456\n",
      "Finished epoch 72, latest loss 0.29369664192199707\n",
      "Finished epoch 73, latest loss 0.29375267028808594\n",
      "Finished epoch 74, latest loss 0.2938654124736786\n",
      "Finished epoch 75, latest loss 0.29372018575668335\n",
      "Finished epoch 76, latest loss 0.2936246693134308\n",
      "Finished epoch 77, latest loss 0.2936944365501404\n",
      "Finished epoch 78, latest loss 0.2938498854637146\n",
      "Finished epoch 79, latest loss 0.2937185764312744\n",
      "Epoch 80, loss 0.2936805188655853, accuracy 0.8645794199983033\n",
      "Finished epoch 80, latest loss 0.2936805188655853\n",
      "Finished epoch 81, latest loss 0.29359444975852966\n",
      "Finished epoch 82, latest loss 0.29370346665382385\n",
      "Finished epoch 83, latest loss 0.2936091721057892\n",
      "Finished epoch 84, latest loss 0.2936573922634125\n",
      "Finished epoch 85, latest loss 0.29342326521873474\n",
      "Finished epoch 86, latest loss 0.2933320701122284\n",
      "Finished epoch 87, latest loss 0.293254017829895\n",
      "Finished epoch 88, latest loss 0.2932892441749573\n",
      "Finished epoch 89, latest loss 0.293185830116272\n",
      "Epoch 90, loss 0.29321062564849854, accuracy 0.8646036574281664\n",
      "Finished epoch 90, latest loss 0.29321062564849854\n",
      "Finished epoch 91, latest loss 0.2931971549987793\n",
      "Finished epoch 92, latest loss 0.29314133524894714\n",
      "Finished epoch 93, latest loss 0.2931620478630066\n",
      "Finished epoch 94, latest loss 0.29302534461021423\n",
      "Finished epoch 95, latest loss 0.29303231835365295\n",
      "Finished epoch 96, latest loss 0.2929557263851166\n",
      "Finished epoch 97, latest loss 0.2928718626499176\n",
      "Finished epoch 98, latest loss 0.29294613003730774\n",
      "Finished epoch 99, latest loss 0.292817622423172\n"
     ]
    }
   ],
   "source": [
    "n_epochs = 100\n",
    "batch_size = 1028\n",
    "\n",
    "train_accuracies = []\n",
    "\n",
    "for epoch in range(n_epochs):\n",
    "    for i in range(0, len(X), batch_size):\n",
    "        Xbatch = X[i:i+batch_size]\n",
    "        y_pred = model(Xbatch)\n",
    "        ybatch = y[i:i+batch_size]\n",
    "        loss = loss_fn(y_pred, ybatch)\n",
    "        optimizer.zero_grad()\n",
    "        loss.backward()\n",
    "        optimizer.step()\n",
    "    if epoch % 10 == 0:\n",
    "        y_pred = model(X)\n",
    "        y_pred = y_pred.round().detach().numpy()\n",
    "        accuracy = accuracy_score(y, y_pred)\n",
    "        print(f'Epoch {epoch}, loss {loss}, accuracy {accuracy}')\n",
    "        train_accuracies.append(accuracy)\n",
    "    print(f'Finished epoch {epoch}, latest loss {loss}')"
   ],
   "metadata": {
    "collapsed": false,
    "ExecuteTime": {
     "end_time": "2024-03-14T19:17:47.203164Z",
     "start_time": "2024-03-14T19:17:04.932646Z"
    }
   }
  },
  {
   "cell_type": "code",
   "execution_count": 17,
   "outputs": [],
   "source": [
    "with torch.no_grad():\n",
    "  y_pred_test = model(X_test)\n",
    "  y_pred_test = y_pred_test.round().detach().numpy()\n",
    "  \n",
    "# Calculate the accuracy of the model\n",
    "accuracy = accuracy_score(y_test, y_pred_test)"
   ],
   "metadata": {
    "collapsed": false,
    "ExecuteTime": {
     "end_time": "2024-03-14T19:17:47.396526Z",
     "start_time": "2024-03-14T19:17:47.194352Z"
    }
   }
  },
  {
   "cell_type": "code",
   "execution_count": 18,
   "outputs": [
    {
     "name": "stdout",
     "output_type": "stream",
     "text": [
      "Accuracy of the shallow NN model: 0.8653618929318023\n"
     ]
    }
   ],
   "source": [
    "print(f'Accuracy of the shallow NN model: {accuracy}')"
   ],
   "metadata": {
    "collapsed": false,
    "ExecuteTime": {
     "end_time": "2024-03-14T19:17:47.396980Z",
     "start_time": "2024-03-14T19:17:47.243636Z"
    }
   }
  },
  {
   "cell_type": "code",
   "execution_count": 19,
   "outputs": [
    {
     "data": {
      "text/plain": "<Figure size 640x480 with 1 Axes>",
      "image/png": "[encoded data removed]"
     },
     "metadata": {},
     "output_type": "display_data"
    }
   ],
   "source": [
    "# Plot the training accuracy\n",
    "plt.plot(range(0,100, 10), train_accuracies)\n",
    "plt.xlabel('Epoch')\n",
    "plt.ylabel('Accuracy')\n",
    "plt.title('Shallow Net Training Accuracy')\n",
    "plt.show()"
   ],
   "metadata": {
    "collapsed": false,
    "ExecuteTime": {
     "end_time": "2024-03-14T19:17:50.296001Z",
     "start_time": "2024-03-14T19:17:47.342882Z"
    }
   }
  },
  {
   "cell_type": "code",
   "execution_count": 20,
   "outputs": [],
   "source": [
    "# Increase model width and depth"
   ],
   "metadata": {
    "collapsed": false,
    "ExecuteTime": {
     "end_time": "2024-03-14T19:17:50.346277Z",
     "start_time": "2024-03-14T19:17:47.744796Z"
    }
   }
  },
  {
   "cell_type": "code",
   "execution_count": 21,
   "outputs": [],
   "source": [
    "model = nn.Sequential(\n",
    "    nn.Linear(10, 20), \n",
    "    nn.ReLU(),   \n",
    "    nn.Linear(20, 40),\n",
    "    nn.ReLU(),\n",
    "    nn.Linear(40, 20),\n",
    "    nn.ReLU(),   \n",
    "    nn.Linear(20, 10), \n",
    "    nn.ReLU(), \n",
    "    nn.Linear(10, 1), \n",
    "    nn.Sigmoid() \n",
    ")"
   ],
   "metadata": {
    "collapsed": false,
    "ExecuteTime": {
     "end_time": "2024-03-14T19:17:50.349431Z",
     "start_time": "2024-03-14T19:17:47.745045Z"
    }
   }
  },
  {
   "cell_type": "code",
   "execution_count": 22,
   "outputs": [],
   "source": [
    "loss_fn = nn.BCELoss()\n",
    "optimizer = optim.Adam(model.parameters(), lr = 0.01)"
   ],
   "metadata": {
    "collapsed": false,
    "ExecuteTime": {
     "end_time": "2024-03-14T19:17:50.351019Z",
     "start_time": "2024-03-14T19:17:47.745236Z"
    }
   }
  },
  {
   "cell_type": "code",
   "execution_count": 23,
   "outputs": [
    {
     "name": "stdout",
     "output_type": "stream",
     "text": [
      "Epoch 0, loss 0.3577733635902405, accuracy 0.8363791703527758\n",
      "Finished epoch 0, latest loss 0.3577733635902405\n",
      "Finished epoch 1, latest loss 0.31475120782852173\n",
      "Finished epoch 2, latest loss 0.3066639006137848\n",
      "Finished epoch 3, latest loss 0.30401843786239624\n",
      "Finished epoch 4, latest loss 0.30197426676750183\n",
      "Finished epoch 5, latest loss 0.3000074625015259\n",
      "Finished epoch 6, latest loss 0.29915639758110046\n",
      "Finished epoch 7, latest loss 0.2981194257736206\n",
      "Finished epoch 8, latest loss 0.2980319559574127\n",
      "Finished epoch 9, latest loss 0.2970236539840698\n",
      "Epoch 10, loss 0.2959515452384949, accuracy 0.8622102112292013\n",
      "Finished epoch 10, latest loss 0.2959515452384949\n",
      "Finished epoch 11, latest loss 0.29606738686561584\n",
      "Finished epoch 12, latest loss 0.29565781354904175\n",
      "Finished epoch 13, latest loss 0.2976631820201874\n",
      "Finished epoch 14, latest loss 0.2952112555503845\n",
      "Finished epoch 15, latest loss 0.29783788323402405\n",
      "Finished epoch 16, latest loss 0.30130821466445923\n",
      "Finished epoch 17, latest loss 0.303651362657547\n",
      "Finished epoch 18, latest loss 0.30272719264030457\n",
      "Finished epoch 19, latest loss 0.30151131749153137\n",
      "Epoch 20, loss 0.3021073639392853, accuracy 0.8601136735460572\n",
      "Finished epoch 20, latest loss 0.3021073639392853\n",
      "Finished epoch 21, latest loss 0.3017606735229492\n",
      "Finished epoch 22, latest loss 0.30265578627586365\n",
      "Finished epoch 23, latest loss 0.3032570481300354\n",
      "Finished epoch 24, latest loss 0.3013044595718384\n",
      "Finished epoch 25, latest loss 0.3020252287387848\n",
      "Finished epoch 26, latest loss 0.29941487312316895\n",
      "Finished epoch 27, latest loss 0.3000720739364624\n",
      "Finished epoch 28, latest loss 0.3004424571990967\n",
      "Finished epoch 29, latest loss 0.301815003156662\n",
      "Epoch 30, loss 0.2989557683467865, accuracy 0.8600833767587285\n",
      "Finished epoch 30, latest loss 0.2989557683467865\n",
      "Finished epoch 31, latest loss 0.3007839620113373\n",
      "Finished epoch 32, latest loss 0.30176234245300293\n",
      "Finished epoch 33, latest loss 0.2990674078464508\n",
      "Finished epoch 34, latest loss 0.2981221377849579\n",
      "Finished epoch 35, latest loss 0.298870325088501\n",
      "Finished epoch 36, latest loss 0.29882022738456726\n",
      "Finished epoch 37, latest loss 0.29427868127822876\n",
      "Finished epoch 38, latest loss 0.2977507412433624\n",
      "Finished epoch 39, latest loss 0.2973598837852478\n",
      "Epoch 40, loss 0.2974169850349426, accuracy 0.8602833355550977\n",
      "Finished epoch 40, latest loss 0.2974169850349426\n",
      "Finished epoch 41, latest loss 0.29612481594085693\n",
      "Finished epoch 42, latest loss 0.29542186856269836\n",
      "Finished epoch 43, latest loss 0.29444798827171326\n",
      "Finished epoch 44, latest loss 0.2948160469532013\n",
      "Finished epoch 45, latest loss 0.29445165395736694\n",
      "Finished epoch 46, latest loss 0.29382917284965515\n",
      "Finished epoch 47, latest loss 0.294362336397171\n",
      "Finished epoch 48, latest loss 0.29486456513404846\n",
      "Finished epoch 49, latest loss 0.29509761929512024\n",
      "Epoch 50, loss 0.2955484092235565, accuracy 0.8611195268853691\n",
      "Finished epoch 50, latest loss 0.2955484092235565\n",
      "Finished epoch 51, latest loss 0.295442670583725\n",
      "Finished epoch 52, latest loss 0.2965606153011322\n",
      "Finished epoch 53, latest loss 0.2962948977947235\n",
      "Finished epoch 54, latest loss 0.2950286865234375\n",
      "Finished epoch 55, latest loss 0.2961798310279846\n",
      "Finished epoch 56, latest loss 0.2956191897392273\n",
      "Finished epoch 57, latest loss 0.2960541844367981\n",
      "Finished epoch 58, latest loss 0.2964369058609009\n",
      "Finished epoch 59, latest loss 0.2946605980396271\n",
      "Epoch 60, loss 0.2932414710521698, accuracy 0.862373813880776\n",
      "Finished epoch 60, latest loss 0.2932414710521698\n",
      "Finished epoch 61, latest loss 0.29232510924339294\n",
      "Finished epoch 62, latest loss 0.2925756275653839\n",
      "Finished epoch 63, latest loss 0.29375725984573364\n",
      "Finished epoch 64, latest loss 0.29295074939727783\n",
      "Finished epoch 65, latest loss 0.2949882745742798\n",
      "Finished epoch 66, latest loss 0.2942567765712738\n",
      "Finished epoch 67, latest loss 0.29425865411758423\n",
      "Finished epoch 68, latest loss 0.29547587037086487\n",
      "Finished epoch 69, latest loss 0.2934938371181488\n",
      "Epoch 70, loss 0.2945035994052887, accuracy 0.8633614891476907\n",
      "Finished epoch 70, latest loss 0.2945035994052887\n",
      "Finished epoch 71, latest loss 0.2938486933708191\n",
      "Finished epoch 72, latest loss 0.2960669994354248\n",
      "Finished epoch 73, latest loss 0.29564258456230164\n",
      "Finished epoch 74, latest loss 0.2935667634010315\n",
      "Finished epoch 75, latest loss 0.29323258996009827\n",
      "Finished epoch 76, latest loss 0.293533056974411\n",
      "Finished epoch 77, latest loss 0.29440629482269287\n",
      "Finished epoch 78, latest loss 0.294393926858902\n",
      "Finished epoch 79, latest loss 0.2947885990142822\n",
      "Epoch 80, loss 0.29461154341697693, accuracy 0.8633857265775537\n",
      "Finished epoch 80, latest loss 0.29461154341697693\n",
      "Finished epoch 81, latest loss 0.29450395703315735\n",
      "Finished epoch 82, latest loss 0.29546231031417847\n",
      "Finished epoch 83, latest loss 0.29505637288093567\n",
      "Finished epoch 84, latest loss 0.2949138879776001\n",
      "Finished epoch 85, latest loss 0.29549574851989746\n",
      "Finished epoch 86, latest loss 0.29790711402893066\n",
      "Finished epoch 87, latest loss 0.29522478580474854\n",
      "Finished epoch 88, latest loss 0.29658544063568115\n",
      "Finished epoch 89, latest loss 0.29617661237716675\n",
      "Epoch 90, loss 0.2963280975818634, accuracy 0.864361283129537\n",
      "Finished epoch 90, latest loss 0.2963280975818634\n",
      "Finished epoch 91, latest loss 0.29525071382522583\n",
      "Finished epoch 92, latest loss 0.29517900943756104\n",
      "Finished epoch 93, latest loss 0.29563987255096436\n",
      "Finished epoch 94, latest loss 0.29640549421310425\n",
      "Finished epoch 95, latest loss 0.2942788600921631\n",
      "Finished epoch 96, latest loss 0.2962488532066345\n",
      "Finished epoch 97, latest loss 0.2966628074645996\n",
      "Finished epoch 98, latest loss 0.2952316701412201\n",
      "Finished epoch 99, latest loss 0.296337753534317\n"
     ]
    }
   ],
   "source": [
    "n_epochs = 100\n",
    "batch_size = 1028\n",
    "\n",
    "train_accuracies = []\n",
    "\n",
    "for epoch in range(n_epochs):\n",
    "    for i in range(0, len(X), batch_size):\n",
    "        Xbatch = X[i:i+batch_size]\n",
    "        y_pred = model(Xbatch)\n",
    "        ybatch = y[i:i+batch_size]\n",
    "        loss = loss_fn(y_pred, ybatch)\n",
    "        optimizer.zero_grad()\n",
    "        loss.backward()\n",
    "        optimizer.step()\n",
    "    if epoch % 10 == 0:\n",
    "        y_pred = model(X)\n",
    "        y_pred = y_pred.round().detach().numpy()\n",
    "        accuracy = accuracy_score(y, y_pred)\n",
    "        print(f'Epoch {epoch}, loss {loss}, accuracy {accuracy}')\n",
    "        train_accuracies.append(accuracy)\n",
    "    print(f'Finished epoch {epoch}, latest loss {loss}')"
   ],
   "metadata": {
    "collapsed": false,
    "ExecuteTime": {
     "end_time": "2024-03-14T19:19:14.115439Z",
     "start_time": "2024-03-14T19:17:47.745414Z"
    }
   }
  },
  {
   "cell_type": "code",
   "execution_count": 24,
   "outputs": [
    {
     "name": "stdout",
     "output_type": "stream",
     "text": [
      "Accuracy of the deep NN model: 0.8650892234980458\n"
     ]
    }
   ],
   "source": [
    "with torch.no_grad():\n",
    "  y_pred_test = model(X_test)\n",
    "  y_pred_test = y_pred_test.round().detach().numpy()\n",
    "# Calculate the accuracy of the model\n",
    "accuracy = accuracy_score(y_test, y_pred_test)\n",
    "print(f'Accuracy of the deep NN model: {accuracy}')"
   ],
   "metadata": {
    "collapsed": false,
    "ExecuteTime": {
     "end_time": "2024-03-14T19:19:14.241367Z",
     "start_time": "2024-03-14T19:19:14.114782Z"
    }
   }
  },
  {
   "cell_type": "code",
   "execution_count": 25,
   "outputs": [
    {
     "data": {
      "text/plain": "<Figure size 640x480 with 1 Axes>",
      "image/png": "[encoded data removed]"
     },
     "metadata": {},
     "output_type": "display_data"
    }
   ],
   "source": [
    "# Plot the training accuracy\n",
    "plt.plot(range(0,100, 10), train_accuracies)\n",
    "plt.xlabel('Epoch')\n",
    "plt.ylabel('Accuracy')\n",
    "plt.title('Deep Net Training Accuracy')\n",
    "plt.show()"
   ],
   "metadata": {
    "collapsed": false,
    "ExecuteTime": {
     "end_time": "2024-03-14T19:19:14.788460Z",
     "start_time": "2024-03-14T19:19:14.231640Z"
    }
   }
  },
  {
   "cell_type": "code",
   "execution_count": 26,
   "outputs": [],
   "source": [
    "# Add normalization to the model\n",
    "\n",
    "model = nn.Sequential(\n",
    "    nn.Linear(10, 20), \n",
    "    nn.BatchNorm1d(20),\n",
    "    nn.ReLU(),\n",
    "    nn.Linear(20, 40),\n",
    "    nn.BatchNorm1d(40),\n",
    "    nn.ReLU(),\n",
    "    nn.Linear(40, 20),\n",
    "    nn.BatchNorm1d(20),\n",
    "    nn.ReLU(),   \n",
    "    nn.Linear(20, 10),\n",
    "    nn.BatchNorm1d(10),\n",
    "    nn.ReLU(), \n",
    "    nn.Linear(10, 1), \n",
    "    nn.Sigmoid() \n",
    ")"
   ],
   "metadata": {
    "collapsed": false,
    "ExecuteTime": {
     "end_time": "2024-03-14T19:19:14.960444Z",
     "start_time": "2024-03-14T19:19:14.790201Z"
    }
   }
  },
  {
   "cell_type": "code",
   "execution_count": 27,
   "outputs": [],
   "source": [
    "loss_fn = nn.BCELoss()\n",
    "optimizer = optim.Adam(model.parameters(), lr = 0.01)"
   ],
   "metadata": {
    "collapsed": false,
    "ExecuteTime": {
     "end_time": "2024-03-14T19:19:14.960789Z",
     "start_time": "2024-03-14T19:19:14.833879Z"
    }
   }
  },
  {
   "cell_type": "code",
   "execution_count": 28,
   "outputs": [
    {
     "name": "stdout",
     "output_type": "stream",
     "text": [
      "Epoch 0, loss 0.32889673113822937, accuracy 0.8562538628403844\n",
      "Finished epoch 0, latest loss 0.32889673113822937\n",
      "Finished epoch 1, latest loss 0.30561691522598267\n",
      "Finished epoch 2, latest loss 0.2980937361717224\n",
      "Finished epoch 3, latest loss 0.29533857107162476\n",
      "Finished epoch 4, latest loss 0.2956080436706543\n",
      "Finished epoch 5, latest loss 0.294033408164978\n",
      "Finished epoch 6, latest loss 0.2934280335903168\n",
      "Finished epoch 7, latest loss 0.2924134433269501\n",
      "Finished epoch 8, latest loss 0.2924225330352783\n",
      "Finished epoch 9, latest loss 0.2924652397632599\n",
      "Epoch 10, loss 0.29260680079460144, accuracy 0.8639371281069356\n",
      "Finished epoch 10, latest loss 0.29260680079460144\n",
      "Finished epoch 11, latest loss 0.29227301478385925\n",
      "Finished epoch 12, latest loss 0.29305970668792725\n",
      "Finished epoch 13, latest loss 0.29334813356399536\n",
      "Finished epoch 14, latest loss 0.2934405505657196\n",
      "Finished epoch 15, latest loss 0.2928094267845154\n",
      "Finished epoch 16, latest loss 0.29222914576530457\n",
      "Finished epoch 17, latest loss 0.2917269170284271\n",
      "Finished epoch 18, latest loss 0.29246458411216736\n",
      "Finished epoch 19, latest loss 0.29165947437286377\n",
      "Epoch 20, loss 0.29207468032836914, accuracy 0.8647733194372069\n",
      "Finished epoch 20, latest loss 0.29207468032836914\n",
      "Finished epoch 21, latest loss 0.2917027771472931\n",
      "Finished epoch 22, latest loss 0.2917805314064026\n",
      "Finished epoch 23, latest loss 0.2924184203147888\n",
      "Finished epoch 24, latest loss 0.29163017868995667\n",
      "Finished epoch 25, latest loss 0.29166752099990845\n",
      "Finished epoch 26, latest loss 0.2915346026420593\n",
      "Finished epoch 27, latest loss 0.29142624139785767\n",
      "Finished epoch 28, latest loss 0.29163283109664917\n",
      "Finished epoch 29, latest loss 0.2907334566116333\n",
      "Epoch 30, loss 0.29047852754592896, accuracy 0.8650702279530279\n",
      "Finished epoch 30, latest loss 0.29047852754592896\n",
      "Finished epoch 31, latest loss 0.2910132110118866\n",
      "Finished epoch 32, latest loss 0.29099470376968384\n",
      "Finished epoch 33, latest loss 0.29067665338516235\n",
      "Finished epoch 34, latest loss 0.29098206758499146\n",
      "Finished epoch 35, latest loss 0.2907063364982605\n",
      "Finished epoch 36, latest loss 0.2902121841907501\n",
      "Finished epoch 37, latest loss 0.29139286279678345\n",
      "Finished epoch 38, latest loss 0.2906569540500641\n",
      "Finished epoch 39, latest loss 0.290922075510025\n",
      "Epoch 40, loss 0.2900364100933075, accuracy 0.8654459081159034\n",
      "Finished epoch 40, latest loss 0.2900364100933075\n",
      "Finished epoch 41, latest loss 0.29025840759277344\n",
      "Finished epoch 42, latest loss 0.2903762459754944\n",
      "Finished epoch 43, latest loss 0.28956305980682373\n",
      "Finished epoch 44, latest loss 0.28919515013694763\n",
      "Finished epoch 45, latest loss 0.2893643081188202\n",
      "Finished epoch 46, latest loss 0.2889387905597687\n",
      "Finished epoch 47, latest loss 0.28897079825401306\n",
      "Finished epoch 48, latest loss 0.28889545798301697\n",
      "Finished epoch 49, latest loss 0.2889886200428009\n",
      "Epoch 50, loss 0.28930801153182983, accuracy 0.865615570124944\n",
      "Finished epoch 50, latest loss 0.28930801153182983\n",
      "Finished epoch 51, latest loss 0.28870296478271484\n",
      "Finished epoch 52, latest loss 0.2883538603782654\n",
      "Finished epoch 53, latest loss 0.28789421916007996\n",
      "Finished epoch 54, latest loss 0.28814810514450073\n",
      "Finished epoch 55, latest loss 0.28815189003944397\n",
      "Finished epoch 56, latest loss 0.28813499212265015\n",
      "Finished epoch 57, latest loss 0.28784939646720886\n",
      "Finished epoch 58, latest loss 0.28797632455825806\n",
      "Finished epoch 59, latest loss 0.28809019923210144\n",
      "Epoch 60, loss 0.28729531168937683, accuracy 0.8656216294824097\n",
      "Finished epoch 60, latest loss 0.28729531168937683\n",
      "Finished epoch 61, latest loss 0.2877786159515381\n",
      "Finished epoch 62, latest loss 0.2874927520751953\n",
      "Finished epoch 63, latest loss 0.2876546084880829\n",
      "Finished epoch 64, latest loss 0.2871043086051941\n",
      "Finished epoch 65, latest loss 0.28694063425064087\n",
      "Finished epoch 66, latest loss 0.2875490188598633\n",
      "Finished epoch 67, latest loss 0.2868292033672333\n",
      "Finished epoch 68, latest loss 0.2871831953525543\n",
      "Finished epoch 69, latest loss 0.28682392835617065\n",
      "Epoch 70, loss 0.2875157296657562, accuracy 0.8661063780796684\n",
      "Finished epoch 70, latest loss 0.2875157296657562\n",
      "Finished epoch 71, latest loss 0.28742527961730957\n",
      "Finished epoch 72, latest loss 0.2874852418899536\n",
      "Finished epoch 73, latest loss 0.2876867353916168\n",
      "Finished epoch 74, latest loss 0.28739503026008606\n",
      "Finished epoch 75, latest loss 0.28714409470558167\n",
      "Finished epoch 76, latest loss 0.28819406032562256\n",
      "Finished epoch 77, latest loss 0.2878752052783966\n",
      "Finished epoch 78, latest loss 0.2870925962924957\n",
      "Finished epoch 79, latest loss 0.2866489589214325\n",
      "Epoch 80, loss 0.2864759564399719, accuracy 0.8660639625774083\n",
      "Finished epoch 80, latest loss 0.2864759564399719\n",
      "Finished epoch 81, latest loss 0.2868958115577698\n",
      "Finished epoch 82, latest loss 0.286560982465744\n",
      "Finished epoch 83, latest loss 0.286576509475708\n",
      "Finished epoch 84, latest loss 0.2864018380641937\n",
      "Finished epoch 85, latest loss 0.28645646572113037\n",
      "Finished epoch 86, latest loss 0.28630930185317993\n",
      "Finished epoch 87, latest loss 0.28621411323547363\n",
      "Finished epoch 88, latest loss 0.2860339283943176\n",
      "Finished epoch 89, latest loss 0.2865348756313324\n",
      "Epoch 90, loss 0.286044180393219, accuracy 0.8663608710932292\n",
      "Finished epoch 90, latest loss 0.286044180393219\n",
      "Finished epoch 91, latest loss 0.28653672337532043\n",
      "Finished epoch 92, latest loss 0.2861543595790863\n",
      "Finished epoch 93, latest loss 0.2859567403793335\n",
      "Finished epoch 94, latest loss 0.28601327538490295\n",
      "Finished epoch 95, latest loss 0.28493350744247437\n",
      "Finished epoch 96, latest loss 0.28563201427459717\n",
      "Finished epoch 97, latest loss 0.2859477698802948\n",
      "Finished epoch 98, latest loss 0.2850613594055176\n",
      "Finished epoch 99, latest loss 0.28523772954940796\n"
     ]
    }
   ],
   "source": [
    "n_epochs = 100\n",
    "batch_size = 1028\n",
    "\n",
    "train_accuracies = []\n",
    "\n",
    "model.train()\n",
    "for epoch in range(n_epochs):\n",
    "    for i in range(0, len(X), batch_size):\n",
    "        Xbatch = X[i:i+batch_size]\n",
    "        y_pred = model(Xbatch)\n",
    "        ybatch = y[i:i+batch_size]\n",
    "        loss = loss_fn(y_pred, ybatch)\n",
    "        optimizer.zero_grad()\n",
    "        loss.backward()\n",
    "        optimizer.step()\n",
    "    if epoch % 10 == 0:\n",
    "        y_pred = model(X)\n",
    "        y_pred = y_pred.round().detach().numpy()\n",
    "        accuracy = accuracy_score(y, y_pred)\n",
    "        print(f'Epoch {epoch}, loss {loss}, accuracy {accuracy}')\n",
    "        train_accuracies.append(accuracy)\n",
    "    print(f'Finished epoch {epoch}, latest loss {loss}')"
   ],
   "metadata": {
    "collapsed": false,
    "ExecuteTime": {
     "end_time": "2024-03-14T19:23:08.386422Z",
     "start_time": "2024-03-14T19:19:14.855977Z"
    }
   }
  },
  {
   "cell_type": "code",
   "execution_count": 29,
   "outputs": [
    {
     "name": "stdout",
     "output_type": "stream",
     "text": [
      "Accuracy of the deep NN model with normalization (50% threshold): 0.8670585027418426\n"
     ]
    }
   ],
   "source": [
    "with torch.no_grad():\n",
    "  y_pred_test = model(X_test)\n",
    "\n",
    "y_pred_50 = y_pred_test.round().detach().numpy()\n",
    "# Calculate the accuracy of the model\n",
    "accuracy = accuracy_score(y_test, y_pred_50)\n",
    "print(f'Accuracy of the deep NN model with normalization (50% threshold): {accuracy}')"
   ],
   "metadata": {
    "collapsed": false,
    "ExecuteTime": {
     "end_time": "2024-03-14T19:23:08.423626Z",
     "start_time": "2024-03-14T19:23:01.982605Z"
    }
   }
  },
  {
   "cell_type": "code",
   "execution_count": 30,
   "outputs": [
    {
     "data": {
      "text/plain": "<Figure size 640x480 with 1 Axes>",
      "image/png": "[encoded data removed]"
     },
     "metadata": {},
     "output_type": "display_data"
    }
   ],
   "source": [
    "# Plot the training accuracy\n",
    "plt.plot(range(0,100, 10), train_accuracies)\n",
    "plt.xlabel('Epoch')\n",
    "plt.ylabel('Accuracy')\n",
    "plt.title('Deep Net with BN Training Accuracy')\n",
    "plt.show()"
   ],
   "metadata": {
    "collapsed": false,
    "ExecuteTime": {
     "end_time": "2024-03-14T19:23:08.424824Z",
     "start_time": "2024-03-14T19:23:02.015576Z"
    }
   }
  },
  {
   "cell_type": "code",
   "execution_count": 32,
   "outputs": [
    {
     "name": "stdout",
     "output_type": "stream",
     "text": [
      "Epoch 0, loss 0.3092770576477051, accuracy 0.8598349431026334\n",
      "Finished epoch 0, latest loss 0.3092770576477051\n",
      "Finished epoch 1, latest loss 0.30685722827911377\n",
      "Finished epoch 2, latest loss 0.30463752150535583\n",
      "Finished epoch 3, latest loss 0.2993071675300598\n",
      "Finished epoch 4, latest loss 0.29759469628334045\n",
      "Finished epoch 5, latest loss 0.29826590418815613\n",
      "Finished epoch 6, latest loss 0.29550299048423767\n",
      "Finished epoch 7, latest loss 0.2952840328216553\n",
      "Finished epoch 8, latest loss 0.29322904348373413\n",
      "Finished epoch 9, latest loss 0.29200705885887146\n",
      "Epoch 10, loss 0.29145029187202454, accuracy 0.865021753093302\n",
      "Finished epoch 10, latest loss 0.29145029187202454\n",
      "Finished epoch 11, latest loss 0.2899089455604553\n",
      "Finished epoch 12, latest loss 0.2905634343624115\n",
      "Finished epoch 13, latest loss 0.2908450663089752\n",
      "Finished epoch 14, latest loss 0.2900119125843048\n",
      "Finished epoch 15, latest loss 0.2896478772163391\n",
      "Finished epoch 16, latest loss 0.2886308431625366\n",
      "Finished epoch 17, latest loss 0.2871495187282562\n",
      "Finished epoch 18, latest loss 0.2874847650527954\n",
      "Finished epoch 19, latest loss 0.2878294289112091\n",
      "Epoch 20, loss 0.2878618538379669, accuracy 0.8655246797629579\n",
      "Finished epoch 20, latest loss 0.2878618538379669\n",
      "Finished epoch 21, latest loss 0.2871268391609192\n",
      "Finished epoch 22, latest loss 0.2869129478931427\n",
      "Finished epoch 23, latest loss 0.28702855110168457\n",
      "Finished epoch 24, latest loss 0.28591078519821167\n",
      "Finished epoch 25, latest loss 0.2869769036769867\n",
      "Finished epoch 26, latest loss 0.2862154543399811\n",
      "Finished epoch 27, latest loss 0.2864030599594116\n",
      "Finished epoch 28, latest loss 0.2858951687812805\n",
      "Finished epoch 29, latest loss 0.28531408309936523\n",
      "Epoch 30, loss 0.28584393858909607, accuracy 0.8654822642606977\n",
      "Finished epoch 30, latest loss 0.28584393858909607\n",
      "Finished epoch 31, latest loss 0.2849911153316498\n",
      "Finished epoch 32, latest loss 0.28477588295936584\n",
      "Finished epoch 33, latest loss 0.28508448600769043\n",
      "Finished epoch 34, latest loss 0.2845696806907654\n",
      "Finished epoch 35, latest loss 0.2847827672958374\n",
      "Finished epoch 36, latest loss 0.28446412086486816\n",
      "Finished epoch 37, latest loss 0.2842075228691101\n",
      "Finished epoch 38, latest loss 0.2834087610244751\n",
      "Finished epoch 39, latest loss 0.2819678783416748\n",
      "Epoch 40, loss 0.28200507164001465, accuracy 0.8656337481973412\n",
      "Finished epoch 40, latest loss 0.28200507164001465\n",
      "Finished epoch 41, latest loss 0.2816483974456787\n",
      "Finished epoch 42, latest loss 0.2812015116214752\n",
      "Finished epoch 43, latest loss 0.2820931673049927\n",
      "Finished epoch 44, latest loss 0.2813582122325897\n",
      "Finished epoch 45, latest loss 0.2811610698699951\n",
      "Finished epoch 46, latest loss 0.28004875779151917\n",
      "Finished epoch 47, latest loss 0.28031426668167114\n",
      "Finished epoch 48, latest loss 0.2792273163795471\n",
      "Finished epoch 49, latest loss 0.2786700129508972\n",
      "Epoch 50, loss 0.2784934341907501, accuracy 0.8653307803240544\n",
      "Finished epoch 50, latest loss 0.2784934341907501\n",
      "Finished epoch 51, latest loss 0.2786826491355896\n",
      "Finished epoch 52, latest loss 0.278299480676651\n",
      "Finished epoch 53, latest loss 0.2775923013687134\n",
      "Finished epoch 54, latest loss 0.2776898741722107\n",
      "Finished epoch 55, latest loss 0.2781373858451843\n",
      "Finished epoch 56, latest loss 0.2790515422821045\n",
      "Finished epoch 57, latest loss 0.2776084244251251\n",
      "Finished epoch 58, latest loss 0.2780880630016327\n",
      "Finished epoch 59, latest loss 0.2781009376049042\n",
      "Epoch 60, loss 0.27770891785621643, accuracy 0.8656943417719984\n",
      "Finished epoch 60, latest loss 0.27770891785621643\n",
      "Finished epoch 61, latest loss 0.2781180143356323\n",
      "Finished epoch 62, latest loss 0.27922284603118896\n",
      "Finished epoch 63, latest loss 0.27761462330818176\n",
      "Finished epoch 64, latest loss 0.2780129909515381\n",
      "Finished epoch 65, latest loss 0.27731019258499146\n",
      "Finished epoch 66, latest loss 0.2789003551006317\n",
      "Finished epoch 67, latest loss 0.2782488763332367\n",
      "Finished epoch 68, latest loss 0.27799713611602783\n",
      "Finished epoch 69, latest loss 0.27705374360084534\n",
      "Epoch 70, loss 0.2771259844303131, accuracy 0.8661184967945998\n",
      "Finished epoch 70, latest loss 0.2771259844303131\n",
      "Finished epoch 71, latest loss 0.2765900790691376\n",
      "Finished epoch 72, latest loss 0.2768316864967346\n",
      "Finished epoch 73, latest loss 0.27771955728530884\n",
      "Finished epoch 74, latest loss 0.2769019305706024\n",
      "Finished epoch 75, latest loss 0.2781468629837036\n",
      "Finished epoch 76, latest loss 0.27769169211387634\n",
      "Finished epoch 77, latest loss 0.277070015668869\n",
      "Finished epoch 78, latest loss 0.2780061364173889\n",
      "Finished epoch 79, latest loss 0.27689895033836365\n",
      "Epoch 80, loss 0.27676287293434143, accuracy 0.8659609535004908\n",
      "Finished epoch 80, latest loss 0.27676287293434143\n",
      "Finished epoch 81, latest loss 0.2761348783969879\n",
      "Finished epoch 82, latest loss 0.27623996138572693\n",
      "Finished epoch 83, latest loss 0.27731576561927795\n",
      "Finished epoch 84, latest loss 0.27869945764541626\n",
      "Finished epoch 85, latest loss 0.27734649181365967\n",
      "Finished epoch 86, latest loss 0.27660953998565674\n",
      "Finished epoch 87, latest loss 0.27690964937210083\n",
      "Finished epoch 88, latest loss 0.27734822034835815\n",
      "Finished epoch 89, latest loss 0.27723565697669983\n",
      "Epoch 90, loss 0.2782876193523407, accuracy 0.8661003187222027\n",
      "Finished epoch 90, latest loss 0.2782876193523407\n",
      "Finished epoch 91, latest loss 0.2756858468055725\n",
      "Finished epoch 92, latest loss 0.27979886531829834\n",
      "Finished epoch 93, latest loss 0.2782398462295532\n",
      "Finished epoch 94, latest loss 0.2786329984664917\n",
      "Finished epoch 95, latest loss 0.2778606712818146\n",
      "Finished epoch 96, latest loss 0.27732330560684204\n",
      "Finished epoch 97, latest loss 0.2766953110694885\n",
      "Finished epoch 98, latest loss 0.27777478098869324\n",
      "Finished epoch 99, latest loss 0.2767373025417328\n",
      "Epoch 100, loss 0.27741336822509766, accuracy 0.8663063368760376\n",
      "Finished epoch 100, latest loss 0.27741336822509766\n",
      "Finished epoch 101, latest loss 0.27728718519210815\n",
      "Finished epoch 102, latest loss 0.2774920165538788\n",
      "Finished epoch 103, latest loss 0.2756196856498718\n",
      "Finished epoch 104, latest loss 0.27596595883369446\n",
      "Finished epoch 105, latest loss 0.2765037417411804\n",
      "Finished epoch 106, latest loss 0.27655115723609924\n",
      "Finished epoch 107, latest loss 0.27567487955093384\n",
      "Finished epoch 108, latest loss 0.2766621708869934\n",
      "Finished epoch 109, latest loss 0.2760714590549469\n",
      "Epoch 110, loss 0.2778378129005432, accuracy 0.8663123962335034\n",
      "Finished epoch 110, latest loss 0.2778378129005432\n",
      "Finished epoch 111, latest loss 0.27687695622444153\n",
      "Finished epoch 112, latest loss 0.27752622961997986\n",
      "Finished epoch 113, latest loss 0.2783704698085785\n",
      "Finished epoch 114, latest loss 0.2766511142253876\n",
      "Finished epoch 115, latest loss 0.27595284581184387\n",
      "Finished epoch 116, latest loss 0.27618709206581116\n",
      "Finished epoch 117, latest loss 0.27743300795555115\n",
      "Finished epoch 118, latest loss 0.2780025899410248\n",
      "Finished epoch 119, latest loss 0.2772502303123474\n",
      "Epoch 120, loss 0.27698618173599243, accuracy 0.8663305743059005\n",
      "Finished epoch 120, latest loss 0.27698618173599243\n",
      "Finished epoch 121, latest loss 0.2770155072212219\n",
      "Finished epoch 122, latest loss 0.27630138397216797\n",
      "Finished epoch 123, latest loss 0.27609267830848694\n",
      "Finished epoch 124, latest loss 0.2774953842163086\n",
      "Finished epoch 125, latest loss 0.2773962616920471\n",
      "Finished epoch 126, latest loss 0.27681097388267517\n",
      "Finished epoch 127, latest loss 0.27675917744636536\n",
      "Finished epoch 128, latest loss 0.2760857045650482\n",
      "Finished epoch 129, latest loss 0.2745431959629059\n",
      "Epoch 130, loss 0.2733227610588074, accuracy 0.8664032865954894\n",
      "Finished epoch 130, latest loss 0.2733227610588074\n",
      "Finished epoch 131, latest loss 0.2749179005622864\n",
      "Finished epoch 132, latest loss 0.2737579047679901\n",
      "Finished epoch 133, latest loss 0.2740136682987213\n",
      "Finished epoch 134, latest loss 0.2739437520503998\n",
      "Finished epoch 135, latest loss 0.2752213180065155\n",
      "Finished epoch 136, latest loss 0.2745226323604584\n",
      "Finished epoch 137, latest loss 0.2742002308368683\n",
      "Finished epoch 138, latest loss 0.27425163984298706\n",
      "Finished epoch 139, latest loss 0.2740875780582428\n",
      "Epoch 140, loss 0.2744677662849426, accuracy 0.8663063368760376\n",
      "Finished epoch 140, latest loss 0.2744677662849426\n",
      "Finished epoch 141, latest loss 0.27410978078842163\n",
      "Finished epoch 142, latest loss 0.2764640748500824\n",
      "Finished epoch 143, latest loss 0.276289701461792\n",
      "Finished epoch 144, latest loss 0.27674129605293274\n",
      "Finished epoch 145, latest loss 0.2747456431388855\n",
      "Finished epoch 146, latest loss 0.27355465292930603\n",
      "Finished epoch 147, latest loss 0.2737801671028137\n",
      "Finished epoch 148, latest loss 0.27405038475990295\n",
      "Finished epoch 149, latest loss 0.27195310592651367\n",
      "Epoch 150, loss 0.272302508354187, accuracy 0.8666093047493244\n",
      "Finished epoch 150, latest loss 0.272302508354187\n",
      "Finished epoch 151, latest loss 0.27404919266700745\n",
      "Finished epoch 152, latest loss 0.27319058775901794\n",
      "Finished epoch 153, latest loss 0.2725767195224762\n",
      "Finished epoch 154, latest loss 0.27235308289527893\n",
      "Finished epoch 155, latest loss 0.2724730670452118\n",
      "Finished epoch 156, latest loss 0.2730359435081482\n",
      "Finished epoch 157, latest loss 0.27272745966911316\n",
      "Finished epoch 158, latest loss 0.27485519647598267\n",
      "Finished epoch 159, latest loss 0.27272671461105347\n",
      "Epoch 160, loss 0.27109605073928833, accuracy 0.8663487523782978\n",
      "Finished epoch 160, latest loss 0.27109605073928833\n",
      "Finished epoch 161, latest loss 0.269941508769989\n",
      "Finished epoch 162, latest loss 0.27033811807632446\n",
      "Finished epoch 163, latest loss 0.27065324783325195\n",
      "Finished epoch 164, latest loss 0.27104678750038147\n",
      "Finished epoch 165, latest loss 0.2704382538795471\n",
      "Finished epoch 166, latest loss 0.27145424485206604\n",
      "Finished epoch 167, latest loss 0.2703492045402527\n",
      "Finished epoch 168, latest loss 0.27120912075042725\n",
      "Finished epoch 169, latest loss 0.2710801959037781\n",
      "Epoch 170, loss 0.27206021547317505, accuracy 0.866597186034393\n",
      "Finished epoch 170, latest loss 0.27206021547317505\n",
      "Finished epoch 171, latest loss 0.27143433690071106\n",
      "Finished epoch 172, latest loss 0.2706194818019867\n",
      "Finished epoch 173, latest loss 0.27061226963996887\n",
      "Finished epoch 174, latest loss 0.2715288996696472\n",
      "Finished epoch 175, latest loss 0.27073174715042114\n",
      "Finished epoch 176, latest loss 0.27203571796417236\n",
      "Finished epoch 177, latest loss 0.27222418785095215\n",
      "Finished epoch 178, latest loss 0.27198246121406555\n",
      "Finished epoch 179, latest loss 0.2708961069583893\n",
      "Epoch 180, loss 0.27073195576667786, accuracy 0.8668092635456937\n",
      "Finished epoch 180, latest loss 0.27073195576667786\n",
      "Finished epoch 181, latest loss 0.2690753638744354\n",
      "Finished epoch 182, latest loss 0.2699601948261261\n",
      "Finished epoch 183, latest loss 0.2702184021472931\n",
      "Finished epoch 184, latest loss 0.26961827278137207\n",
      "Finished epoch 185, latest loss 0.2695651054382324\n",
      "Finished epoch 186, latest loss 0.2692946195602417\n",
      "Finished epoch 187, latest loss 0.27071961760520935\n",
      "Finished epoch 188, latest loss 0.2686581313610077\n",
      "Finished epoch 189, latest loss 0.2695189416408539\n",
      "Epoch 190, loss 0.2712669372558594, accuracy 0.8669728661972684\n",
      "Finished epoch 190, latest loss 0.2712669372558594\n",
      "Finished epoch 191, latest loss 0.2707643210887909\n",
      "Finished epoch 192, latest loss 0.2700965404510498\n",
      "Finished epoch 193, latest loss 0.2699529528617859\n",
      "Finished epoch 194, latest loss 0.2674647271633148\n",
      "Finished epoch 195, latest loss 0.26903992891311646\n",
      "Finished epoch 196, latest loss 0.26961472630500793\n",
      "Finished epoch 197, latest loss 0.26951682567596436\n",
      "Finished epoch 198, latest loss 0.2689967453479767\n",
      "Finished epoch 199, latest loss 0.27089807391166687\n",
      "Epoch 200, loss 0.2700894773006439, accuracy 0.8671970624235006\n",
      "Finished epoch 200, latest loss 0.2700894773006439\n",
      "Finished epoch 201, latest loss 0.2691432237625122\n",
      "Finished epoch 202, latest loss 0.2711082398891449\n",
      "Finished epoch 203, latest loss 0.27003246545791626\n",
      "Finished epoch 204, latest loss 0.27047091722488403\n",
      "Finished epoch 205, latest loss 0.27127164602279663\n",
      "Finished epoch 206, latest loss 0.269293874502182\n",
      "Finished epoch 207, latest loss 0.2702120244503021\n",
      "Finished epoch 208, latest loss 0.27092811465263367\n",
      "Finished epoch 209, latest loss 0.27002519369125366\n",
      "Epoch 210, loss 0.2697202265262604, accuracy 0.867209181138432\n",
      "Finished epoch 210, latest loss 0.2697202265262604\n",
      "Finished epoch 211, latest loss 0.26961180567741394\n",
      "Finished epoch 212, latest loss 0.2695111334323883\n",
      "Finished epoch 213, latest loss 0.2695286273956299\n",
      "Finished epoch 214, latest loss 0.2683715522289276\n",
      "Finished epoch 215, latest loss 0.27027419209480286\n",
      "Finished epoch 216, latest loss 0.2710593044757843\n",
      "Finished epoch 217, latest loss 0.26993927359580994\n",
      "Finished epoch 218, latest loss 0.2686585783958435\n",
      "Finished epoch 219, latest loss 0.2688865661621094\n",
      "Epoch 220, loss 0.2696038782596588, accuracy 0.8671910030660349\n",
      "Finished epoch 220, latest loss 0.2696038782596588\n",
      "Finished epoch 221, latest loss 0.26927340030670166\n",
      "Finished epoch 222, latest loss 0.269563764333725\n",
      "Finished epoch 223, latest loss 0.27012571692466736\n",
      "Finished epoch 224, latest loss 0.2701032757759094\n",
      "Finished epoch 225, latest loss 0.26815271377563477\n",
      "Finished epoch 226, latest loss 0.26925477385520935\n",
      "Finished epoch 227, latest loss 0.2691975235939026\n",
      "Finished epoch 228, latest loss 0.2674223482608795\n",
      "Finished epoch 229, latest loss 0.268070787191391\n",
      "Epoch 230, loss 0.2676200866699219, accuracy 0.8674757928669244\n",
      "Finished epoch 230, latest loss 0.2676200866699219\n",
      "Finished epoch 231, latest loss 0.2666093409061432\n",
      "Finished epoch 232, latest loss 0.2668217718601227\n",
      "Finished epoch 233, latest loss 0.26583704352378845\n",
      "Finished epoch 234, latest loss 0.26646506786346436\n",
      "Finished epoch 235, latest loss 0.2657650411128998\n",
      "Finished epoch 236, latest loss 0.2660941481590271\n",
      "Finished epoch 237, latest loss 0.26467201113700867\n",
      "Finished epoch 238, latest loss 0.26574593782424927\n",
      "Finished epoch 239, latest loss 0.26628363132476807\n",
      "Epoch 240, loss 0.2664060592651367, accuracy 0.8675788019438418\n",
      "Finished epoch 240, latest loss 0.2664060592651367\n",
      "Finished epoch 241, latest loss 0.26561039686203003\n",
      "Finished epoch 242, latest loss 0.2660328149795532\n",
      "Finished epoch 243, latest loss 0.26627683639526367\n",
      "Finished epoch 244, latest loss 0.2648560404777527\n",
      "Finished epoch 245, latest loss 0.26595064997673035\n",
      "Finished epoch 246, latest loss 0.2663811445236206\n",
      "Finished epoch 247, latest loss 0.26612532138824463\n",
      "Finished epoch 248, latest loss 0.265961229801178\n",
      "Finished epoch 249, latest loss 0.265759140253067\n",
      "Epoch 250, loss 0.26583945751190186, accuracy 0.8676575735908965\n",
      "Finished epoch 250, latest loss 0.26583945751190186\n",
      "Finished epoch 251, latest loss 0.2655743658542633\n",
      "Finished epoch 252, latest loss 0.265217661857605\n",
      "Finished epoch 253, latest loss 0.2669553756713867\n",
      "Finished epoch 254, latest loss 0.2661133408546448\n",
      "Finished epoch 255, latest loss 0.26714006066322327\n",
      "Finished epoch 256, latest loss 0.2660384178161621\n",
      "Finished epoch 257, latest loss 0.26719027757644653\n",
      "Finished epoch 258, latest loss 0.2667841613292694\n",
      "Finished epoch 259, latest loss 0.2675592303276062\n",
      "Epoch 260, loss 0.26540079712867737, accuracy 0.8675727425863762\n",
      "Finished epoch 260, latest loss 0.26540079712867737\n",
      "Finished epoch 261, latest loss 0.2670231759548187\n",
      "Finished epoch 262, latest loss 0.26487240195274353\n",
      "Finished epoch 263, latest loss 0.2653779089450836\n",
      "Finished epoch 264, latest loss 0.26525065302848816\n",
      "Finished epoch 265, latest loss 0.26428675651550293\n",
      "Finished epoch 266, latest loss 0.26359087228775024\n",
      "Finished epoch 267, latest loss 0.26389142870903015\n",
      "Finished epoch 268, latest loss 0.2668306529521942\n",
      "Finished epoch 269, latest loss 0.2649703919887543\n",
      "Epoch 270, loss 0.2645699977874756, accuracy 0.8678938885320601\n",
      "Finished epoch 270, latest loss 0.2645699977874756\n",
      "Finished epoch 271, latest loss 0.2639423906803131\n",
      "Finished epoch 272, latest loss 0.26331037282943726\n",
      "Finished epoch 273, latest loss 0.2641129493713379\n",
      "Finished epoch 274, latest loss 0.26375722885131836\n",
      "Finished epoch 275, latest loss 0.26405099034309387\n",
      "Finished epoch 276, latest loss 0.2635406255722046\n",
      "Finished epoch 277, latest loss 0.26369380950927734\n",
      "Finished epoch 278, latest loss 0.2643560469150543\n",
      "Finished epoch 279, latest loss 0.26355406641960144\n",
      "Epoch 280, loss 0.26337459683418274, accuracy 0.8677787607402111\n",
      "Finished epoch 280, latest loss 0.26337459683418274\n",
      "Finished epoch 281, latest loss 0.26234370470046997\n",
      "Finished epoch 282, latest loss 0.2621111571788788\n",
      "Finished epoch 283, latest loss 0.26174089312553406\n",
      "Finished epoch 284, latest loss 0.2628629803657532\n",
      "Finished epoch 285, latest loss 0.2629151940345764\n",
      "Finished epoch 286, latest loss 0.26302477717399597\n",
      "Finished epoch 287, latest loss 0.26250746846199036\n",
      "Finished epoch 288, latest loss 0.261855810880661\n",
      "Finished epoch 289, latest loss 0.2602565288543701\n",
      "Epoch 290, loss 0.260834276676178, accuracy 0.8675848613013076\n",
      "Finished epoch 290, latest loss 0.260834276676178\n",
      "Finished epoch 291, latest loss 0.260915070772171\n",
      "Finished epoch 292, latest loss 0.2600787878036499\n",
      "Finished epoch 293, latest loss 0.2604586184024811\n",
      "Finished epoch 294, latest loss 0.2611958384513855\n",
      "Finished epoch 295, latest loss 0.26047229766845703\n",
      "Finished epoch 296, latest loss 0.26113787293434143\n",
      "Finished epoch 297, latest loss 0.26025721430778503\n",
      "Finished epoch 298, latest loss 0.26244327425956726\n",
      "Finished epoch 299, latest loss 0.26142939925193787\n",
      "Epoch 300, loss 0.2610965967178345, accuracy 0.8675485051565132\n",
      "Finished epoch 300, latest loss 0.2610965967178345\n",
      "Finished epoch 301, latest loss 0.26115018129348755\n",
      "Finished epoch 302, latest loss 0.2613869905471802\n",
      "Finished epoch 303, latest loss 0.2609805762767792\n",
      "Finished epoch 304, latest loss 0.26147061586380005\n",
      "Finished epoch 305, latest loss 0.2619982063770294\n",
      "Finished epoch 306, latest loss 0.260987788438797\n",
      "Finished epoch 307, latest loss 0.2623758614063263\n",
      "Finished epoch 308, latest loss 0.2598089575767517\n",
      "Finished epoch 309, latest loss 0.2597847282886505\n",
      "Epoch 310, loss 0.2618592381477356, accuracy 0.8676878703782251\n",
      "Finished epoch 310, latest loss 0.2618592381477356\n",
      "Finished epoch 311, latest loss 0.2613145112991333\n",
      "Finished epoch 312, latest loss 0.2589581608772278\n",
      "Finished epoch 313, latest loss 0.2605283558368683\n",
      "Finished epoch 314, latest loss 0.2597682476043701\n",
      "Finished epoch 315, latest loss 0.26047343015670776\n",
      "Finished epoch 316, latest loss 0.2612202763557434\n",
      "Finished epoch 317, latest loss 0.2597375512123108\n",
      "Finished epoch 318, latest loss 0.25907227396965027\n",
      "Finished epoch 319, latest loss 0.2602978050708771\n",
      "Epoch 320, loss 0.2599320411682129, accuracy 0.8674939709393216\n",
      "Finished epoch 320, latest loss 0.2599320411682129\n",
      "Finished epoch 321, latest loss 0.25778403878211975\n",
      "Finished epoch 322, latest loss 0.260189026594162\n",
      "Finished epoch 323, latest loss 0.2597850263118744\n",
      "Finished epoch 324, latest loss 0.25898662209510803\n",
      "Finished epoch 325, latest loss 0.2587830722332001\n",
      "Finished epoch 326, latest loss 0.25832563638687134\n",
      "Finished epoch 327, latest loss 0.25869131088256836\n",
      "Finished epoch 328, latest loss 0.2588874101638794\n",
      "Finished epoch 329, latest loss 0.25925031304359436\n",
      "Epoch 330, loss 0.2581454813480377, accuracy 0.8677908794551425\n",
      "Finished epoch 330, latest loss 0.2581454813480377\n",
      "Finished epoch 331, latest loss 0.25951817631721497\n",
      "Finished epoch 332, latest loss 0.25890856981277466\n",
      "Finished epoch 333, latest loss 0.25923952460289\n",
      "Finished epoch 334, latest loss 0.2585042715072632\n",
      "Finished epoch 335, latest loss 0.2586277723312378\n",
      "Finished epoch 336, latest loss 0.2585311532020569\n",
      "Finished epoch 337, latest loss 0.25853079557418823\n",
      "Finished epoch 338, latest loss 0.25874191522598267\n",
      "Finished epoch 339, latest loss 0.25788068771362305\n",
      "Epoch 340, loss 0.2572295665740967, accuracy 0.8677060484506223\n",
      "Finished epoch 340, latest loss 0.2572295665740967\n",
      "Finished epoch 341, latest loss 0.25777432322502136\n",
      "Finished epoch 342, latest loss 0.2572005093097687\n",
      "Finished epoch 343, latest loss 0.25610050559043884\n",
      "Finished epoch 344, latest loss 0.25767990946769714\n",
      "Finished epoch 345, latest loss 0.2575617730617523\n",
      "Finished epoch 346, latest loss 0.2578149139881134\n",
      "Finished epoch 347, latest loss 0.2580481767654419\n",
      "Finished epoch 348, latest loss 0.25706055760383606\n",
      "Finished epoch 349, latest loss 0.25820398330688477\n",
      "Epoch 350, loss 0.25795918703079224, accuracy 0.8676636329483621\n",
      "Finished epoch 350, latest loss 0.25795918703079224\n",
      "Finished epoch 351, latest loss 0.258047878742218\n",
      "Finished epoch 352, latest loss 0.25878703594207764\n",
      "Finished epoch 353, latest loss 0.2581295073032379\n",
      "Finished epoch 354, latest loss 0.25706934928894043\n",
      "Finished epoch 355, latest loss 0.2573325037956238\n",
      "Finished epoch 356, latest loss 0.2568137049674988\n",
      "Finished epoch 357, latest loss 0.2560745179653168\n",
      "Finished epoch 358, latest loss 0.25715014338493347\n",
      "Finished epoch 359, latest loss 0.2564668655395508\n",
      "Epoch 360, loss 0.2554573714733124, accuracy 0.8676393955184992\n",
      "Finished epoch 360, latest loss 0.2554573714733124\n",
      "Finished epoch 361, latest loss 0.25604477524757385\n",
      "Finished epoch 362, latest loss 0.25569388270378113\n",
      "Finished epoch 363, latest loss 0.25424352288246155\n",
      "Finished epoch 364, latest loss 0.2548506259918213\n",
      "Finished epoch 365, latest loss 0.2550164759159088\n",
      "Finished epoch 366, latest loss 0.2546633780002594\n",
      "Finished epoch 367, latest loss 0.255893349647522\n",
      "Finished epoch 368, latest loss 0.253639280796051\n",
      "Finished epoch 369, latest loss 0.25314703583717346\n",
      "Epoch 370, loss 0.25481802225112915, accuracy 0.8676151580886363\n",
      "Finished epoch 370, latest loss 0.25481802225112915\n",
      "Finished epoch 371, latest loss 0.25694748759269714\n",
      "Finished epoch 372, latest loss 0.2554616928100586\n",
      "Finished epoch 373, latest loss 0.2561875581741333\n",
      "Finished epoch 374, latest loss 0.2554038465023041\n",
      "Finished epoch 375, latest loss 0.2555701732635498\n",
      "Finished epoch 376, latest loss 0.25451767444610596\n",
      "Finished epoch 377, latest loss 0.2547873258590698\n",
      "Finished epoch 378, latest loss 0.25502312183380127\n",
      "Finished epoch 379, latest loss 0.2567525804042816\n",
      "Epoch 380, loss 0.2562737762928009, accuracy 0.8675969800162391\n",
      "Finished epoch 380, latest loss 0.2562737762928009\n",
      "Finished epoch 381, latest loss 0.25639382004737854\n",
      "Finished epoch 382, latest loss 0.2564554810523987\n",
      "Finished epoch 383, latest loss 0.2561385929584503\n",
      "Finished epoch 384, latest loss 0.2547208070755005\n",
      "Finished epoch 385, latest loss 0.2559872567653656\n",
      "Finished epoch 386, latest loss 0.25604763627052307\n",
      "Finished epoch 387, latest loss 0.2561465799808502\n",
      "Finished epoch 388, latest loss 0.25648558139801025\n",
      "Finished epoch 389, latest loss 0.25612667202949524\n",
      "Epoch 390, loss 0.25743353366851807, accuracy 0.867645454875965\n",
      "Finished epoch 390, latest loss 0.25743353366851807\n",
      "Finished epoch 391, latest loss 0.25729531049728394\n",
      "Finished epoch 392, latest loss 0.2566121220588684\n",
      "Finished epoch 393, latest loss 0.25632667541503906\n",
      "Finished epoch 394, latest loss 0.255889356136322\n",
      "Finished epoch 395, latest loss 0.2567390501499176\n",
      "Finished epoch 396, latest loss 0.2562624514102936\n",
      "Finished epoch 397, latest loss 0.258060485124588\n",
      "Finished epoch 398, latest loss 0.25707411766052246\n",
      "Finished epoch 399, latest loss 0.257159024477005\n",
      "Epoch 400, loss 0.2578880786895752, accuracy 0.8677787607402111\n",
      "Finished epoch 400, latest loss 0.2578880786895752\n",
      "Finished epoch 401, latest loss 0.25697562098503113\n",
      "Finished epoch 402, latest loss 0.25657159090042114\n",
      "Finished epoch 403, latest loss 0.25605255365371704\n",
      "Finished epoch 404, latest loss 0.25637781620025635\n",
      "Finished epoch 405, latest loss 0.2556430399417877\n",
      "Finished epoch 406, latest loss 0.2565251588821411\n",
      "Finished epoch 407, latest loss 0.2557196021080017\n",
      "Finished epoch 408, latest loss 0.2564517557621002\n",
      "Finished epoch 409, latest loss 0.25829851627349854\n",
      "Epoch 410, loss 0.2573961615562439, accuracy 0.8676636329483621\n",
      "Finished epoch 410, latest loss 0.2573961615562439\n",
      "Finished epoch 411, latest loss 0.2571731209754944\n",
      "Finished epoch 412, latest loss 0.2567397356033325\n",
      "Finished epoch 413, latest loss 0.2562342882156372\n",
      "Finished epoch 414, latest loss 0.2584087550640106\n",
      "Finished epoch 415, latest loss 0.2572999894618988\n",
      "Finished epoch 416, latest loss 0.25609996914863586\n",
      "Finished epoch 417, latest loss 0.2567319869995117\n",
      "Finished epoch 418, latest loss 0.2568521499633789\n",
      "Finished epoch 419, latest loss 0.25517934560775757\n",
      "Epoch 420, loss 0.257416307926178, accuracy 0.8677908794551425\n",
      "Finished epoch 420, latest loss 0.257416307926178\n",
      "Finished epoch 421, latest loss 0.2568732798099518\n",
      "Finished epoch 422, latest loss 0.2568662762641907\n",
      "Finished epoch 423, latest loss 0.2559935748577118\n",
      "Finished epoch 424, latest loss 0.2564067542552948\n",
      "Finished epoch 425, latest loss 0.2574657201766968\n",
      "Finished epoch 426, latest loss 0.2562235891819\n",
      "Finished epoch 427, latest loss 0.2568662762641907\n",
      "Finished epoch 428, latest loss 0.25639861822128296\n",
      "Finished epoch 429, latest loss 0.25597018003463745\n",
      "Epoch 430, loss 0.25607988238334656, accuracy 0.867736345237951\n",
      "Finished epoch 430, latest loss 0.25607988238334656\n",
      "Finished epoch 431, latest loss 0.25588473677635193\n",
      "Finished epoch 432, latest loss 0.2547951340675354\n",
      "Finished epoch 433, latest loss 0.25622156262397766\n",
      "Finished epoch 434, latest loss 0.25604623556137085\n",
      "Finished epoch 435, latest loss 0.25647735595703125\n",
      "Finished epoch 436, latest loss 0.25628671050071716\n",
      "Finished epoch 437, latest loss 0.2549966871738434\n",
      "Finished epoch 438, latest loss 0.2552242875099182\n",
      "Finished epoch 439, latest loss 0.2561033070087433\n",
      "Epoch 440, loss 0.2569275498390198, accuracy 0.8678575323872657\n",
      "Finished epoch 440, latest loss 0.2569275498390198\n",
      "Finished epoch 441, latest loss 0.2572684586048126\n",
      "Finished epoch 442, latest loss 0.25637733936309814\n",
      "Finished epoch 443, latest loss 0.2561842203140259\n",
      "Finished epoch 444, latest loss 0.25525081157684326\n",
      "Finished epoch 445, latest loss 0.2554270327091217\n",
      "Finished epoch 446, latest loss 0.25704479217529297\n",
      "Finished epoch 447, latest loss 0.2548476457595825\n",
      "Finished epoch 448, latest loss 0.25490522384643555\n",
      "Finished epoch 449, latest loss 0.25566065311431885\n",
      "Epoch 450, loss 0.25472062826156616, accuracy 0.8679060072469915\n",
      "Finished epoch 450, latest loss 0.25472062826156616\n",
      "Finished epoch 451, latest loss 0.25370898842811584\n",
      "Finished epoch 452, latest loss 0.2543645203113556\n",
      "Finished epoch 453, latest loss 0.2530638575553894\n",
      "Finished epoch 454, latest loss 0.2547926604747772\n",
      "Finished epoch 455, latest loss 0.2549842298030853\n",
      "Finished epoch 456, latest loss 0.2556458115577698\n",
      "Finished epoch 457, latest loss 0.25638148188591003\n",
      "Finished epoch 458, latest loss 0.2554529905319214\n",
      "Finished epoch 459, latest loss 0.25619810819625854\n",
      "Epoch 460, loss 0.25536981225013733, accuracy 0.8680817286134979\n",
      "Finished epoch 460, latest loss 0.25536981225013733\n",
      "Finished epoch 461, latest loss 0.255092978477478\n",
      "Finished epoch 462, latest loss 0.25461697578430176\n",
      "Finished epoch 463, latest loss 0.2551497519016266\n",
      "Finished epoch 464, latest loss 0.25631773471832275\n",
      "Finished epoch 465, latest loss 0.2550593614578247\n",
      "Finished epoch 466, latest loss 0.2547856271266937\n",
      "Finished epoch 467, latest loss 0.25592556595802307\n",
      "Finished epoch 468, latest loss 0.25589480996131897\n",
      "Finished epoch 469, latest loss 0.2545764744281769\n",
      "Epoch 470, loss 0.25748154520988464, accuracy 0.8682998654822642\n",
      "Finished epoch 470, latest loss 0.25748154520988464\n",
      "Finished epoch 471, latest loss 0.2553499639034271\n",
      "Finished epoch 472, latest loss 0.25550660490989685\n",
      "Finished epoch 473, latest loss 0.25791171193122864\n",
      "Finished epoch 474, latest loss 0.25603291392326355\n",
      "Finished epoch 475, latest loss 0.256179541349411\n",
      "Finished epoch 476, latest loss 0.2572445571422577\n",
      "Finished epoch 477, latest loss 0.25806155800819397\n",
      "Finished epoch 478, latest loss 0.25728553533554077\n",
      "Finished epoch 479, latest loss 0.25609520077705383\n",
      "Epoch 480, loss 0.2582898736000061, accuracy 0.8680938473284293\n",
      "Finished epoch 480, latest loss 0.2582898736000061\n",
      "Finished epoch 481, latest loss 0.2579668164253235\n",
      "Finished epoch 482, latest loss 0.2571205794811249\n",
      "Finished epoch 483, latest loss 0.25740042328834534\n",
      "Finished epoch 484, latest loss 0.25823909044265747\n",
      "Finished epoch 485, latest loss 0.2575072944164276\n",
      "Finished epoch 486, latest loss 0.2558823525905609\n",
      "Finished epoch 487, latest loss 0.25600093603134155\n",
      "Finished epoch 488, latest loss 0.2563583254814148\n",
      "Finished epoch 489, latest loss 0.2557947337627411\n",
      "Epoch 490, loss 0.255153626203537, accuracy 0.8683301622695929\n",
      "Finished epoch 490, latest loss 0.255153626203537\n",
      "Finished epoch 491, latest loss 0.25519299507141113\n",
      "Finished epoch 492, latest loss 0.2557331621646881\n",
      "Finished epoch 493, latest loss 0.25531232357025146\n",
      "Finished epoch 494, latest loss 0.25537005066871643\n",
      "Finished epoch 495, latest loss 0.2565803527832031\n",
      "Finished epoch 496, latest loss 0.25523024797439575\n",
      "Finished epoch 497, latest loss 0.2575129568576813\n",
      "Finished epoch 498, latest loss 0.25734758377075195\n",
      "Finished epoch 499, latest loss 0.25759652256965637\n"
     ]
    }
   ],
   "source": [
    "# Train for 500 epochs to see when the model converges\n",
    "# Add normalization to the model\n",
    "\n",
    "model = nn.Sequential(\n",
    "    nn.Linear(10, 20), \n",
    "    nn.BatchNorm1d(20),\n",
    "    nn.ReLU(),\n",
    "    nn.Linear(20, 40),\n",
    "    nn.BatchNorm1d(40),\n",
    "    nn.ReLU(),\n",
    "    nn.Linear(40, 20),\n",
    "    nn.BatchNorm1d(20),\n",
    "    nn.ReLU(),   \n",
    "    nn.Linear(20, 10),\n",
    "    nn.BatchNorm1d(10),\n",
    "    nn.ReLU(), \n",
    "    nn.Linear(10, 1), \n",
    "    nn.Sigmoid() \n",
    ")\n",
    "\n",
    "loss_fn = nn.BCELoss()\n",
    "optimizer = optim.Adam(model.parameters(), lr = 0.01)\n",
    "\n",
    "n_epochs = 500\n",
    "batch_size = 1028\n",
    "\n",
    "train_accuracies = []\n",
    "\n",
    "model.train()\n",
    "for epoch in range(n_epochs):\n",
    "    for i in range(0, len(X), batch_size):\n",
    "        Xbatch = X[i:i+batch_size]\n",
    "        y_pred = model(Xbatch)\n",
    "        ybatch = y[i:i+batch_size]\n",
    "        loss = loss_fn(y_pred, ybatch)\n",
    "        optimizer.zero_grad()\n",
    "        loss.backward()\n",
    "        optimizer.step()\n",
    "    if epoch % 10 == 0:\n",
    "        y_pred = model(X)\n",
    "        y_pred = y_pred.round().detach().numpy()\n",
    "        accuracy = accuracy_score(y, y_pred)\n",
    "        print(f'Epoch {epoch}, loss {loss}, accuracy {accuracy}')\n",
    "        train_accuracies.append(accuracy)\n",
    "    print(f'Finished epoch {epoch}, latest loss {loss}')"
   ],
   "metadata": {
    "collapsed": false,
    "ExecuteTime": {
     "end_time": "2024-03-14T20:03:00.866032Z",
     "start_time": "2024-03-14T19:44:11.573591Z"
    }
   }
  },
  {
   "cell_type": "code",
   "execution_count": 41,
   "outputs": [
    {
     "data": {
      "text/plain": "<Figure size 640x480 with 1 Axes>",
      "image/png": "[encoded data removed]"
     },
     "metadata": {},
     "output_type": "display_data"
    }
   ],
   "source": [
    "# Plot train accuracies\n",
    "plt.plot(range(0,500, 10), train_accuracies)\n",
    "plt.xlabel('Epoch')\n",
    "plt.ylabel('Accuracy')\n",
    "plt.title('Deep Net with BN Training Accuracy')\n",
    "plt.show()"
   ],
   "metadata": {
    "collapsed": false,
    "ExecuteTime": {
     "end_time": "2024-03-14T20:30:26.674884Z",
     "start_time": "2024-03-14T20:30:24.627187Z"
    }
   }
  },
  {
   "cell_type": "code",
   "execution_count": 33,
   "outputs": [
    {
     "name": "stdout",
     "output_type": "stream",
     "text": [
      "Accuracy of the deep NN model with normalization (50% threshold): 0.8681491804768685\n"
     ]
    }
   ],
   "source": [
    "with torch.no_grad():\n",
    "  y_pred_test = model(X_test)\n",
    "\n",
    "y_pred_50 = y_pred_test.round().detach().numpy()\n",
    "# Calculate the accuracy of the model\n",
    "accuracy = accuracy_score(y_test, y_pred_50)\n",
    "print(f'Accuracy of the deep NN model with normalization (50% threshold): {accuracy}')"
   ],
   "metadata": {
    "collapsed": false,
    "ExecuteTime": {
     "end_time": "2024-03-14T20:03:01.812303Z",
     "start_time": "2024-03-14T20:02:56.463678Z"
    }
   }
  },
  {
   "cell_type": "code",
   "execution_count": 40,
   "outputs": [
    {
     "name": "stdout",
     "output_type": "stream",
     "text": [
      "AUC:  0.8987210090133287\n",
      "Precision:  0.7483304712841061\n",
      "Recall:  0.5639108554996406\n"
     ]
    },
    {
     "data": {
      "text/plain": "<Figure size 640x480 with 1 Axes>",
      "image/png": "[encoded data removed]"
     },
     "metadata": {},
     "output_type": "display_data"
    }
   ],
   "source": [
    "# Making the AUROC curve\n",
    "import sklearn.metrics as metrics\n",
    "\n",
    "tpr, fpr, thresholds = metrics.roc_curve(y_test, y_pred_test, pos_label=0)\n",
    "roc_auc = metrics.auc(fpr, tpr)\n",
    "print(\"AUC: \", roc_auc)\n",
    "\n",
    "# Precision and recall:\n",
    "precision = metrics.precision_score(y_test, y_pred_50)\n",
    "recall = metrics.recall_score(y_test, y_pred_50)\n",
    "print(\"Precision: \", precision)\n",
    "print(\"Recall: \", recall)\n",
    "\n",
    "# Plot the ROC curve\n",
    "plt.title('Receiver Operating Characteristic')\n",
    "plt.plot(fpr, tpr, 'b', label = 'AUC = %0.2f' % roc_auc)\n",
    "plt.xlabel('False Positive Rate')\n",
    "plt.ylabel('True Positive Rate')\n",
    "plt.show()\n"
   ],
   "metadata": {
    "collapsed": false,
    "ExecuteTime": {
     "end_time": "2024-03-14T20:23:25.223712Z",
     "start_time": "2024-03-14T20:23:23.694576Z"
    }
   }
  },
  {
   "cell_type": "code",
   "execution_count": 35,
   "outputs": [
    {
     "data": {
      "text/plain": "Text(0.5, 427.9555555555555, 'Predicted label')"
     },
     "execution_count": 35,
     "metadata": {},
     "output_type": "execute_result"
    },
    {
     "data": {
      "text/plain": "<Figure size 640x480 with 2 Axes>",
      "image/png": "[encoded data removed]"
     },
     "metadata": {},
     "output_type": "display_data"
    }
   ],
   "source": [
    "import sklearn.metrics as metrics\n",
    "import seaborn as sns\n",
    "cnf_matrix = metrics.confusion_matrix(y_test, y_pred_50)\n",
    "\n",
    "class_names=[0,1] # Names of classes\n",
    "fig, ax = plt.subplots()\n",
    "tick_marks = np.arange(len(class_names))\n",
    "plt.xticks(tick_marks, class_names)\n",
    "plt.yticks(tick_marks, class_names)\n",
    "# Create heatmap\n",
    "sns.heatmap(pd.DataFrame(cnf_matrix), annot=True, cmap=\"YlGnBu\" ,fmt='g')\n",
    "ax.xaxis.set_label_position(\"top\")\n",
    "plt.tight_layout()\n",
    "plt.title('Confusion matrix', y=1.1)\n",
    "plt.ylabel('Actual label')\n",
    "plt.xlabel('Predicted label')"
   ],
   "metadata": {
    "collapsed": false,
    "ExecuteTime": {
     "end_time": "2024-03-14T20:03:08.014691Z",
     "start_time": "2024-03-14T20:02:59.564673Z"
    }
   }
  },
  {
   "cell_type": "code",
   "execution_count": null,
   "outputs": [],
   "source": [],
   "metadata": {
    "collapsed": false,
    "ExecuteTime": {
     "start_time": "2024-03-14T19:23:02.031694Z"
    }
   }
  }
 ]
}
