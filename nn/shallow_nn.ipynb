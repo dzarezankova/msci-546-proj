{
 "nbformat": 4,
 "nbformat_minor": 0,
 "metadata": {
  "colab": {
   "provenance": [],
   "gpuType": "T4"
  },
  "kernelspec": {
   "name": "pycharm-668166ef",
   "language": "python",
   "display_name": "PyCharm (A1)"
  },
  "language_info": {
   "name": "python"
  },
  "accelerator": "GPU"
 },
 "cells": [
  {
   "cell_type": "code",
   "execution_count": 1,
   "metadata": {
    "id": "6EMUG4x4n2j-",
    "ExecuteTime": {
     "end_time": "2024-03-15T02:37:08.093464Z",
     "start_time": "2024-03-15T02:37:08.013690Z"
    }
   },
   "outputs": [],
   "source": [
    "# MSCI 546 Project:\n",
    "\n",
    "# Link to the original Kaggle Competition (Real Dataset): https://www.kaggle.com/code/kmalit/bank-customer-churn-prediction"
   ]
  },
  {
   "cell_type": "code",
   "source": [
    "\n",
    "# Libraries\n",
    "\n",
    "import numpy as np\n",
    "import pandas as pd\n",
    "\n",
    "import matplotlib as mpl\n",
    "import matplotlib.pyplot as plt\n",
    "\n",
    "import torch  # Main torch import for torch tensors\n",
    "import torch.nn as nn  # Neural network module for building deep learning models\n",
    "import torch.optim as optim  # Optimization module\n",
    "\n",
    "from sklearn.preprocessing import LabelEncoder\n",
    "from sklearn.model_selection import train_test_split\n",
    "from sklearn.metrics import accuracy_score\n"
   ],
   "metadata": {
    "id": "ZWvboMYzoICm",
    "ExecuteTime": {
     "end_time": "2024-03-15T02:37:23.643943Z",
     "start_time": "2024-03-15T02:37:08.053333Z"
    }
   },
   "execution_count": 2,
   "outputs": []
  },
  {
   "cell_type": "code",
   "source": [
    "# Synthetic Dataset: https://www.kaggle.com/competitions/playground-series-s4e1/data\n",
    "\n",
    "# Dataset import\n",
    "import os\n",
    "# Set directory to project root\n",
    "os.chdir('/Users/danazarezankova/Documents/BME 2024/BME 4B/MSCI 546/msci-546-proj')\n",
    "\n",
    "# Back to root directory\n",
    "synthetic_train_data = pd.read_csv('data/train.csv')\n",
    "\n",
    "synthetic_train_data.head()"
   ],
   "metadata": {
    "colab": {
     "base_uri": "https://localhost:8080/",
     "height": 224
    },
    "id": "lsKyonltoM--",
    "outputId": "76d77911-a631-431c-ca01-e236084c2042",
    "ExecuteTime": {
     "end_time": "2024-03-15T02:37:25.435869Z",
     "start_time": "2024-03-15T02:37:23.647263Z"
    }
   },
   "execution_count": 3,
   "outputs": [
    {
     "data": {
      "text/plain": "   id  CustomerId         Surname  CreditScore Geography Gender   Age  Tenure  \\\n0   0    15674932  Okwudilichukwu          668    France   Male  33.0       3   \n1   1    15749177   Okwudiliolisa          627    France   Male  33.0       1   \n2   2    15694510           Hsueh          678    France   Male  40.0      10   \n3   3    15741417             Kao          581    France   Male  34.0       2   \n4   4    15766172       Chiemenam          716     Spain   Male  33.0       5   \n\n     Balance  NumOfProducts  HasCrCard  IsActiveMember  EstimatedSalary  \\\n0       0.00              2        1.0             0.0        181449.97   \n1       0.00              2        1.0             1.0         49503.50   \n2       0.00              2        1.0             0.0        184866.69   \n3  148882.54              1        1.0             1.0         84560.88   \n4       0.00              2        1.0             1.0         15068.83   \n\n   Exited  \n0       0  \n1       0  \n2       0  \n3       0  \n4       0  ",
      "text/html": "<div>\n<style scoped>\n    .dataframe tbody tr th:only-of-type {\n        vertical-align: middle;\n    }\n\n    .dataframe tbody tr th {\n        vertical-align: top;\n    }\n\n    .dataframe thead th {\n        text-align: right;\n    }\n</style>\n<table border=\"1\" class=\"dataframe\">\n  <thead>\n    <tr style=\"text-align: right;\">\n      <th></th>\n      <th>id</th>\n      <th>CustomerId</th>\n      <th>Surname</th>\n      <th>CreditScore</th>\n      <th>Geography</th>\n      <th>Gender</th>\n      <th>Age</th>\n      <th>Tenure</th>\n      <th>Balance</th>\n      <th>NumOfProducts</th>\n      <th>HasCrCard</th>\n      <th>IsActiveMember</th>\n      <th>EstimatedSalary</th>\n      <th>Exited</th>\n    </tr>\n  </thead>\n  <tbody>\n    <tr>\n      <th>0</th>\n      <td>0</td>\n      <td>15674932</td>\n      <td>Okwudilichukwu</td>\n      <td>668</td>\n      <td>France</td>\n      <td>Male</td>\n      <td>33.0</td>\n      <td>3</td>\n      <td>0.00</td>\n      <td>2</td>\n      <td>1.0</td>\n      <td>0.0</td>\n      <td>181449.97</td>\n      <td>0</td>\n    </tr>\n    <tr>\n      <th>1</th>\n      <td>1</td>\n      <td>15749177</td>\n      <td>Okwudiliolisa</td>\n      <td>627</td>\n      <td>France</td>\n      <td>Male</td>\n      <td>33.0</td>\n      <td>1</td>\n      <td>0.00</td>\n      <td>2</td>\n      <td>1.0</td>\n      <td>1.0</td>\n      <td>49503.50</td>\n      <td>0</td>\n    </tr>\n    <tr>\n      <th>2</th>\n      <td>2</td>\n      <td>15694510</td>\n      <td>Hsueh</td>\n      <td>678</td>\n      <td>France</td>\n      <td>Male</td>\n      <td>40.0</td>\n      <td>10</td>\n      <td>0.00</td>\n      <td>2</td>\n      <td>1.0</td>\n      <td>0.0</td>\n      <td>184866.69</td>\n      <td>0</td>\n    </tr>\n    <tr>\n      <th>3</th>\n      <td>3</td>\n      <td>15741417</td>\n      <td>Kao</td>\n      <td>581</td>\n      <td>France</td>\n      <td>Male</td>\n      <td>34.0</td>\n      <td>2</td>\n      <td>148882.54</td>\n      <td>1</td>\n      <td>1.0</td>\n      <td>1.0</td>\n      <td>84560.88</td>\n      <td>0</td>\n    </tr>\n    <tr>\n      <th>4</th>\n      <td>4</td>\n      <td>15766172</td>\n      <td>Chiemenam</td>\n      <td>716</td>\n      <td>Spain</td>\n      <td>Male</td>\n      <td>33.0</td>\n      <td>5</td>\n      <td>0.00</td>\n      <td>2</td>\n      <td>1.0</td>\n      <td>1.0</td>\n      <td>15068.83</td>\n      <td>0</td>\n    </tr>\n  </tbody>\n</table>\n</div>"
     },
     "execution_count": 3,
     "metadata": {},
     "output_type": "execute_result"
    }
   ]
  },
  {
   "cell_type": "code",
   "execution_count": 4,
   "outputs": [
    {
     "data": {
      "text/plain": "(165034, 14)"
     },
     "execution_count": 4,
     "metadata": {},
     "output_type": "execute_result"
    }
   ],
   "source": [
    "synthetic_train_data.shape"
   ],
   "metadata": {
    "collapsed": false,
    "ExecuteTime": {
     "end_time": "2024-03-15T02:37:25.461588Z",
     "start_time": "2024-03-15T02:37:25.191110Z"
    }
   }
  },
  {
   "cell_type": "code",
   "source": [
    "# Label encoding for text data:\n",
    "encoder = LabelEncoder()\n",
    "categorical_features_train = synthetic_train_data.select_dtypes(include = 'object').columns\n",
    "print(\"Categorical features: \", categorical_features_train)\n",
    "for feature in categorical_features_train:\n",
    "    synthetic_train_data[feature] = encoder.fit_transform(synthetic_train_data[feature])\n",
    "\n",
    "# MinMax Scaler for credit score\n",
    "from sklearn.preprocessing import MinMaxScaler\n",
    "scaler = MinMaxScaler()\n",
    "synthetic_train_data['CreditScore'] = scaler.fit_transform(synthetic_train_data[['CreditScore']])\n",
    "\n",
    "# Robust Scaler for Balance\n",
    "from sklearn.preprocessing import RobustScaler\n",
    "scaler = RobustScaler()\n",
    "synthetic_train_data['Balance'] = scaler.fit_transform(synthetic_train_data[['Balance']])\n",
    "\n",
    "# MinMax Scaler for Estimated Salary\n",
    "scaler = MinMaxScaler()\n",
    "synthetic_train_data['EstimatedSalary'] = scaler.fit_transform(synthetic_train_data[['EstimatedSalary']])\n",
    "\n",
    "# Age / 100\n",
    "synthetic_train_data['Age'] = synthetic_train_data['Age'] / 100\n",
    "\n",
    "synthetic_train_data.drop('id', axis=1, inplace=True)\n",
    "synthetic_train_data.drop('CustomerId', axis=1, inplace=True)\n",
    "synthetic_train_data.drop('Surname', axis=1, inplace=True)\n",
    "synthetic_train_data.dropna(inplace=True)\n",
    "\n",
    "X = synthetic_train_data.drop('Exited', axis=1)\n",
    "y = synthetic_train_data['Exited']\n"
   ],
   "metadata": {
    "colab": {
     "base_uri": "https://localhost:8080/"
    },
    "id": "GtZk7FrqEA49",
    "outputId": "99a5bc62-4e09-428d-944e-715a6e36c117",
    "ExecuteTime": {
     "end_time": "2024-03-15T02:37:27.554627Z",
     "start_time": "2024-03-15T02:37:25.311425Z"
    }
   },
   "execution_count": 5,
   "outputs": [
    {
     "name": "stdout",
     "output_type": "stream",
     "text": [
      "Categorical features:  Index(['Surname', 'Geography', 'Gender'], dtype='object')\n"
     ]
    }
   ]
  },
  {
   "cell_type": "code",
   "execution_count": 6,
   "outputs": [
    {
     "data": {
      "text/plain": "         CreditScore      Geography         Gender            Age  \\\ncount  165034.000000  165034.000000  165034.000000  165034.000000   \nmean        0.612909       0.648545       0.564429       0.381259   \nstd         0.160207       0.816574       0.495833       0.088672   \nmin         0.000000       0.000000       0.000000       0.180000   \n25%         0.494000       0.000000       0.000000       0.320000   \n50%         0.618000       0.000000       1.000000       0.370000   \n75%         0.720000       1.000000       1.000000       0.420000   \nmax         1.000000       2.000000       1.000000       0.920000   \n\n              Tenure        Balance  NumOfProducts      HasCrCard  \\\ncount  165034.000000  165034.000000  165034.000000  165034.000000   \nmean        5.020353       0.462551       1.554455       0.753954   \nstd         2.806159       0.523745       0.547154       0.430707   \nmin         0.000000       0.000000       1.000000       0.000000   \n25%         3.000000       0.000000       1.000000       1.000000   \n50%         5.000000       0.000000       2.000000       1.000000   \n75%         7.000000       1.000000       2.000000       1.000000   \nmax        10.000000       2.091872       4.000000       1.000000   \n\n       IsActiveMember  EstimatedSalary  \ncount   165034.000000    165034.000000  \nmean         0.497770         0.562870  \nstd          0.499997         0.251488  \nmin          0.000000         0.000000  \n25%          0.000000         0.373166  \n50%          0.000000         0.589738  \n75%          1.000000         0.775779  \nmax          1.000000         1.000000  ",
      "text/html": "<div>\n<style scoped>\n    .dataframe tbody tr th:only-of-type {\n        vertical-align: middle;\n    }\n\n    .dataframe tbody tr th {\n        vertical-align: top;\n    }\n\n    .dataframe thead th {\n        text-align: right;\n    }\n</style>\n<table border=\"1\" class=\"dataframe\">\n  <thead>\n    <tr style=\"text-align: right;\">\n      <th></th>\n      <th>CreditScore</th>\n      <th>Geography</th>\n      <th>Gender</th>\n      <th>Age</th>\n      <th>Tenure</th>\n      <th>Balance</th>\n      <th>NumOfProducts</th>\n      <th>HasCrCard</th>\n      <th>IsActiveMember</th>\n      <th>EstimatedSalary</th>\n    </tr>\n  </thead>\n  <tbody>\n    <tr>\n      <th>count</th>\n      <td>165034.000000</td>\n      <td>165034.000000</td>\n      <td>165034.000000</td>\n      <td>165034.000000</td>\n      <td>165034.000000</td>\n      <td>165034.000000</td>\n      <td>165034.000000</td>\n      <td>165034.000000</td>\n      <td>165034.000000</td>\n      <td>165034.000000</td>\n    </tr>\n    <tr>\n      <th>mean</th>\n      <td>0.612909</td>\n      <td>0.648545</td>\n      <td>0.564429</td>\n      <td>0.381259</td>\n      <td>5.020353</td>\n      <td>0.462551</td>\n      <td>1.554455</td>\n      <td>0.753954</td>\n      <td>0.497770</td>\n      <td>0.562870</td>\n    </tr>\n    <tr>\n      <th>std</th>\n      <td>0.160207</td>\n      <td>0.816574</td>\n      <td>0.495833</td>\n      <td>0.088672</td>\n      <td>2.806159</td>\n      <td>0.523745</td>\n      <td>0.547154</td>\n      <td>0.430707</td>\n      <td>0.499997</td>\n      <td>0.251488</td>\n    </tr>\n    <tr>\n      <th>min</th>\n      <td>0.000000</td>\n      <td>0.000000</td>\n      <td>0.000000</td>\n      <td>0.180000</td>\n      <td>0.000000</td>\n      <td>0.000000</td>\n      <td>1.000000</td>\n      <td>0.000000</td>\n      <td>0.000000</td>\n      <td>0.000000</td>\n    </tr>\n    <tr>\n      <th>25%</th>\n      <td>0.494000</td>\n      <td>0.000000</td>\n      <td>0.000000</td>\n      <td>0.320000</td>\n      <td>3.000000</td>\n      <td>0.000000</td>\n      <td>1.000000</td>\n      <td>1.000000</td>\n      <td>0.000000</td>\n      <td>0.373166</td>\n    </tr>\n    <tr>\n      <th>50%</th>\n      <td>0.618000</td>\n      <td>0.000000</td>\n      <td>1.000000</td>\n      <td>0.370000</td>\n      <td>5.000000</td>\n      <td>0.000000</td>\n      <td>2.000000</td>\n      <td>1.000000</td>\n      <td>0.000000</td>\n      <td>0.589738</td>\n    </tr>\n    <tr>\n      <th>75%</th>\n      <td>0.720000</td>\n      <td>1.000000</td>\n      <td>1.000000</td>\n      <td>0.420000</td>\n      <td>7.000000</td>\n      <td>1.000000</td>\n      <td>2.000000</td>\n      <td>1.000000</td>\n      <td>1.000000</td>\n      <td>0.775779</td>\n    </tr>\n    <tr>\n      <th>max</th>\n      <td>1.000000</td>\n      <td>2.000000</td>\n      <td>1.000000</td>\n      <td>0.920000</td>\n      <td>10.000000</td>\n      <td>2.091872</td>\n      <td>4.000000</td>\n      <td>1.000000</td>\n      <td>1.000000</td>\n      <td>1.000000</td>\n    </tr>\n  </tbody>\n</table>\n</div>"
     },
     "execution_count": 6,
     "metadata": {},
     "output_type": "execute_result"
    }
   ],
   "source": [
    "X.describe()\n"
   ],
   "metadata": {
    "colab": {
     "base_uri": "https://localhost:8080/",
     "height": 317
    },
    "id": "rYBsy-pMr0sV",
    "outputId": "13d1088f-af64-4440-f4b9-ae0274280fcf",
    "ExecuteTime": {
     "end_time": "2024-03-15T02:37:28.089486Z",
     "start_time": "2024-03-15T02:37:26.418117Z"
    }
   }
  },
  {
   "cell_type": "code",
   "execution_count": 7,
   "outputs": [],
   "source": [
    "# Convert the data to PyTorch tensors\n",
    "X = torch.tensor(X.values, dtype=torch.float32)\n",
    "y = torch.tensor(y.values, dtype=torch.float32).reshape(-1, 1)"
   ],
   "metadata": {
    "collapsed": false,
    "ExecuteTime": {
     "end_time": "2024-03-15T02:37:28.093831Z",
     "start_time": "2024-03-15T02:37:27.061294Z"
    }
   }
  },
  {
   "cell_type": "code",
   "execution_count": 8,
   "outputs": [],
   "source": [
    "# Split the data into training and testing sets\n",
    "X_train, X_test, y_train, y_test = train_test_split(X, y, test_size=0.2, random_state=42)"
   ],
   "metadata": {
    "collapsed": false,
    "ExecuteTime": {
     "end_time": "2024-03-15T02:37:28.095527Z",
     "start_time": "2024-03-15T02:37:27.190917Z"
    }
   }
  },
  {
   "cell_type": "code",
   "execution_count": 9,
   "outputs": [],
   "source": [
    "model = nn.Sequential(\n",
    "    nn.Linear(10, 20), # 8 input nodes to 12 nodes in the first hidden layer\n",
    "    nn.ReLU(),        # ReLU activation for first hidden layer\n",
    "    nn.Linear(20, 10), # 12 nodes from first hidden layer to 8 in the second\n",
    "    nn.ReLU(),        # ReLU activation for second hidden layer\n",
    "    nn.Linear(10, 1),  # 8 nodes from second hidden layer to 1 output node\n",
    "    nn.Sigmoid()      # Sigmoid activation for output layer\n",
    ")"
   ],
   "metadata": {
    "collapsed": false,
    "ExecuteTime": {
     "end_time": "2024-03-15T02:37:28.096283Z",
     "start_time": "2024-03-15T02:37:27.377600Z"
    }
   }
  },
  {
   "cell_type": "code",
   "execution_count": 10,
   "outputs": [],
   "source": [
    "loss_fn = nn.BCELoss()\n",
    "optimizer = optim.Adam(model.parameters(), lr = 0.01)"
   ],
   "metadata": {
    "collapsed": false,
    "ExecuteTime": {
     "end_time": "2024-03-15T02:37:32.420535Z",
     "start_time": "2024-03-15T02:37:27.420060Z"
    }
   }
  },
  {
   "cell_type": "code",
   "execution_count": 11,
   "outputs": [
    {
     "name": "stdout",
     "output_type": "stream",
     "text": [
      "Epoch 0, loss 0.38778963685035706, accuracy 0.8219457808693966\n",
      "Finished epoch 0, latest loss 0.38778963685035706\n",
      "Finished epoch 1, latest loss 0.339702308177948\n",
      "Finished epoch 2, latest loss 0.32015523314476013\n",
      "Finished epoch 3, latest loss 0.31205397844314575\n",
      "Finished epoch 4, latest loss 0.30723071098327637\n",
      "Finished epoch 5, latest loss 0.3053268790245056\n",
      "Finished epoch 6, latest loss 0.3046364486217499\n",
      "Finished epoch 7, latest loss 0.30337268114089966\n",
      "Finished epoch 8, latest loss 0.30312302708625793\n",
      "Finished epoch 9, latest loss 0.3027086853981018\n",
      "Epoch 10, loss 0.30198904871940613, accuracy 0.8608044402971509\n",
      "Finished epoch 10, latest loss 0.30198904871940613\n",
      "Finished epoch 11, latest loss 0.30141323804855347\n",
      "Finished epoch 12, latest loss 0.3011033833026886\n",
      "Finished epoch 13, latest loss 0.3009883463382721\n",
      "Finished epoch 14, latest loss 0.3008527159690857\n",
      "Finished epoch 15, latest loss 0.2997208833694458\n",
      "Finished epoch 16, latest loss 0.2999033033847809\n",
      "Finished epoch 17, latest loss 0.2997433543205261\n",
      "Finished epoch 18, latest loss 0.2993896007537842\n",
      "Finished epoch 19, latest loss 0.29979264736175537\n",
      "Epoch 20, loss 0.30040493607521057, accuracy 0.8624101700255705\n",
      "Finished epoch 20, latest loss 0.30040493607521057\n",
      "Finished epoch 21, latest loss 0.3002140522003174\n",
      "Finished epoch 22, latest loss 0.30053842067718506\n",
      "Finished epoch 23, latest loss 0.3009134531021118\n",
      "Finished epoch 24, latest loss 0.30249151587486267\n",
      "Finished epoch 25, latest loss 0.30291256308555603\n",
      "Finished epoch 26, latest loss 0.3010255992412567\n",
      "Finished epoch 27, latest loss 0.30278319120407104\n",
      "Finished epoch 28, latest loss 0.3030460774898529\n",
      "Finished epoch 29, latest loss 0.30382972955703735\n",
      "Epoch 30, loss 0.30376508831977844, accuracy 0.8631675897087873\n",
      "Finished epoch 30, latest loss 0.30376508831977844\n",
      "Finished epoch 31, latest loss 0.30381086468696594\n",
      "Finished epoch 32, latest loss 0.3033846616744995\n",
      "Finished epoch 33, latest loss 0.3032914996147156\n",
      "Finished epoch 34, latest loss 0.3028498888015747\n",
      "Finished epoch 35, latest loss 0.3029635548591614\n",
      "Finished epoch 36, latest loss 0.3014715015888214\n",
      "Finished epoch 37, latest loss 0.3009321391582489\n",
      "Finished epoch 38, latest loss 0.30017638206481934\n",
      "Finished epoch 39, latest loss 0.30082064867019653\n",
      "Epoch 40, loss 0.2999313771724701, accuracy 0.8626283068943369\n",
      "Finished epoch 40, latest loss 0.2999313771724701\n",
      "Finished epoch 41, latest loss 0.30054518580436707\n",
      "Finished epoch 42, latest loss 0.3004626929759979\n",
      "Finished epoch 43, latest loss 0.30125513672828674\n",
      "Finished epoch 44, latest loss 0.3006438612937927\n",
      "Finished epoch 45, latest loss 0.3001801669597626\n",
      "Finished epoch 46, latest loss 0.3012218475341797\n",
      "Finished epoch 47, latest loss 0.30108895897865295\n",
      "Finished epoch 48, latest loss 0.3011907935142517\n",
      "Finished epoch 49, latest loss 0.3007308542728424\n",
      "Epoch 50, loss 0.30060166120529175, accuracy 0.8623677545233104\n",
      "Finished epoch 50, latest loss 0.30060166120529175\n",
      "Finished epoch 51, latest loss 0.30072689056396484\n",
      "Finished epoch 52, latest loss 0.3002728521823883\n",
      "Finished epoch 53, latest loss 0.3010656535625458\n",
      "Finished epoch 54, latest loss 0.3002312481403351\n",
      "Finished epoch 55, latest loss 0.2994759678840637\n",
      "Finished epoch 56, latest loss 0.2997356653213501\n",
      "Finished epoch 57, latest loss 0.30061429738998413\n",
      "Finished epoch 58, latest loss 0.30097484588623047\n",
      "Finished epoch 59, latest loss 0.3007015883922577\n",
      "Epoch 60, loss 0.29967573285102844, accuracy 0.8635432698716629\n",
      "Finished epoch 60, latest loss 0.29967573285102844\n",
      "Finished epoch 61, latest loss 0.3000434339046478\n",
      "Finished epoch 62, latest loss 0.3005463480949402\n",
      "Finished epoch 63, latest loss 0.30119022727012634\n",
      "Finished epoch 64, latest loss 0.30083227157592773\n",
      "Finished epoch 65, latest loss 0.30085206031799316\n",
      "Finished epoch 66, latest loss 0.3011567294597626\n",
      "Finished epoch 67, latest loss 0.30131757259368896\n",
      "Finished epoch 68, latest loss 0.3014662563800812\n",
      "Finished epoch 69, latest loss 0.30108702182769775\n",
      "Epoch 70, loss 0.30026254057884216, accuracy 0.8642219179078251\n",
      "Finished epoch 70, latest loss 0.30026254057884216\n",
      "Finished epoch 71, latest loss 0.30200010538101196\n",
      "Finished epoch 72, latest loss 0.30141058564186096\n",
      "Finished epoch 73, latest loss 0.30113160610198975\n",
      "Finished epoch 74, latest loss 0.3010246455669403\n",
      "Finished epoch 75, latest loss 0.30065497756004333\n",
      "Finished epoch 76, latest loss 0.3004530370235443\n",
      "Finished epoch 77, latest loss 0.3009665310382843\n",
      "Finished epoch 78, latest loss 0.30208641290664673\n",
      "Finished epoch 79, latest loss 0.30174529552459717\n",
      "Epoch 80, loss 0.3016897141933441, accuracy 0.8641189088309076\n",
      "Finished epoch 80, latest loss 0.3016897141933441\n",
      "Finished epoch 81, latest loss 0.30098819732666016\n",
      "Finished epoch 82, latest loss 0.3018520176410675\n",
      "Finished epoch 83, latest loss 0.301259309053421\n",
      "Finished epoch 84, latest loss 0.30118700861930847\n",
      "Finished epoch 85, latest loss 0.30127158761024475\n",
      "Finished epoch 86, latest loss 0.3015046715736389\n",
      "Finished epoch 87, latest loss 0.3008420467376709\n",
      "Finished epoch 88, latest loss 0.30214840173721313\n",
      "Finished epoch 89, latest loss 0.3005538284778595\n",
      "Epoch 90, loss 0.3011877238750458, accuracy 0.8643249269847425\n",
      "Finished epoch 90, latest loss 0.3011877238750458\n",
      "Finished epoch 91, latest loss 0.3011583685874939\n",
      "Finished epoch 92, latest loss 0.3009542226791382\n",
      "Finished epoch 93, latest loss 0.3006719946861267\n",
      "Finished epoch 94, latest loss 0.3009559214115143\n",
      "Finished epoch 95, latest loss 0.3010730743408203\n",
      "Finished epoch 96, latest loss 0.3012348413467407\n",
      "Finished epoch 97, latest loss 0.3014887273311615\n",
      "Finished epoch 98, latest loss 0.3013524115085602\n",
      "Finished epoch 99, latest loss 0.30192360281944275\n"
     ]
    }
   ],
   "source": [
    "n_epochs = 100\n",
    "batch_size = 1028\n",
    "\n",
    "train_accuracies = []\n",
    "\n",
    "for epoch in range(n_epochs):\n",
    "    for i in range(0, len(X), batch_size):\n",
    "        Xbatch = X[i:i+batch_size]\n",
    "        y_pred = model(Xbatch)\n",
    "        ybatch = y[i:i+batch_size]\n",
    "        loss = loss_fn(y_pred, ybatch)\n",
    "        optimizer.zero_grad()\n",
    "        loss.backward()\n",
    "        optimizer.step()\n",
    "    if epoch % 10 == 0:\n",
    "        y_pred = model(X)\n",
    "        y_pred = y_pred.round().detach().numpy()\n",
    "        accuracy = accuracy_score(y, y_pred)\n",
    "        print(f'Epoch {epoch}, loss {loss}, accuracy {accuracy}')\n",
    "        train_accuracies.append(accuracy)\n",
    "    print(f'Finished epoch {epoch}, latest loss {loss}')"
   ],
   "metadata": {
    "collapsed": false,
    "ExecuteTime": {
     "end_time": "2024-03-15T02:40:10.399740Z",
     "start_time": "2024-03-15T02:37:32.122133Z"
    }
   }
  },
  {
   "cell_type": "code",
   "execution_count": 13,
   "outputs": [],
   "source": [
    "with torch.no_grad():\n",
    "  y_pred_test = model(X_test)\n",
    "  \n",
    "y_pred_50 = y_pred_test.round().detach().numpy()\n",
    "# Calculate the accuracy of the model\n",
    "accuracy = accuracy_score(y_test, y_pred_50)"
   ],
   "metadata": {
    "collapsed": false,
    "ExecuteTime": {
     "end_time": "2024-03-15T02:40:59.843396Z",
     "start_time": "2024-03-15T02:40:59.756714Z"
    }
   }
  },
  {
   "cell_type": "code",
   "execution_count": 14,
   "outputs": [
    {
     "name": "stdout",
     "output_type": "stream",
     "text": [
      "Accuracy of the shallow NN model: 0.8645741812342836\n"
     ]
    }
   ],
   "source": [
    "print(f'Accuracy of the shallow NN model: {accuracy}')"
   ],
   "metadata": {
    "collapsed": false,
    "ExecuteTime": {
     "end_time": "2024-03-15T02:41:00.903162Z",
     "start_time": "2024-03-15T02:41:00.792234Z"
    }
   }
  },
  {
   "cell_type": "code",
   "execution_count": 15,
   "outputs": [
    {
     "data": {
      "text/plain": "<Figure size 640x480 with 1 Axes>",
      "image/png": "[encoded data removed]"
     },
     "metadata": {},
     "output_type": "display_data"
    }
   ],
   "source": [
    "# Plot the training accuracy\n",
    "plt.plot(range(0,100, 10), train_accuracies)\n",
    "plt.xlabel('Epoch')\n",
    "plt.ylabel('Accuracy')\n",
    "plt.title('Shallow Net Training Accuracy')\n",
    "plt.show()"
   ],
   "metadata": {
    "collapsed": false,
    "ExecuteTime": {
     "end_time": "2024-03-15T02:41:04.537195Z",
     "start_time": "2024-03-15T02:41:02.933241Z"
    }
   }
  },
  {
   "cell_type": "code",
   "execution_count": 16,
   "outputs": [
    {
     "name": "stdout",
     "output_type": "stream",
     "text": [
      "AUC:  0.8857137243513306\n",
      "Precision:  0.7475592747559274\n",
      "Recall:  0.5394680086268872\n"
     ]
    },
    {
     "data": {
      "text/plain": "<Figure size 640x480 with 1 Axes>",
      "image/png": "[encoded data removed]"
     },
     "metadata": {},
     "output_type": "display_data"
    }
   ],
   "source": [
    "# Making the AUROC curve\n",
    "import sklearn.metrics as metrics\n",
    "\n",
    "tpr, fpr, thresholds = metrics.roc_curve(y_test, y_pred_test, pos_label=0)\n",
    "roc_auc = metrics.auc(fpr, tpr)\n",
    "print(\"AUC: \", roc_auc)\n",
    "\n",
    "# Precision and recall:\n",
    "precision = metrics.precision_score(y_test, y_pred_50)\n",
    "recall = metrics.recall_score(y_test, y_pred_50)\n",
    "print(\"Precision: \", precision)\n",
    "print(\"Recall: \", recall)\n",
    "\n",
    "# Plot the ROC curve\n",
    "plt.title('Receiver Operating Characteristic')\n",
    "plt.plot(fpr, tpr, 'b', label = 'AUC = %0.2f' % roc_auc)\n",
    "plt.xlabel('False Positive Rate')\n",
    "plt.ylabel('True Positive Rate')\n",
    "plt.show()\n"
   ],
   "metadata": {
    "collapsed": false,
    "ExecuteTime": {
     "end_time": "2024-03-15T02:41:08.596109Z",
     "start_time": "2024-03-15T02:41:06.278527Z"
    }
   }
  },
  {
   "cell_type": "code",
   "execution_count": 17,
   "outputs": [
    {
     "data": {
      "text/plain": "Text(0.5, 427.9555555555555, 'Predicted label')"
     },
     "execution_count": 17,
     "metadata": {},
     "output_type": "execute_result"
    },
    {
     "data": {
      "text/plain": "<Figure size 640x480 with 2 Axes>",
      "image/png": "[encoded data removed]"
     },
     "metadata": {},
     "output_type": "display_data"
    }
   ],
   "source": [
    "import sklearn.metrics as metrics\n",
    "import seaborn as sns\n",
    "cnf_matrix = metrics.confusion_matrix(y_test, y_pred_50)\n",
    "\n",
    "class_names=[0,1] # Names of classes\n",
    "fig, ax = plt.subplots()\n",
    "tick_marks = np.arange(len(class_names))\n",
    "plt.xticks(tick_marks, class_names)\n",
    "plt.yticks(tick_marks, class_names)\n",
    "# Create heatmap\n",
    "sns.heatmap(pd.DataFrame(cnf_matrix), annot=True, cmap=\"YlGnBu\" ,fmt='g')\n",
    "ax.xaxis.set_label_position(\"top\")\n",
    "plt.tight_layout()\n",
    "plt.title('Confusion matrix', y=1.1)\n",
    "plt.ylabel('Actual label')\n",
    "plt.xlabel('Predicted label')"
   ],
   "metadata": {
    "collapsed": false,
    "ExecuteTime": {
     "end_time": "2024-03-15T02:41:09.876349Z",
     "start_time": "2024-03-15T02:41:08.534678Z"
    }
   }
  },
  {
   "cell_type": "code",
   "execution_count": null,
   "outputs": [],
   "source": [],
   "metadata": {
    "collapsed": false,
    "ExecuteTime": {
     "start_time": "2024-03-15T02:40:14.728307Z"
    }
   }
  }
 ]
}
