{
 "nbformat": 4,
 "nbformat_minor": 0,
 "metadata": {
  "colab": {
   "provenance": [],
   "gpuType": "T4"
  },
  "kernelspec": {
   "name": "python3",
   "language": "python",
   "display_name": "Python 3 (ipykernel)"
  },
  "language_info": {
   "name": "python"
  },
  "accelerator": "GPU"
 },
 "cells": [
  {
   "cell_type": "code",
   "execution_count": 118,
   "metadata": {
    "id": "6EMUG4x4n2j-",
    "ExecuteTime": {
     "end_time": "2024-02-06T19:23:30.059955Z",
     "start_time": "2024-02-06T19:23:30.034601Z"
    }
   },
   "outputs": [],
   "source": [
    "# MSCI 546 Project:\n",
    "\n",
    "# Link to the original Kaggle Competition (Real Dataset): https://www.kaggle.com/code/kmalit/bank-customer-churn-prediction"
   ]
  },
  {
   "cell_type": "code",
   "source": [
    "\n",
    "# Libraries\n",
    "\n",
    "import numpy as np\n",
    "import pandas as pd\n",
    "\n",
    "import matplotlib as mpl\n",
    "import matplotlib.pyplot as plt\n",
    "import seaborn as sns\n",
    "\n",
    "from sklearn.preprocessing import LabelEncoder\n",
    "from sklearn.model_selection import train_test_split\n",
    "from sklearn.linear_model import LogisticRegression\n",
    "from sklearn.metrics import accuracy_score\n"
   ],
   "metadata": {
    "id": "ZWvboMYzoICm",
    "ExecuteTime": {
     "end_time": "2024-02-06T19:23:30.415464Z",
     "start_time": "2024-02-06T19:23:30.315608Z"
    }
   },
   "execution_count": 119,
   "outputs": []
  },
  {
   "cell_type": "code",
   "source": [
    "# Synthetic Dataset: https://www.kaggle.com/competitions/playground-series-s4e1/data\n",
    "\n",
    "# Dataset import\n",
    "\n",
    "synthetic_train_data = pd.read_csv('playground-series-s4e1/train.csv')\n",
    "\n",
    "synthetic_train_data.head()"
   ],
   "metadata": {
    "colab": {
     "base_uri": "https://localhost:8080/",
     "height": 224
    },
    "id": "lsKyonltoM--",
    "outputId": "b74b8365-49b6-43bf-9178-25c16b7cd502",
    "ExecuteTime": {
     "end_time": "2024-02-06T19:25:48.968099Z",
     "start_time": "2024-02-06T19:25:47.799147Z"
    }
   },
   "execution_count": 129,
   "outputs": [
    {
     "data": {
      "text/plain": "   id  CustomerId         Surname  CreditScore Geography Gender   Age  Tenure  \\\n0   0    15674932  Okwudilichukwu          668    France   Male  33.0       3   \n1   1    15749177   Okwudiliolisa          627    France   Male  33.0       1   \n2   2    15694510           Hsueh          678    France   Male  40.0      10   \n3   3    15741417             Kao          581    France   Male  34.0       2   \n4   4    15766172       Chiemenam          716     Spain   Male  33.0       5   \n\n     Balance  NumOfProducts  HasCrCard  IsActiveMember  EstimatedSalary  \\\n0       0.00              2        1.0             0.0        181449.97   \n1       0.00              2        1.0             1.0         49503.50   \n2       0.00              2        1.0             0.0        184866.69   \n3  148882.54              1        1.0             1.0         84560.88   \n4       0.00              2        1.0             1.0         15068.83   \n\n   Exited  \n0       0  \n1       0  \n2       0  \n3       0  \n4       0  ",
      "text/html": "<div>\n<style scoped>\n    .dataframe tbody tr th:only-of-type {\n        vertical-align: middle;\n    }\n\n    .dataframe tbody tr th {\n        vertical-align: top;\n    }\n\n    .dataframe thead th {\n        text-align: right;\n    }\n</style>\n<table border=\"1\" class=\"dataframe\">\n  <thead>\n    <tr style=\"text-align: right;\">\n      <th></th>\n      <th>id</th>\n      <th>CustomerId</th>\n      <th>Surname</th>\n      <th>CreditScore</th>\n      <th>Geography</th>\n      <th>Gender</th>\n      <th>Age</th>\n      <th>Tenure</th>\n      <th>Balance</th>\n      <th>NumOfProducts</th>\n      <th>HasCrCard</th>\n      <th>IsActiveMember</th>\n      <th>EstimatedSalary</th>\n      <th>Exited</th>\n    </tr>\n  </thead>\n  <tbody>\n    <tr>\n      <th>0</th>\n      <td>0</td>\n      <td>15674932</td>\n      <td>Okwudilichukwu</td>\n      <td>668</td>\n      <td>France</td>\n      <td>Male</td>\n      <td>33.0</td>\n      <td>3</td>\n      <td>0.00</td>\n      <td>2</td>\n      <td>1.0</td>\n      <td>0.0</td>\n      <td>181449.97</td>\n      <td>0</td>\n    </tr>\n    <tr>\n      <th>1</th>\n      <td>1</td>\n      <td>15749177</td>\n      <td>Okwudiliolisa</td>\n      <td>627</td>\n      <td>France</td>\n      <td>Male</td>\n      <td>33.0</td>\n      <td>1</td>\n      <td>0.00</td>\n      <td>2</td>\n      <td>1.0</td>\n      <td>1.0</td>\n      <td>49503.50</td>\n      <td>0</td>\n    </tr>\n    <tr>\n      <th>2</th>\n      <td>2</td>\n      <td>15694510</td>\n      <td>Hsueh</td>\n      <td>678</td>\n      <td>France</td>\n      <td>Male</td>\n      <td>40.0</td>\n      <td>10</td>\n      <td>0.00</td>\n      <td>2</td>\n      <td>1.0</td>\n      <td>0.0</td>\n      <td>184866.69</td>\n      <td>0</td>\n    </tr>\n    <tr>\n      <th>3</th>\n      <td>3</td>\n      <td>15741417</td>\n      <td>Kao</td>\n      <td>581</td>\n      <td>France</td>\n      <td>Male</td>\n      <td>34.0</td>\n      <td>2</td>\n      <td>148882.54</td>\n      <td>1</td>\n      <td>1.0</td>\n      <td>1.0</td>\n      <td>84560.88</td>\n      <td>0</td>\n    </tr>\n    <tr>\n      <th>4</th>\n      <td>4</td>\n      <td>15766172</td>\n      <td>Chiemenam</td>\n      <td>716</td>\n      <td>Spain</td>\n      <td>Male</td>\n      <td>33.0</td>\n      <td>5</td>\n      <td>0.00</td>\n      <td>2</td>\n      <td>1.0</td>\n      <td>1.0</td>\n      <td>15068.83</td>\n      <td>0</td>\n    </tr>\n  </tbody>\n</table>\n</div>"
     },
     "execution_count": 129,
     "metadata": {},
     "output_type": "execute_result"
    }
   ]
  },
  {
   "cell_type": "code",
   "source": [
    "# Generate summary statistics\n",
    "summary_statistics = synthetic_train_data.describe()\n",
    "\n",
    "summary_statistics"
   ],
   "metadata": {
    "colab": {
     "base_uri": "https://localhost:8080/",
     "height": 317
    },
    "id": "MT5jd19Xn6pw",
    "outputId": "35789354-072d-43ad-abe9-ef185cd5dbc0",
    "ExecuteTime": {
     "end_time": "2024-02-06T19:25:50.734683Z",
     "start_time": "2024-02-06T19:25:50.516209Z"
    }
   },
   "execution_count": 131,
   "outputs": [
    {
     "data": {
      "text/plain": "                id    CustomerId    CreditScore            Age         Tenure  \\\ncount  165034.0000  1.650340e+05  165034.000000  165034.000000  165034.000000   \nmean    82516.5000  1.569201e+07     656.454373      38.125888       5.020353   \nstd     47641.3565  7.139782e+04      80.103340       8.867205       2.806159   \nmin         0.0000  1.556570e+07     350.000000      18.000000       0.000000   \n25%     41258.2500  1.563314e+07     597.000000      32.000000       3.000000   \n50%     82516.5000  1.569017e+07     659.000000      37.000000       5.000000   \n75%    123774.7500  1.575682e+07     710.000000      42.000000       7.000000   \nmax    165033.0000  1.581569e+07     850.000000      92.000000      10.000000   \n\n             Balance  NumOfProducts      HasCrCard  IsActiveMember  \\\ncount  165034.000000  165034.000000  165034.000000   165034.000000   \nmean    55478.086689       1.554455       0.753954        0.497770   \nstd     62817.663278       0.547154       0.430707        0.499997   \nmin         0.000000       1.000000       0.000000        0.000000   \n25%         0.000000       1.000000       1.000000        0.000000   \n50%         0.000000       2.000000       1.000000        0.000000   \n75%    119939.517500       2.000000       1.000000        1.000000   \nmax    250898.090000       4.000000       1.000000        1.000000   \n\n       EstimatedSalary         Exited  \ncount    165034.000000  165034.000000  \nmean     112574.822734       0.211599  \nstd       50292.865585       0.408443  \nmin          11.580000       0.000000  \n25%       74637.570000       0.000000  \n50%      117948.000000       0.000000  \n75%      155152.467500       0.000000  \nmax      199992.480000       1.000000  ",
      "text/html": "<div>\n<style scoped>\n    .dataframe tbody tr th:only-of-type {\n        vertical-align: middle;\n    }\n\n    .dataframe tbody tr th {\n        vertical-align: top;\n    }\n\n    .dataframe thead th {\n        text-align: right;\n    }\n</style>\n<table border=\"1\" class=\"dataframe\">\n  <thead>\n    <tr style=\"text-align: right;\">\n      <th></th>\n      <th>id</th>\n      <th>CustomerId</th>\n      <th>CreditScore</th>\n      <th>Age</th>\n      <th>Tenure</th>\n      <th>Balance</th>\n      <th>NumOfProducts</th>\n      <th>HasCrCard</th>\n      <th>IsActiveMember</th>\n      <th>EstimatedSalary</th>\n      <th>Exited</th>\n    </tr>\n  </thead>\n  <tbody>\n    <tr>\n      <th>count</th>\n      <td>165034.0000</td>\n      <td>1.650340e+05</td>\n      <td>165034.000000</td>\n      <td>165034.000000</td>\n      <td>165034.000000</td>\n      <td>165034.000000</td>\n      <td>165034.000000</td>\n      <td>165034.000000</td>\n      <td>165034.000000</td>\n      <td>165034.000000</td>\n      <td>165034.000000</td>\n    </tr>\n    <tr>\n      <th>mean</th>\n      <td>82516.5000</td>\n      <td>1.569201e+07</td>\n      <td>656.454373</td>\n      <td>38.125888</td>\n      <td>5.020353</td>\n      <td>55478.086689</td>\n      <td>1.554455</td>\n      <td>0.753954</td>\n      <td>0.497770</td>\n      <td>112574.822734</td>\n      <td>0.211599</td>\n    </tr>\n    <tr>\n      <th>std</th>\n      <td>47641.3565</td>\n      <td>7.139782e+04</td>\n      <td>80.103340</td>\n      <td>8.867205</td>\n      <td>2.806159</td>\n      <td>62817.663278</td>\n      <td>0.547154</td>\n      <td>0.430707</td>\n      <td>0.499997</td>\n      <td>50292.865585</td>\n      <td>0.408443</td>\n    </tr>\n    <tr>\n      <th>min</th>\n      <td>0.0000</td>\n      <td>1.556570e+07</td>\n      <td>350.000000</td>\n      <td>18.000000</td>\n      <td>0.000000</td>\n      <td>0.000000</td>\n      <td>1.000000</td>\n      <td>0.000000</td>\n      <td>0.000000</td>\n      <td>11.580000</td>\n      <td>0.000000</td>\n    </tr>\n    <tr>\n      <th>25%</th>\n      <td>41258.2500</td>\n      <td>1.563314e+07</td>\n      <td>597.000000</td>\n      <td>32.000000</td>\n      <td>3.000000</td>\n      <td>0.000000</td>\n      <td>1.000000</td>\n      <td>1.000000</td>\n      <td>0.000000</td>\n      <td>74637.570000</td>\n      <td>0.000000</td>\n    </tr>\n    <tr>\n      <th>50%</th>\n      <td>82516.5000</td>\n      <td>1.569017e+07</td>\n      <td>659.000000</td>\n      <td>37.000000</td>\n      <td>5.000000</td>\n      <td>0.000000</td>\n      <td>2.000000</td>\n      <td>1.000000</td>\n      <td>0.000000</td>\n      <td>117948.000000</td>\n      <td>0.000000</td>\n    </tr>\n    <tr>\n      <th>75%</th>\n      <td>123774.7500</td>\n      <td>1.575682e+07</td>\n      <td>710.000000</td>\n      <td>42.000000</td>\n      <td>7.000000</td>\n      <td>119939.517500</td>\n      <td>2.000000</td>\n      <td>1.000000</td>\n      <td>1.000000</td>\n      <td>155152.467500</td>\n      <td>0.000000</td>\n    </tr>\n    <tr>\n      <th>max</th>\n      <td>165033.0000</td>\n      <td>1.581569e+07</td>\n      <td>850.000000</td>\n      <td>92.000000</td>\n      <td>10.000000</td>\n      <td>250898.090000</td>\n      <td>4.000000</td>\n      <td>1.000000</td>\n      <td>1.000000</td>\n      <td>199992.480000</td>\n      <td>1.000000</td>\n    </tr>\n  </tbody>\n</table>\n</div>"
     },
     "execution_count": 131,
     "metadata": {},
     "output_type": "execute_result"
    }
   ]
  },
  {
   "cell_type": "code",
   "source": [
    "# Label encoding for text data:\n",
    "encoder = LabelEncoder()\n",
    "categorical_features_train = synthetic_train_data.select_dtypes(include = 'object').columns\n",
    "print(\"Categorical features: \", categorical_features_train)\n",
    "for feature in categorical_features_train:\n",
    "    synthetic_train_data[feature] = encoder.fit_transform(synthetic_train_data[feature])\n",
    "\n",
    "# MinMax Scaler for credit score\n",
    "from sklearn.preprocessing import MinMaxScaler\n",
    "scaler = MinMaxScaler()\n",
    "synthetic_train_data['CreditScore'] = scaler.fit_transform(synthetic_train_data[['CreditScore']])\n",
    "\n",
    "# Robust Scaler for Balance\n",
    "from sklearn.preprocessing import RobustScaler\n",
    "scaler = RobustScaler()\n",
    "synthetic_train_data['Balance'] = scaler.fit_transform(synthetic_train_data[['Balance']])\n",
    "\n",
    "# MinMax Scaler for Estimated Salary\n",
    "scaler = MinMaxScaler()\n",
    "synthetic_train_data['EstimatedSalary'] = scaler.fit_transform(synthetic_train_data[['EstimatedSalary']])\n",
    "\n",
    "# Age / 100\n",
    "synthetic_train_data['Age'] = synthetic_train_data['Age'] / 100\n",
    "\n",
    "synthetic_train_data.drop(\"Surname\", axis=1, inplace=True)\n",
    "synthetic_train_data.drop(\"CustomerId\", axis=1, inplace=True)\n",
    "synthetic_train_data.drop(\"RowNumber\", axis=1, inplace=True)\n",
    "synthetic_train_data.dropna(inplace=True)\n",
    "\n",
    "X = synthetic_train_data.drop('Exited', axis=1)\n",
    "y = synthetic_train_data['Exited']\n"
   ],
   "metadata": {
    "colab": {
     "base_uri": "https://localhost:8080/"
    },
    "id": "GtZk7FrqEA49",
    "outputId": "285a94b7-ef85-4f06-938a-15c6a8ce709a",
    "ExecuteTime": {
     "end_time": "2024-02-06T18:59:48.452229Z",
     "start_time": "2024-02-06T18:59:48.298921Z"
    }
   },
   "execution_count": 111,
   "outputs": [
    {
     "name": "stdout",
     "output_type": "stream",
     "text": [
      "Categorical features:  Index(['Surname', 'Geography', 'Gender'], dtype='object')\n"
     ]
    }
   ]
  },
  {
   "cell_type": "code",
   "execution_count": 112,
   "outputs": [
    {
     "data": {
      "text/plain": "       CreditScore    Geography       Gender          Age       Tenure  \\\ncount  9999.000000  9999.000000  9999.000000  9999.000000  9999.000000   \nmean      0.601094     0.746575     0.545655     0.389214     5.013201   \nstd       0.193287     0.827719     0.497936     0.104880     2.892075   \nmin       0.000000     0.000000     0.000000     0.180000     0.000000   \n25%       0.468000     0.000000     0.000000     0.320000     3.000000   \n50%       0.604000     0.000000     1.000000     0.370000     5.000000   \n75%       0.736000     1.000000     1.000000     0.440000     7.000000   \nmax       1.000000     3.000000     1.000000     0.920000    10.000000   \n\n           Balance  NumOfProducts    HasCrCard  IsActiveMember  \\\ncount  9999.000000    9999.000000  9999.000000     9999.000000   \nmean     -0.162358       1.530253     0.705571        0.514851   \nstd       0.488804       0.581659     0.455809        0.499804   \nmin      -0.761459       1.000000     0.000000        0.000000   \n25%      -0.761459       1.000000     0.000000        0.000000   \n50%      -0.000318       1.000000     1.000000        1.000000   \n75%       0.238483       2.000000     1.000000        1.000000   \nmax       1.204090       4.000000     1.000000        1.000000   \n\n       EstimatedSalary  \ncount      9999.000000  \nmean          0.500444  \nstd           0.287603  \nmin           0.000000  \n25%           0.254834  \n50%           0.500992  \n75%           0.746974  \nmax           1.000000  ",
      "text/html": "<div>\n<style scoped>\n    .dataframe tbody tr th:only-of-type {\n        vertical-align: middle;\n    }\n\n    .dataframe tbody tr th {\n        vertical-align: top;\n    }\n\n    .dataframe thead th {\n        text-align: right;\n    }\n</style>\n<table border=\"1\" class=\"dataframe\">\n  <thead>\n    <tr style=\"text-align: right;\">\n      <th></th>\n      <th>CreditScore</th>\n      <th>Geography</th>\n      <th>Gender</th>\n      <th>Age</th>\n      <th>Tenure</th>\n      <th>Balance</th>\n      <th>NumOfProducts</th>\n      <th>HasCrCard</th>\n      <th>IsActiveMember</th>\n      <th>EstimatedSalary</th>\n    </tr>\n  </thead>\n  <tbody>\n    <tr>\n      <th>count</th>\n      <td>9999.000000</td>\n      <td>9999.000000</td>\n      <td>9999.000000</td>\n      <td>9999.000000</td>\n      <td>9999.000000</td>\n      <td>9999.000000</td>\n      <td>9999.000000</td>\n      <td>9999.000000</td>\n      <td>9999.000000</td>\n      <td>9999.000000</td>\n    </tr>\n    <tr>\n      <th>mean</th>\n      <td>0.601094</td>\n      <td>0.746575</td>\n      <td>0.545655</td>\n      <td>0.389214</td>\n      <td>5.013201</td>\n      <td>-0.162358</td>\n      <td>1.530253</td>\n      <td>0.705571</td>\n      <td>0.514851</td>\n      <td>0.500444</td>\n    </tr>\n    <tr>\n      <th>std</th>\n      <td>0.193287</td>\n      <td>0.827719</td>\n      <td>0.497936</td>\n      <td>0.104880</td>\n      <td>2.892075</td>\n      <td>0.488804</td>\n      <td>0.581659</td>\n      <td>0.455809</td>\n      <td>0.499804</td>\n      <td>0.287603</td>\n    </tr>\n    <tr>\n      <th>min</th>\n      <td>0.000000</td>\n      <td>0.000000</td>\n      <td>0.000000</td>\n      <td>0.180000</td>\n      <td>0.000000</td>\n      <td>-0.761459</td>\n      <td>1.000000</td>\n      <td>0.000000</td>\n      <td>0.000000</td>\n      <td>0.000000</td>\n    </tr>\n    <tr>\n      <th>25%</th>\n      <td>0.468000</td>\n      <td>0.000000</td>\n      <td>0.000000</td>\n      <td>0.320000</td>\n      <td>3.000000</td>\n      <td>-0.761459</td>\n      <td>1.000000</td>\n      <td>0.000000</td>\n      <td>0.000000</td>\n      <td>0.254834</td>\n    </tr>\n    <tr>\n      <th>50%</th>\n      <td>0.604000</td>\n      <td>0.000000</td>\n      <td>1.000000</td>\n      <td>0.370000</td>\n      <td>5.000000</td>\n      <td>-0.000318</td>\n      <td>1.000000</td>\n      <td>1.000000</td>\n      <td>1.000000</td>\n      <td>0.500992</td>\n    </tr>\n    <tr>\n      <th>75%</th>\n      <td>0.736000</td>\n      <td>1.000000</td>\n      <td>1.000000</td>\n      <td>0.440000</td>\n      <td>7.000000</td>\n      <td>0.238483</td>\n      <td>2.000000</td>\n      <td>1.000000</td>\n      <td>1.000000</td>\n      <td>0.746974</td>\n    </tr>\n    <tr>\n      <th>max</th>\n      <td>1.000000</td>\n      <td>3.000000</td>\n      <td>1.000000</td>\n      <td>0.920000</td>\n      <td>10.000000</td>\n      <td>1.204090</td>\n      <td>4.000000</td>\n      <td>1.000000</td>\n      <td>1.000000</td>\n      <td>1.000000</td>\n    </tr>\n  </tbody>\n</table>\n</div>"
     },
     "execution_count": 112,
     "metadata": {},
     "output_type": "execute_result"
    }
   ],
   "source": [
    "X.describe()\n"
   ],
   "metadata": {
    "collapsed": false,
    "ExecuteTime": {
     "end_time": "2024-02-06T18:59:48.547327Z",
     "start_time": "2024-02-06T18:59:48.441335Z"
    }
   }
  }
 ]
}
